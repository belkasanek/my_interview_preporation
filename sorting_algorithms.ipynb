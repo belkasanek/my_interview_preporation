{
 "cells": [
  {
   "cell_type": "code",
   "execution_count": 1,
   "metadata": {
    "collapsed": false,
    "deletable": true,
    "editable": true
   },
   "outputs": [
    {
     "name": "stdout",
     "output_type": "stream",
     "text": [
      "[1, 3, 4, 6, 9, 14, 20, 21, 21, 25]\n"
     ]
    }
   ],
   "source": [
    "def insertionsort(arr):\n",
    "    for i in range(1, len(arr)): \n",
    "        key = arr[i] \n",
    "        j = i-1\n",
    "        while j >=0 and key < arr[j] : \n",
    "                arr[j+1] = arr[j] \n",
    "                j -= 1\n",
    "        arr[j+1] = key \n",
    "    return arr\n",
    "\n",
    "test = [21, 4, 1, 3, 9, 20, 25, 6, 21, 14]\n",
    "print(insertionsort(test))"
   ]
  },
  {
   "cell_type": "code",
   "execution_count": 6,
   "metadata": {
    "collapsed": false,
    "deletable": true,
    "editable": true
   },
   "outputs": [
    {
     "name": "stdout",
     "output_type": "stream",
     "text": [
      "[1, 3, 4, 6, 9, 14, 20, 21, 21, 25]\n"
     ]
    }
   ],
   "source": [
    "def partition(arr, low, high): \n",
    "    pivot = arr[high]\n",
    "    i = low \n",
    "    for j in range(low, high):\n",
    "        if arr[j] <= pivot: \n",
    "            arr[i], arr[j] = arr[j], arr[i]\n",
    "            i += 1\n",
    "    arr[high], arr[i] = arr[i], arr[high]\n",
    "    return i\n",
    "\n",
    "def quicksort(arr, low, high): \n",
    "    if low < high: \n",
    "        pi = partition(arr, low, high) \n",
    "        \n",
    "        quicksort(arr, low, pi-1) \n",
    "        quicksort(arr, pi+1, high) \n",
    "    return arr\n",
    "\n",
    "test = [21, 4, 1, 3, 9, 20, 25, 6, 21, 14]\n",
    "print(quicksort(test, 0, len(test)-1))"
   ]
  },
  {
   "cell_type": "code",
   "execution_count": 15,
   "metadata": {
    "collapsed": false,
    "deletable": true,
    "editable": true
   },
   "outputs": [
    {
     "name": "stdout",
     "output_type": "stream",
     "text": [
      "[1, 3, 4, 6, 9, 19, 20, 21, 21, 25]\n"
     ]
    }
   ],
   "source": [
    "def mergeSort(arr):    \n",
    "    current_size = 1\n",
    "    while current_size < len(arr): \n",
    "        left = 0\n",
    "        while left < len(arr) - 1: \n",
    "            mid = left + current_size - 1\n",
    "            right = left + 2 * current_size - 1\n",
    "            \n",
    "            if right > len(arr) - 1:\n",
    "                right = len(arr) - 1\n",
    "                \n",
    "            if mid > len(arr) - 1:\n",
    "                break\n",
    "            \n",
    "            merge(arr, left, mid, right) \n",
    "            left = left + current_size * 2\n",
    "              \n",
    "        current_size = 2 * current_size \n",
    "\n",
    "def merge(arr, l, m, r): \n",
    "    n1 = m - l + 1\n",
    "    n2 = r - m\n",
    "    \n",
    "    L = arr[l: m + 1]\n",
    "    R = arr[m + 1: r + 1]\n",
    "    \n",
    "    i, j, k = 0, 0, l \n",
    "    while i < n1 and j < n2: \n",
    "        if L[i] > R[j]: \n",
    "            arr[k] = R[j] \n",
    "            j += 1\n",
    "        else: \n",
    "            arr[k] = L[i] \n",
    "            i += 1\n",
    "        k += 1\n",
    "  \n",
    "    while i < n1: \n",
    "        arr[k] = L[i] \n",
    "        i += 1\n",
    "        k += 1\n",
    "  \n",
    "    while j < n2: \n",
    "        arr[k] = R[j] \n",
    "        j += 1\n",
    "        k += 1\n",
    "        \n",
    "test = [21, 4, 1, 3, 9, 20, 25, 6, 21, 19]\n",
    "mergeSort(test) \n",
    "print(test)"
   ]
  },
  {
   "cell_type": "code",
   "execution_count": 7,
   "metadata": {
    "collapsed": false,
    "deletable": true,
    "editable": true
   },
   "outputs": [
    {
     "name": "stdout",
     "output_type": "stream",
     "text": [
      "[25, 21, 21, 6, 19, 20, 1, 4, 3, 9]\n",
      "[1, 3, 4, 6, 9, 19, 20, 21, 21, 25]\n"
     ]
    }
   ],
   "source": [
    "def heapify(arr, n, i): \n",
    "    largest = i\n",
    "    l = 2 * i + 1\n",
    "    r = 2 * i + 2\n",
    "\n",
    "    if l < n and arr[i] < arr[l]: \n",
    "        largest = l \n",
    "  \n",
    "    if r < n and arr[largest] < arr[r]: \n",
    "        largest = r \n",
    "  \n",
    "    if largest != i: \n",
    "        arr[i], arr[largest] = arr[largest], arr[i]\n",
    "        heapify(arr, n, largest) \n",
    "\n",
    "def heapSort(arr): \n",
    "    n = len(arr) \n",
    "\n",
    "    for i in range(int(n/2 - 1), -1, -1): \n",
    "        heapify(arr, n, i)\n",
    "        \n",
    "    for i in range(n-1, 0, -1):\n",
    "        arr[0], arr[i] = arr[i], arr[0]\n",
    "        heapify(arr, i, 0) \n",
    "\n",
    "test = [21, 4, 1, 3, 9, 20, 25, 6, 21, 19]\n",
    "heapSort(test) \n",
    "print(test)"
   ]
  }
 ],
 "metadata": {
  "kernelspec": {
   "display_name": "Python 3",
   "language": "python",
   "name": "python3"
  },
  "language_info": {
   "codemirror_mode": {
    "name": "ipython",
    "version": 3
   },
   "file_extension": ".py",
   "mimetype": "text/x-python",
   "name": "python",
   "nbconvert_exporter": "python",
   "pygments_lexer": "ipython3",
   "version": "3.4.3"
  }
 },
 "nbformat": 4,
 "nbformat_minor": 2
}
