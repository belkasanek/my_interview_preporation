{
 "cells": [
  {
   "cell_type": "markdown",
   "metadata": {
    "deletable": true,
    "editable": true
   },
   "source": [
    "## SQL Questions"
   ]
  },
  {
   "cell_type": "markdown",
   "metadata": {
    "deletable": true,
    "editable": true
   },
   "source": [
    "### Different types of SQL commands\n",
    "* #### DDL – Data Definition Language\n",
    "* #### DML – Data Manipulation Language\n",
    "* #### DQL – Data Query Language\n",
    "* #### DCL – Data Control Language\n",
    "* #### TCL – Transaction Control Language"
   ]
  },
  {
   "cell_type": "markdown",
   "metadata": {
    "deletable": true,
    "editable": true
   },
   "source": [
    "### DDL\n",
    "#### DDL commands are used to define or alter the structure of the database.\n",
    "* #### CREATE: To create databases and database objects\n",
    "* #### ALTER: To alter existing database objects\n",
    "* #### DROP: To drop databases and databases objects\n",
    "* #### TRUNCATE: To remove all records from a table but not its database structure\n",
    "* #### RENAME: To rename database objects"
   ]
  },
  {
   "cell_type": "markdown",
   "metadata": {
    "deletable": true,
    "editable": true
   },
   "source": [
    "### DML\n",
    "#### DML commands are used for managing data present in the database.\n",
    "* #### SELECT: To select specific data from a database\n",
    "* #### INSERT: To insert new records into a table\n",
    "* #### UPDATE: To update existing records\n",
    "* #### DELETE: To delete existing records from a table"
   ]
  },
  {
   "cell_type": "markdown",
   "metadata": {
    "deletable": true,
    "editable": true
   },
   "source": [
    "### DCL\n",
    "#### DCL commands are used to create roles, grant permission and control access to the database objects.\n",
    "* #### GRANT: To provide user access\n",
    "* #### DENY: To deny permissions to users\n",
    "* #### REVOKE: To remove user access"
   ]
  },
  {
   "cell_type": "markdown",
   "metadata": {
    "deletable": true,
    "editable": true
   },
   "source": [
    "### TCL\n",
    "#### TCL commands are used to manage the changes made by DML statements.\n",
    "* #### COMMIT: To write and store the changes to the database\n",
    "* #### ROLLBACK: To restore the database since the last commit"
   ]
  },
  {
   "cell_type": "markdown",
   "metadata": {
    "deletable": true,
    "editable": true
   },
   "source": [
    "### What is an Index?\n",
    "#### Indexes are special lookup tables that the database search engine can use to speed up data retrieval."
   ]
  },
  {
   "cell_type": "markdown",
   "metadata": {
    "deletable": true,
    "editable": true
   },
   "source": [
    "### What is a View?\n",
    "#### A view is like a subset of a table which is stored logically in a database. A view is a virtual table. It contains rows and columns similar to a real table. The fields in the view are fields from one or more real tables. Views do not contain data of their own. They are used to restrict access to the database or to hide data complexity."
   ]
  },
  {
   "cell_type": "markdown",
   "metadata": {
    "deletable": true,
    "editable": true
   },
   "source": [
    "### What are SQL constraints?\n",
    "#### SQL constraints are the set of rules that enforced some restriction while inserting, deleting or updating of data in the databases. Some of the constraints in SQL are – Primary Key, Foreign Key, Unique Key, SQL Not Null, Default, Check and Index constraint.\n",
    "* #### A unique constraint is used to ensure that there are no duplication values in the field/column.\n",
    "* #### A PRIMARY KEY constraint uniquely identifies each record in a database table. All columns participating in a primary key constraint must not contain NULL values.\n",
    "* #### A FOREIGN KEY is a key used to link two tables together. A FOREIGN KEY in a table is linked with the PRIMARY KEY of another table.\n",
    "* #### NOT NULL constraint is used to ensure that the value in the filed cannot be a NULL.\n",
    "* #### A CHECK constraint is used to limit the value that is accepted by one or more columns.\n",
    "* #### DEFAULT constraint is used to include a default value in a column when no value is supplied at the time of inserting a record."
   ]
  },
  {
   "cell_type": "markdown",
   "metadata": {
    "deletable": true,
    "editable": true
   },
   "source": [
    "### What is Normalization?\n",
    "#### Normalization is the process of table design to minimize the data redundancy. \n",
    "\n",
    "### 1NF\n",
    "* #### Each row is unique\n",
    "* #### Each cell contains one value\n",
    "\n",
    "### 2NF\n",
    "* #### Every non-prime attribute of the relation is dependent on the whole of every candidate key.\n",
    "\n",
    "### 3NF\n",
    "* #### All the attributes in a table are determined only by the candidate keys of that relation and not by any non-prime attributes."
   ]
  },
  {
   "cell_type": "markdown",
   "metadata": {
    "deletable": true,
    "editable": true
   },
   "source": [
    "### What is the difference between Having and Where clause?\n",
    "#### Where clause is used to fetch data from a database that specifies particular criteria whereas a Having clause is used along with ‘GROUP BY’ to fetch data that meets particular criteria specified by the Aggregate functions. Where clause cannot be used with Aggregate functions, but the Having clause can."
   ]
  },
  {
   "cell_type": "markdown",
   "metadata": {
    "deletable": true,
    "editable": true
   },
   "source": [
    "### SQL ACID (Realtion: tuple: attribute)\n",
    "* #### Atomicity guarantees that each transaction is treated as a single \"unit\", which either succeeds completely, or fails completely.\n",
    "* #### Consistency ensures that a transaction can only bring the database from one valid state to another, maintaining database invariants: any data written to the database must be valid according to all defined rules, including constraints, cascades, triggers.\n",
    "* #### Transactions are often executed concurrently (reading and writing to multiple tables at the same time). Isolation ensures that concurrent execution of transactions leaves the database in the same state that would have been obtained if the transactions were executed sequentially.\n",
    "* #### Durability guarantees that once a transaction has been committed, it will remain committed even in the case of a system failure."
   ]
  },
  {
   "cell_type": "markdown",
   "metadata": {
    "deletable": true,
    "editable": true
   },
   "source": [
    "### NoSQL BASE\n",
    "* #### Basically Available\n",
    "* #### Soft state\n",
    "* #### Eventual consistency"
   ]
  }
 ],
 "metadata": {
  "kernelspec": {
   "display_name": "Python 3",
   "language": "python",
   "name": "python3"
  },
  "language_info": {
   "codemirror_mode": {
    "name": "ipython",
    "version": 3
   },
   "file_extension": ".py",
   "mimetype": "text/x-python",
   "name": "python",
   "nbconvert_exporter": "python",
   "pygments_lexer": "ipython3",
   "version": "3.4.3"
  }
 },
 "nbformat": 4,
 "nbformat_minor": 2
}
