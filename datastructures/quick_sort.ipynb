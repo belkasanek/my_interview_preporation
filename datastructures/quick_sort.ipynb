{
 "cells": [
  {
   "cell_type": "code",
   "execution_count": 15,
   "metadata": {
    "collapsed": true
   },
   "outputs": [],
   "source": [
    "import math\n",
    "import random\n",
    "from linked_list_ds import LinkedQueue"
   ]
  },
  {
   "cell_type": "code",
   "execution_count": 2,
   "metadata": {
    "collapsed": true
   },
   "outputs": [],
   "source": [
    "def quick_sort(S):\n",
    "    \"\"\"Sort the elements of queue S using the quick-sort algorithm.\"\"\"\n",
    "    n = len(S)\n",
    "    if n < 2:\n",
    "        return                            # list is already sorted\n",
    "    # divide\n",
    "    p = S.first()                       # using first as arbitrary pivot\n",
    "    L = LinkedQueue()\n",
    "    E = LinkedQueue()\n",
    "    G = LinkedQueue()\n",
    "    while not S.is_empty():             # divide S into L, E, and G\n",
    "        if S.first() < p:\n",
    "            L.enqueue(S.dequeue())\n",
    "        elif p < S.first():\n",
    "            G.enqueue(S.dequeue())\n",
    "        else:                             # S.first() must equal pivot\n",
    "            E.enqueue(S.dequeue())\n",
    "    # conquer (with recursion)\n",
    "    quick_sort(L)                       # sort elements less than p\n",
    "    quick_sort(G)                       # sort elements greater than p\n",
    "    # concatenate results\n",
    "    while not L.is_empty():\n",
    "        S.enqueue(L.dequeue())\n",
    "    while not E.is_empty():\n",
    "        S.enqueue(E.dequeue())\n",
    "    while not G.is_empty():\n",
    "        S.enqueue(G.dequeue())"
   ]
  },
  {
   "cell_type": "code",
   "execution_count": 4,
   "metadata": {
    "collapsed": false
   },
   "outputs": [
    {
     "name": "stdout",
     "output_type": "stream",
     "text": [
      "Queue: front [5, 2, 9, 6, 8, 3] end\n",
      "Queue: front [2, 3, 5, 6, 8, 9] end\n"
     ]
    }
   ],
   "source": [
    "s = LinkedQueue()\n",
    "for i in [5, 2, 9, 6, 8, 3]:\n",
    "    s.enqueue(i) \n",
    "print(s)\n",
    "quick_sort(s)\n",
    "print(s)"
   ]
  },
  {
   "cell_type": "code",
   "execution_count": 5,
   "metadata": {
    "collapsed": true
   },
   "outputs": [],
   "source": [
    "def inplace_quick_sort(S, a, b):\n",
    "    \"\"\"Sort the list from S[a] to S[b] inclusive using the quick-sort algorithm.\"\"\"\n",
    "    if a >= b: \n",
    "        return                                      # range is trivially sorted\n",
    "    pivot = S[b]                                           # last element of range is pivot\n",
    "    left = a                                               # will scan rightward\n",
    "    right = b-1                                            # will scan leftward\n",
    "    while left <= right:\n",
    "        # scan until reaching value equal or larger than pivot (or right marker)\n",
    "        while left <= right and S[left] < pivot:\n",
    "            left += 1\n",
    "        # scan until reaching value equal or smaller than pivot (or left marker)\n",
    "        while left <= right and pivot < S[right]:\n",
    "            right -= 1\n",
    "        if left <= right:                                    # scans did not strictly cross\n",
    "            S[left], S[right] = S[right], S[left]              # swap values\n",
    "            left, right = left + 1, right - 1                  # shrink range\n",
    "\n",
    "    # put pivot into its final place (currently marked by left index)\n",
    "    S[left], S[b] = S[b], S[left]\n",
    "    # make recursive calls\n",
    "    inplace_quick_sort(S, a, left - 1)\n",
    "    inplace_quick_sort(S, left + 1, b)"
   ]
  },
  {
   "cell_type": "code",
   "execution_count": 13,
   "metadata": {
    "collapsed": false
   },
   "outputs": [
    {
     "name": "stdout",
     "output_type": "stream",
     "text": [
      "[2, 3, 5, 6, 8, 9]\n"
     ]
    }
   ],
   "source": [
    "s = [5, 2, 9, 6, 8, 3]\n",
    "inplace_quick_sort(s, 0, len(s)-1) \n",
    "print(s)"
   ]
  },
  {
   "cell_type": "code",
   "execution_count": 16,
   "metadata": {
    "collapsed": true
   },
   "outputs": [],
   "source": [
    "def quick_select(S, k):\n",
    "    \"\"\"Return the kth smallest element of list S, for k from 1 to len(S).\"\"\"\n",
    "    if len(S) == 1:\n",
    "        return S[0]\n",
    "    pivot = random.choice(S)             # pick random pivot element from S\n",
    "    L = [x for x in S if x < pivot]      # elements less than pivot\n",
    "    E = [x for x in S if x == pivot]     # elements equal to pivot\n",
    "    G = [x for x in S if pivot < x]      # elements greater than pivot\n",
    "    if k <= len(L):\n",
    "        return quick_select(L, k)          # kth smallest lies in L\n",
    "    elif k <= len(L) + len(E):\n",
    "        return pivot                       # kth smallest equal to pivot\n",
    "    else:\n",
    "        j = k - len(L) - len(E)            # new selection parameter\n",
    "        return quick_select(G, j)          # kth smallest is jth in G"
   ]
  },
  {
   "cell_type": "code",
   "execution_count": 22,
   "metadata": {
    "collapsed": false
   },
   "outputs": [
    {
     "name": "stdout",
     "output_type": "stream",
     "text": [
      "2\n"
     ]
    }
   ],
   "source": [
    "s = [5, 2, 9, 6, 8, 3]\n",
    "print(quick_select(s, 1)) "
   ]
  },
  {
   "cell_type": "code",
   "execution_count": null,
   "metadata": {
    "collapsed": true
   },
   "outputs": [],
   "source": []
  }
 ],
 "metadata": {
  "kernelspec": {
   "display_name": "Python 3",
   "language": "python",
   "name": "python3"
  },
  "language_info": {
   "codemirror_mode": {
    "name": "ipython",
    "version": 3
   },
   "file_extension": ".py",
   "mimetype": "text/x-python",
   "name": "python",
   "nbconvert_exporter": "python",
   "pygments_lexer": "ipython3",
   "version": "3.4.3"
  }
 },
 "nbformat": 4,
 "nbformat_minor": 2
}
