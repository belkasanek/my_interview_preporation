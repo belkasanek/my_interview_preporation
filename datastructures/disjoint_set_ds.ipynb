{
 "cells": [
  {
   "cell_type": "markdown",
   "metadata": {},
   "source": [
    "### Disjoint-set data structure is a data structure that tracks a set of elements partitioned into a number of disjoint (non-overlapping) subsets. It provides near-constant-time operations to add new sets, to merge existing sets, and to determine whether elements are in the same set. "
   ]
  },
  {
   "cell_type": "code",
   "execution_count": 33,
   "metadata": {
    "collapsed": true
   },
   "outputs": [],
   "source": [
    "class DisjointSet:\n",
    "    \"\"\"Disjoint set data structure\"\"\"\n",
    "    \n",
    "    def __init__(self):\n",
    "        \"\"\"Create empty set\"\"\"\n",
    "        self._parent = []\n",
    "        self._rank = []\n",
    "        self._size = 0\n",
    "    \n",
    "    def makeset(self, i):\n",
    "        if self._size < i:\n",
    "            for j in range(self._size, i+1):\n",
    "                self._parent.append(None)\n",
    "                self._rank.append(0)\n",
    "            self._size = i + 1\n",
    "        self._parent[i] = i\n",
    "        self._rank[i] = 0\n",
    "    \n",
    "    def find(self, i):\n",
    "        while i != self._parent[i]:\n",
    "            i = self.find(self._parent[i])\n",
    "        return self._parent[i]\n",
    "    \n",
    "    def union(self, i, j):\n",
    "        i_id = self.find(i)\n",
    "        j_id = self.find(j)\n",
    "        if i_id == j_id:\n",
    "            return\n",
    "        if self._rank[i_id] > self._rank[j_id]:\n",
    "            self._parent[j_id] = i_id\n",
    "        else:\n",
    "            self._parent[i_id] = j_id\n",
    "            if self._rank[i_id] == self._rank[j_id]:\n",
    "                self._rank[j_id] += 1"
   ]
  },
  {
   "cell_type": "code",
   "execution_count": 34,
   "metadata": {
    "collapsed": true
   },
   "outputs": [],
   "source": [
    "ds = DisjointSet()"
   ]
  },
  {
   "cell_type": "code",
   "execution_count": 58,
   "metadata": {
    "collapsed": true
   },
   "outputs": [],
   "source": [
    "ds.makeset(5)\n",
    "ds.makeset(3)\n",
    "ds.makeset(1)\n",
    "ds.makeset(2)\n",
    "ds.makeset(4)"
   ]
  },
  {
   "cell_type": "code",
   "execution_count": 65,
   "metadata": {
    "collapsed": false
   },
   "outputs": [
    {
     "data": {
      "text/plain": [
       "[None, 2, 2, 2, 2, 5]"
      ]
     },
     "execution_count": 65,
     "metadata": {},
     "output_type": "execute_result"
    }
   ],
   "source": [
    "ds._parent"
   ]
  },
  {
   "cell_type": "code",
   "execution_count": 63,
   "metadata": {
    "collapsed": true
   },
   "outputs": [],
   "source": [
    "ds.union(1, 2)\n",
    "ds.union(1, 3)\n",
    "ds.union(2, 4)"
   ]
  },
  {
   "cell_type": "code",
   "execution_count": 64,
   "metadata": {
    "collapsed": false
   },
   "outputs": [
    {
     "data": {
      "text/plain": [
       "[0, 0, 1, 0, 0, 0]"
      ]
     },
     "execution_count": 64,
     "metadata": {},
     "output_type": "execute_result"
    }
   ],
   "source": [
    "ds._rank"
   ]
  },
  {
   "cell_type": "code",
   "execution_count": null,
   "metadata": {
    "collapsed": true
   },
   "outputs": [],
   "source": []
  }
 ],
 "metadata": {
  "kernelspec": {
   "display_name": "Python 3",
   "language": "python",
   "name": "python3"
  },
  "language_info": {
   "codemirror_mode": {
    "name": "ipython",
    "version": 3
   },
   "file_extension": ".py",
   "mimetype": "text/x-python",
   "name": "python",
   "nbconvert_exporter": "python",
   "pygments_lexer": "ipython3",
   "version": "3.4.3"
  }
 },
 "nbformat": 4,
 "nbformat_minor": 2
}
