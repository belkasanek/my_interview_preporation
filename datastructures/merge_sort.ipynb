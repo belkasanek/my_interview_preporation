{
 "cells": [
  {
   "cell_type": "code",
   "execution_count": 18,
   "metadata": {
    "collapsed": true
   },
   "outputs": [],
   "source": [
    "import math\n",
    "\n",
    "from linked_list_ds import LinkedQueue"
   ]
  },
  {
   "cell_type": "code",
   "execution_count": 22,
   "metadata": {
    "collapsed": true
   },
   "outputs": [],
   "source": [
    "def merge(S1, S2, S):\n",
    "    \"\"\"Merge two sorted Python lists S1 and S2 into properly sized list S.\"\"\"\n",
    "    i = j = 0\n",
    "    while i + j < len(S):\n",
    "        if j == len(S2) or (i < len(S1) and S1[i] < S2[j]):\n",
    "            S[i+j] = S1[i]      # copy ith element of S1 as next item of S\n",
    "            i += 1\n",
    "        else:\n",
    "            S[i+j] = S2[j]      # copy jth element of S2 as next item of S\n",
    "            j += 1\n",
    "\n",
    "def merge_sort(S):\n",
    "    \"\"\"Sort the elements of Python list S using the merge-sort algorithm.\"\"\"\n",
    "    n = len(S)\n",
    "    if n < 2:\n",
    "        return                # list is already sorted\n",
    "    # divide\n",
    "    mid = n // 2\n",
    "    S1 = S[0:mid]           # copy of first half\n",
    "    S2 = S[mid:n]           # copy of second half\n",
    "    # conquer (with recursion)\n",
    "    merge_sort(S1)          # sort copy of first half\n",
    "    merge_sort(S2)          # sort copy of second half\n",
    "    # merge results\n",
    "    merge(S1, S2, S)        # merge sorted halves back into S"
   ]
  },
  {
   "cell_type": "code",
   "execution_count": 23,
   "metadata": {
    "collapsed": false
   },
   "outputs": [
    {
     "data": {
      "text/plain": [
       "[-1, 1, 2, 3, 4]"
      ]
     },
     "execution_count": 23,
     "metadata": {},
     "output_type": "execute_result"
    }
   ],
   "source": [
    "s = [2, 1, 3, 4, -1]\n",
    "merge_sort(s)\n",
    "s"
   ]
  },
  {
   "cell_type": "code",
   "execution_count": 4,
   "metadata": {
    "collapsed": true
   },
   "outputs": [],
   "source": [
    "def merge(S1, S2, S):\n",
    "    \"\"\"Merge two sorted queue instances S1 and S2 into empty queue S.\"\"\"\n",
    "    while not S1.is_empty() and not S2.is_empty():\n",
    "        if S1.first() < S2.first():\n",
    "            S.enqueue(S1.dequeue())\n",
    "        else:\n",
    "            S.enqueue(S2.dequeue())\n",
    "    while not S1.is_empty():            # move remaining elements of S1 to S\n",
    "        S.enqueue(S1.dequeue())\n",
    "    while not S2.is_empty():            # move remaining elements of S2 to S\n",
    "        S.enqueue(S2.dequeue())\n",
    "\n",
    "def merge_sort(S):\n",
    "    \"\"\"Sort the elements of queue S using the merge-sort algorithm.\"\"\"\n",
    "    n = len(S)\n",
    "    if n < 2:\n",
    "        return                            # list is already sorted\n",
    "    # divide\n",
    "    S1 = LinkedQueue()                  # or any other queue implementation\n",
    "    S2 = LinkedQueue()\n",
    "    while len(S1) < n // 2:             # move the first n//2 elements to S1\n",
    "        S1.enqueue(S.dequeue())\n",
    "    while not S.is_empty():             # move the rest to S2\n",
    "        S2.enqueue(S.dequeue())\n",
    "    # conquer (with recursion)\n",
    "    merge_sort(S1)                      # sort first half\n",
    "    merge_sort(S2)                      # sort second half\n",
    "    # merge results\n",
    "    merge(S1, S2, S)                    # merge sorted halves back into S"
   ]
  },
  {
   "cell_type": "code",
   "execution_count": 17,
   "metadata": {
    "collapsed": false
   },
   "outputs": [
    {
     "name": "stdout",
     "output_type": "stream",
     "text": [
      "Queue: front [5, 2, 9, 6, 8, 3] end\n",
      "Queue: front [2, 3, 5, 6, 8, 9] end\n"
     ]
    }
   ],
   "source": [
    "s = LinkedQueue()\n",
    "for i in [5, 2, 9, 6, 8, 3]:\n",
    "    s.enqueue(i) \n",
    "print(s)\n",
    "merge_sort(s)\n",
    "print(s)"
   ]
  },
  {
   "cell_type": "code",
   "execution_count": 36,
   "metadata": {
    "collapsed": false
   },
   "outputs": [],
   "source": [
    "def merge(src, result, start, inc):\n",
    "    \"\"\"Merge src[start:start+inc] and src[start+inc:start+2*inc] into result.\"\"\"\n",
    "    end1 = start+inc                        # boundary for run 1\n",
    "    end2 = min(start + 2*inc, len(src))       # boundary for run 2\n",
    "    x, y, z = start, start + inc, start       # index into run 1, run 2, result\n",
    "    while x < end1 and y < end2:\n",
    "        if src[x] < src[y]:\n",
    "            result[z] = src[x]\n",
    "            x += 1\n",
    "        else:\n",
    "            result[z] = src[y]\n",
    "            y += 1\n",
    "        z += 1                                # increment z to reflect new result\n",
    "    if x < end1:\n",
    "        result[z:end2] = src[x:end1]          # copy remainder of run 1 to output\n",
    "    elif y < end2:\n",
    "        result[z:end2] = src[y:end2]          # copy remainder of run 2 to output\n",
    "\n",
    "def merge_sort(S):\n",
    "    \"\"\"Sort the elements of Python list S using the merge-sort algorithm.\"\"\"\n",
    "    n = len(S)\n",
    "    logn = math.ceil(math.log(n, 2))\n",
    "    src, dest = S, [None] * n               # make temporary storage for dest\n",
    "    for i in (2**k for k in range(logn)):   # pass i creates all runs of length 2i\n",
    "        for j in range(0, n, 2*i):            # each pass merges two length i runs\n",
    "            merge(src, dest, j, i)\n",
    "        src, dest = dest, src                 # reverse roles of lists\n",
    "    if S is not src:\n",
    "        S[0:n] = src[0:n]                     # additional copy to get results to S"
   ]
  },
  {
   "cell_type": "code",
   "execution_count": 37,
   "metadata": {
    "collapsed": false
   },
   "outputs": [
    {
     "data": {
      "text/plain": [
       "[-1, 1, 2, 3, 4]"
      ]
     },
     "execution_count": 37,
     "metadata": {},
     "output_type": "execute_result"
    }
   ],
   "source": [
    "s = [2, 1, 3, 4, -1]\n",
    "merge_sort(s)\n",
    "s"
   ]
  },
  {
   "cell_type": "code",
   "execution_count": null,
   "metadata": {
    "collapsed": true
   },
   "outputs": [],
   "source": []
  }
 ],
 "metadata": {
  "kernelspec": {
   "display_name": "Python 3",
   "language": "python",
   "name": "python3"
  },
  "language_info": {
   "codemirror_mode": {
    "name": "ipython",
    "version": 3
   },
   "file_extension": ".py",
   "mimetype": "text/x-python",
   "name": "python",
   "nbconvert_exporter": "python",
   "pygments_lexer": "ipython3",
   "version": "3.4.3"
  }
 },
 "nbformat": 4,
 "nbformat_minor": 2
}
