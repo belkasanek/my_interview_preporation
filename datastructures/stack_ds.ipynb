{
 "cells": [
  {
   "cell_type": "code",
   "execution_count": 1,
   "metadata": {
    "collapsed": true,
    "deletable": true,
    "editable": true
   },
   "outputs": [],
   "source": [
    "from exceptions import * "
   ]
  },
  {
   "cell_type": "code",
   "execution_count": 2,
   "metadata": {
    "collapsed": false,
    "deletable": true,
    "editable": true
   },
   "outputs": [],
   "source": [
    "class ArrayStack:\n",
    "    \"\"\"LIFO Stack implementation using a Python list as underlying storage.\"\"\"\n",
    "    \n",
    "    def __init__(self):\n",
    "        \"\"\"Create an empty stack.\"\"\"\n",
    "        self._data = []\n",
    "        \n",
    "    def __len__(self):\n",
    "        \"\"\"Return the number of elements in the stack.\"\"\"\n",
    "        return len(self._data)\n",
    "    \n",
    "    def __str__(self):\n",
    "        \"\"\"Return string represintation of the stack.\"\"\"\n",
    "        return 'Stack: bottom [' + ', '.join([str(e) for e in self._data]) + '] top'\n",
    "    \n",
    "    def is_empty(self):\n",
    "        \"\"\"Return True if the stack is empty.\"\"\"\n",
    "        return len(self._data) == 0\n",
    "    \n",
    "    def push(self, e):\n",
    "        \"\"\"Add an element e to the top of the stack.\"\"\"\n",
    "        self._data.append(e)\n",
    "        \n",
    "    def pop(self):\n",
    "        \"\"\"Remove and return the element from the top of the stack.\n",
    "        \n",
    "        Raise Empty exception if the stack is empty.\n",
    "        \"\"\"\n",
    "        if self.is_empty():\n",
    "            raise Empty('Stack is empty')\n",
    "        return self._data.pop()       \n",
    "    \n",
    "    def top(self):\n",
    "        \"\"\"Return (but not remove) the element at the top of the stack.\n",
    "        \n",
    "        Raise Empty exception if the stack is empty.\n",
    "        \"\"\"\n",
    "        if self.is_empty():\n",
    "            raise Empty('Stack is empty')\n",
    "        return self._data[-1]"
   ]
  },
  {
   "cell_type": "code",
   "execution_count": 3,
   "metadata": {
    "collapsed": false,
    "deletable": true,
    "editable": true
   },
   "outputs": [
    {
     "name": "stdout",
     "output_type": "stream",
     "text": [
      "__len__\n",
      "is_empty\n",
      "push\n",
      "push\n",
      "__str__\n",
      "is_empty\n",
      "top\n",
      "pop\n",
      "pop\n"
     ]
    }
   ],
   "source": [
    "s = ArrayStack()\n",
    "\n",
    "ops = ['__len__', 'is_empty', 'push', 'push', '__str__', 'is_empty', 'top', 'pop', 'pop']\n",
    "expected_results = [0, True, None, None, 'Stack: bottom [1, 1] top', False, 1, 1, 1]\n",
    "\n",
    "for i, operation in enumerate(ops):\n",
    "    print(operation)\n",
    "    if operation == 'push':\n",
    "        assert expected_results[i] ==  getattr(s, operation)(1)\n",
    "    else:\n",
    "        assert expected_results[i] ==  getattr(s, operation)()"
   ]
  },
  {
   "cell_type": "code",
   "execution_count": 4,
   "metadata": {
    "collapsed": true,
    "deletable": true,
    "editable": true
   },
   "outputs": [],
   "source": [
    "def is_matched(expr):\n",
    "    \"\"\"Return True if all delimeters are properly matched; False otherwise.\"\"\"\n",
    "    left_del = '([{'\n",
    "    right_del = ')]}'\n",
    "    s = ArrayStack()\n",
    "    for symbol in expr:\n",
    "        if symbol in left_del:\n",
    "            s.push(symbol)\n",
    "        elif symbol in right_del:\n",
    "            if s.is_empty():\n",
    "                return False\n",
    "            if right_del.index(symbol) != left_del.index(s.pop()):\n",
    "                return False\n",
    "    return s.is_empty()"
   ]
  },
  {
   "cell_type": "code",
   "execution_count": 5,
   "metadata": {
    "collapsed": false,
    "deletable": true,
    "editable": true
   },
   "outputs": [
    {
     "data": {
      "text/plain": [
       "True"
      ]
     },
     "execution_count": 5,
     "metadata": {},
     "output_type": "execute_result"
    }
   ],
   "source": [
    "is_matched('y = 1 / (x + 1)')"
   ]
  },
  {
   "cell_type": "code",
   "execution_count": 6,
   "metadata": {
    "collapsed": false,
    "deletable": true,
    "editable": true
   },
   "outputs": [
    {
     "data": {
      "text/plain": [
       "False"
      ]
     },
     "execution_count": 6,
     "metadata": {},
     "output_type": "execute_result"
    }
   ],
   "source": [
    "is_matched('y = 1 / (x + 1)]')"
   ]
  },
  {
   "cell_type": "code",
   "execution_count": 7,
   "metadata": {
    "collapsed": true,
    "deletable": true,
    "editable": true
   },
   "outputs": [],
   "source": [
    "def transfer(S, T):\n",
    "    \"\"\"Transfer elements from stack S to stack T, so elements from stack T \n",
    "    is appeared to be in opposite order compare with original stack S.\n",
    "    \"\"\"\n",
    "    for i in range(len(S)):\n",
    "        T.push(S.pop())\n",
    "    return S, T"
   ]
  },
  {
   "cell_type": "code",
   "execution_count": 8,
   "metadata": {
    "collapsed": false,
    "deletable": true,
    "editable": true
   },
   "outputs": [
    {
     "name": "stdout",
     "output_type": "stream",
     "text": [
      "Stack: bottom [0, 1, 2, 3, 4, 5, 6, 7, 8, 9] top | Stack: bottom [] top\n"
     ]
    }
   ],
   "source": [
    "S = ArrayStack()\n",
    "T = ArrayStack()\n",
    "for i in range(10):\n",
    "    S.push(i)\n",
    "print(S, '|', T)"
   ]
  },
  {
   "cell_type": "code",
   "execution_count": 9,
   "metadata": {
    "collapsed": true,
    "deletable": true,
    "editable": true
   },
   "outputs": [],
   "source": [
    "S, T = transfer(S, T)"
   ]
  },
  {
   "cell_type": "code",
   "execution_count": 10,
   "metadata": {
    "collapsed": false,
    "deletable": true,
    "editable": true
   },
   "outputs": [
    {
     "name": "stdout",
     "output_type": "stream",
     "text": [
      "Stack: bottom [] top | Stack: bottom [9, 8, 7, 6, 5, 4, 3, 2, 1, 0] top\n"
     ]
    }
   ],
   "source": [
    "print(S, '|', T)"
   ]
  },
  {
   "cell_type": "code",
   "execution_count": 11,
   "metadata": {
    "collapsed": true,
    "deletable": true,
    "editable": true
   },
   "outputs": [],
   "source": [
    "def remove_all(S):\n",
    "    \"\"\"Remove recursively all elements from the stack\"\"\"\n",
    "    if len(S) != 0:\n",
    "        _ = S.pop()\n",
    "        remove_all(S)\n",
    "    return"
   ]
  },
  {
   "cell_type": "code",
   "execution_count": 12,
   "metadata": {
    "collapsed": false,
    "deletable": true,
    "editable": true
   },
   "outputs": [
    {
     "data": {
      "text/plain": [
       "0"
      ]
     },
     "execution_count": 12,
     "metadata": {},
     "output_type": "execute_result"
    }
   ],
   "source": [
    "for i in range(10):\n",
    "    S.push(i)\n",
    "remove_all(S)\n",
    "len(S)"
   ]
  },
  {
   "cell_type": "code",
   "execution_count": 13,
   "metadata": {
    "collapsed": false,
    "deletable": true,
    "editable": true
   },
   "outputs": [
    {
     "name": "stdout",
     "output_type": "stream",
     "text": [
      "Stack: bottom [[3, 1, 2], [1, 3, 2], [1, 2, 3], [3, 2, 1], [2, 3, 1], [2, 1, 3]] top\n"
     ]
    },
    {
     "data": {
      "text/plain": [
       "(6, None)"
      ]
     },
     "execution_count": 13,
     "metadata": {},
     "output_type": "execute_result"
    }
   ],
   "source": [
    "# find permutation of integer {1, 2, 3, ..., n}\n",
    "S = ArrayStack()\n",
    "temp = []\n",
    "n = 3\n",
    "for i in range(1, n + 1):\n",
    "    if len(S) == 0:\n",
    "        S.push([i])\n",
    "    else:\n",
    "        # remove everything from stack to temporary list\n",
    "        for j in range(len(S)):\n",
    "            temp.append(S.pop())\n",
    "        # take permutations of lenght i-1\n",
    "        for l in temp:\n",
    "            # add new integer at every posible position\n",
    "            for k in range(len(l)+1):\n",
    "                S.push(l[:k] + [i] + l[k:])\n",
    "        temp = []\n",
    "len(S), print(S)"
   ]
  }
 ],
 "metadata": {
  "kernelspec": {
   "display_name": "Python 3",
   "language": "python",
   "name": "python3"
  },
  "language_info": {
   "codemirror_mode": {
    "name": "ipython",
    "version": 3
   },
   "file_extension": ".py",
   "mimetype": "text/x-python",
   "name": "python",
   "nbconvert_exporter": "python",
   "pygments_lexer": "ipython3",
   "version": "3.4.3"
  }
 },
 "nbformat": 4,
 "nbformat_minor": 2
}
