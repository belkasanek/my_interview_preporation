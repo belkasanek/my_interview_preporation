{
 "cells": [
  {
   "cell_type": "code",
   "execution_count": 1,
   "metadata": {
    "collapsed": true,
    "deletable": true,
    "editable": true
   },
   "outputs": [],
   "source": [
    "from exceptions import *\n",
    "from linked_list_ds import LinkedQueue"
   ]
  },
  {
   "cell_type": "code",
   "execution_count": 2,
   "metadata": {
    "collapsed": true,
    "deletable": true,
    "editable": true
   },
   "outputs": [],
   "source": [
    "class Tree:\n",
    "    \"\"\"Abstract base class representing a tree structure.\"\"\"\n",
    "\n",
    "    class Position:\n",
    "        \"\"\"An abstraction representing the location of a single element within a tree.\"\"\"\n",
    "\n",
    "        def element(self):\n",
    "            \"\"\"Return the element stored at this Position.\"\"\"\n",
    "            raise NotImplementedError('must be implemented by subclass')\n",
    "\n",
    "        def __eq__(self, other):\n",
    "            \"\"\"Return True if other Position represents the same location.\"\"\"\n",
    "            raise NotImplementedError('must be implemented by subclass')\n",
    "\n",
    "        def __ne__(self, other):\n",
    "            \"\"\"Return True if other does not represent the same location.\"\"\"\n",
    "            return not (self == other)\n",
    "\n",
    "\n",
    "    def root(self):\n",
    "        \"\"\"Return Position representing the tree's root (or None if empty).\"\"\"\n",
    "        raise NotImplementedError('must be implemented by subclass')\n",
    "\n",
    "    def parent(self, p):\n",
    "        \"\"\"Return Position representing p's parent (or None if p is root).\"\"\"\n",
    "        raise NotImplementedError('must be implemented by subclass')\n",
    "\n",
    "    def num_children(self, p):\n",
    "        \"\"\"Return the number of children that Position p has.\"\"\"\n",
    "        raise NotImplementedError('must be implemented by subclass')\n",
    "\n",
    "    def children(self, p):\n",
    "        \"\"\"Generate an iteration of Positions representing p's children.\"\"\"\n",
    "        raise NotImplementedError('must be implemented by subclass')\n",
    "\n",
    "    def __len__(self):\n",
    "        \"\"\"Return the total number of elements in the tree.\"\"\"\n",
    "        raise NotImplementedError('must be implemented by subclass')\n",
    "\n",
    "    def is_root(self, p):\n",
    "        \"\"\"Return True if Position p represents the root of the tree.\"\"\"\n",
    "        return self.root() == p\n",
    "\n",
    "    def is_leaf(self, p):\n",
    "        \"\"\"Return True if Position p does not have any children.\"\"\"\n",
    "        return self.num_children(p) == 0\n",
    "\n",
    "    def is_empty(self):\n",
    "        \"\"\"Return True if the tree is empty.\"\"\"\n",
    "        return len(self) == 0\n",
    "\n",
    "    def depth(self, p):\n",
    "        \"\"\"Return the number of levels separating Position p from the root.\"\"\"\n",
    "        if self.is_root(p):\n",
    "            return 0\n",
    "        else:\n",
    "            return 1 + self.depth(self.parent(p))\n",
    "\n",
    "    def _height1(self):\n",
    "        \"\"\"Return the height of the tree.\"\"\"\n",
    "        return max(self.depth(p) for p in self.positions() if self.is_leaf(p))\n",
    "\n",
    "    def _height2(self, p):\n",
    "        \"\"\"Return the height of the subtree rooted at Position p.\"\"\"\n",
    "        if self.is_leaf(p):\n",
    "            return 0\n",
    "        else:\n",
    "            return 1 + max(self._height2(c) for c in self.children(p))\n",
    "\n",
    "    def height(self, p=None):\n",
    "        \"\"\"Return the height of the subtree rooted at Position p.\n",
    "        If p is None, return the height of the entire tree.\n",
    "        \"\"\"\n",
    "        if p is None:\n",
    "            p = self.root()\n",
    "        return self._height2(p)\n",
    "    \n",
    "    \n",
    "    def __iter__(self):\n",
    "        \"\"\"Generate an iteration of the tree's elements.\"\"\"\n",
    "        for p in self.positions():\n",
    "            yield p.element()\n",
    "\n",
    "    def positions(self):\n",
    "        \"\"\"Generate an iteration of the tree's positions.\"\"\"\n",
    "        return self.preorder()\n",
    "\n",
    "    def preorder(self):\n",
    "        \"\"\"Generate a preorder iteration of positions in the tree.\"\"\"\n",
    "        if not self.is_empty():\n",
    "            for p in self._subtree_preorder(self.root()):\n",
    "                yield p\n",
    "\n",
    "    def _subtree_preorder(self, p):\n",
    "        \"\"\"Generate a preorder iteration of positions in subtree rooted at p.\"\"\"\n",
    "        yield p\n",
    "        for c in self.children(p):\n",
    "            for other in self._subtree_preorder(c):\n",
    "                yield other\n",
    "\n",
    "    def postorder(self):\n",
    "        \"\"\"Generate a postorder iteration of positions in the tree.\"\"\"\n",
    "        if not self.is_empty():\n",
    "            for p in self._subtree_postorder(self.root()):\n",
    "                yield p\n",
    "\n",
    "    def _subtree_postorder(self, p):\n",
    "        \"\"\"Generate a postorder iteration of positions in subtree rooted at p.\"\"\"\n",
    "        for c in self.children(p):\n",
    "            for other in self._subtree_postorder(c):\n",
    "                yield other\n",
    "                yield p\n",
    "\n",
    "    def breadthfirst(self):\n",
    "        \"\"\"Generate a breadth-first iteration of the positions of the tree.\"\"\"\n",
    "        if not self.is_empty():\n",
    "            fringe = LinkedQueue()\n",
    "            fringe.enqueue(self.root())\n",
    "            while not fringe.is_empty():\n",
    "                p = fringe.dequeue()\n",
    "                yield p\n",
    "                for c in self.children(p):\n",
    "                    fringe.enqueue(c)"
   ]
  },
  {
   "cell_type": "code",
   "execution_count": 3,
   "metadata": {
    "collapsed": true,
    "deletable": true,
    "editable": true
   },
   "outputs": [],
   "source": [
    "class BinaryTree(Tree):\n",
    "    \"\"\"Abstract base class representing a binary tree structure.\"\"\"\n",
    "\n",
    "    def left(self, p):\n",
    "        \"\"\"Return a Position representing p's left child.\n",
    "        Return None if p does not have a left child.\n",
    "        \"\"\"\n",
    "        raise NotImplementedError('must be implemented by subclass')\n",
    "\n",
    "    def right(self, p):\n",
    "        \"\"\"Return a Position representing p's right child.\n",
    "        Return None if p does not have a right child.\n",
    "        \"\"\"\n",
    "        raise NotImplementedError('must be implemented by subclass')\n",
    "\n",
    "    def sibling(self, p):\n",
    "        \"\"\"Return a Position representing p's sibling (or None if no sibling).\"\"\"\n",
    "        parent = self.parent(p)\n",
    "        if parent is None:\n",
    "            return None\n",
    "        else:\n",
    "            if p == self.left(parent):\n",
    "                return self.right(parent)\n",
    "            else:\n",
    "                return self.left(parent)\n",
    "\n",
    "    def children(self, p):\n",
    "        \"\"\"Generate an iteration of Positions representing p's children.\"\"\"\n",
    "        if self.left(p) is not None:\n",
    "            yield self.left(p)\n",
    "        if self.right(p) is not None:\n",
    "            yield self.right(p)\n",
    "\n",
    "    def inorder(self):\n",
    "        \"\"\"Generate an inorder iteration of positions in the tree.\"\"\"\n",
    "        if not self.is_empty():\n",
    "            for p in self._subtree_inorder(self.root()):\n",
    "                yield p\n",
    "\n",
    "    def _subtree_inorder(self, p):\n",
    "        \"\"\"Generate an inorder iteration of positions in subtree rooted at p.\"\"\"\n",
    "        if self.left(p) is not None:\n",
    "            for other in self._subtree_inorder(self.left(p)):\n",
    "                yield other\n",
    "        yield p\n",
    "        if self.right(p) is not None:\n",
    "            for other in self._subtree_inorder(self.right(p)):\n",
    "                yield other\n",
    "\n",
    "    def positions(self):\n",
    "        \"\"\"Generate an iteration of the tree's positions.\"\"\"\n",
    "        return self.inorder()"
   ]
  },
  {
   "cell_type": "code",
   "execution_count": 4,
   "metadata": {
    "collapsed": true,
    "deletable": true,
    "editable": true
   },
   "outputs": [],
   "source": [
    "class LinkedBinaryTree(BinaryTree):\n",
    "    \"\"\"Linked representation of a binary tree structure.\"\"\"\n",
    "\n",
    "\n",
    "    class _Node:\n",
    "        \"\"\"Lightweight, nonpublic class for storing a node.\"\"\"\n",
    "        __slots__ = '_element', '_parent', '_left', '_right'\n",
    "\n",
    "        def __init__(self, element, parent=None, left=None, right=None):\n",
    "            self._element = element\n",
    "            self._parent = parent\n",
    "            self._left = left\n",
    "            self._right = right\n",
    "\n",
    "\n",
    "    class Position(BinaryTree.Position):\n",
    "        \"\"\"An abstraction representing the location of a single element.\"\"\"\n",
    "\n",
    "        def __init__(self, container, node):\n",
    "            \"\"\"Constructor should not be invoked by user.\"\"\"\n",
    "            self._container = container\n",
    "            self._node = node\n",
    "\n",
    "        def element(self):\n",
    "            \"\"\"Return the element stored at this Position.\"\"\"\n",
    "            return self._node._element\n",
    "\n",
    "        def __eq__(self, other):\n",
    "            \"\"\"Return True if other is a Position representing the same location.\"\"\"\n",
    "            return type(other) is type(self) and other._node is self._node\n",
    "\n",
    "\n",
    "    def _validate(self, p):\n",
    "        \"\"\"Return associated node, if position is valid.\"\"\"\n",
    "        if not isinstance(p, self.Position):\n",
    "            raise TypeError('p must be proper Position type')\n",
    "        if p._container is not self:\n",
    "            raise ValueError('p does not belong to this container')\n",
    "        if p._node._parent is p._node:\n",
    "            raise ValueError('p is no longer valid')\n",
    "        return p._node\n",
    "\n",
    "    def _make_position(self, node):\n",
    "        \"\"\"Return Position instance for given node (or None if no node).\"\"\"\n",
    "        return self.Position(self, node) if node is not None else None\n",
    "\n",
    "    def __init__(self):\n",
    "        \"\"\"Create an initially empty binary tree.\"\"\"\n",
    "        self._root = None\n",
    "        self._size = 0\n",
    "\n",
    "    def __len__(self):\n",
    "        \"\"\"Return the total number of elements in the tree.\"\"\"\n",
    "        return self._size\n",
    "\n",
    "    def root(self):\n",
    "        \"\"\"Return the root Position of the tree (or None if tree is empty).\"\"\"\n",
    "        return self._make_position(self._root)\n",
    "\n",
    "    def parent(self, p):\n",
    "        \"\"\"Return the Position of p's parent (or None if p is root).\"\"\"\n",
    "        node = self._validate(p)\n",
    "        return self._make_position(node._parent)\n",
    "\n",
    "    def left(self, p):\n",
    "        \"\"\"Return the Position of p's left child (or None if no left child).\"\"\"\n",
    "        node = self._validate(p)\n",
    "        return self._make_position(node._left)\n",
    "\n",
    "    def right(self, p):\n",
    "        \"\"\"Return the Position of p's right child (or None if no right child).\"\"\"\n",
    "        node = self._validate(p)\n",
    "        return self._make_position(node._right)\n",
    "\n",
    "    def num_children(self, p):\n",
    "        \"\"\"Return the number of children of Position p.\"\"\"\n",
    "        node = self._validate(p)\n",
    "        count = 0\n",
    "        if node._left is not None:\n",
    "            count += 1\n",
    "        if node._right is not None:\n",
    "            count += 1\n",
    "        return count\n",
    "\n",
    "    def _add_root(self, e):\n",
    "        \"\"\"Place element e at the root of an empty tree and return new Position.\n",
    "        Raise ValueError if tree nonempty.\n",
    "        \"\"\"\n",
    "        if self._root is not None:\n",
    "            raise ValueError('Root exists')\n",
    "        self._size = 1\n",
    "        self._root = self._Node(e)\n",
    "        return self._make_position(self._root)\n",
    "\n",
    "    def _add_left(self, p, e):\n",
    "        \"\"\"Create a new left child for Position p, storing element e.\n",
    "        Return the Position of new node.\n",
    "        Raise ValueError if Position p is invalid or p already has a left child.\n",
    "        \"\"\"\n",
    "        node = self._validate(p)\n",
    "        if node._left is not None:\n",
    "            raise ValueError('Left child exists')\n",
    "        self._size += 1\n",
    "        node._left = self._Node(e, node)\n",
    "        return self._make_position(node._left)\n",
    "\n",
    "    def _add_right(self, p, e):\n",
    "        \"\"\"Create a new right child for Position p, storing element e.\n",
    "        Return the Position of new node.\n",
    "        Raise ValueError if Position p is invalid or p already has a right child.\n",
    "        \"\"\"\n",
    "        node = self._validate(p)\n",
    "        if node._right is not None:\n",
    "            raise ValueError('Right child exists')\n",
    "        self._size += 1\n",
    "        node._right = self._Node(e, node)\n",
    "        return self._make_position(node._right)\n",
    "\n",
    "    def _replace(self, p, e):\n",
    "        \"\"\"Replace the element at position p with e, and return old element.\"\"\"\n",
    "        node = self._validate(p)\n",
    "        old = node._element\n",
    "        node._element = e\n",
    "        return old\n",
    "\n",
    "    def _delete(self, p):\n",
    "        \"\"\"Delete the node at Position p, and replace it with its child, if any.\n",
    "        Return the element that had been stored at Position p.\n",
    "        Raise ValueError if Position p is invalid or p has two children.\n",
    "        \"\"\"\n",
    "        node = self._validate(p)\n",
    "        if self.num_children(p) == 2:\n",
    "            raise ValueError('Position has two children')\n",
    "        child = node._left if node._left else node._right\n",
    "        if child is not None:\n",
    "            child._parent = node._parent\n",
    "        if node is self._root:\n",
    "            self._root = child\n",
    "        else:\n",
    "            parent = node._parent\n",
    "            if node is parent._left:\n",
    "                parent._left = child\n",
    "            else:\n",
    "                parent._right = child\n",
    "        self._size -= 1\n",
    "        node._parent = node\n",
    "        return node._element\n",
    "\n",
    "    def _attach(self, p, t1, t2):\n",
    "        \"\"\"Attach trees t1 and t2, respectively, as the left and right subtrees of the external Position p.\n",
    "        As a side effect, set t1 and t2 to empty.\n",
    "        Raise TypeError if trees t1 and t2 do not match type of this tree.\n",
    "        Raise ValueError if Position p is invalid or not external.\n",
    "        \"\"\"\n",
    "        node = self._validate(p)\n",
    "        if not self.is_leaf(p):\n",
    "            raise ValueError('position must be leaf')\n",
    "        if not type(self) is type(t1) is type(t2):\n",
    "            raise TypeError('Tree types must match')\n",
    "        self._size += len(t1) + len(t2)\n",
    "        if not t1.is_empty():\n",
    "            t1._root._parent = node\n",
    "            node._left = t1._root\n",
    "            t1._root = None\n",
    "            t1._size = 0\n",
    "        if not t2.is_empty():\n",
    "            t2._root._parent = node\n",
    "            node._right = t2._root\n",
    "            t2._root = None\n",
    "            t2._size = 0"
   ]
  },
  {
   "cell_type": "code",
   "execution_count": 50,
   "metadata": {
    "collapsed": true,
    "deletable": true,
    "editable": true
   },
   "outputs": [],
   "source": [
    "class ArrayBinaryTree(BinaryTree):\n",
    "    \"\"\"Linked representation of a binary tree structure.\"\"\"\n",
    "\n",
    "    class Position(BinaryTree.Position):\n",
    "        \"\"\"An abstraction representing the location of a single element.\"\"\"\n",
    "\n",
    "        def __init__(self, container, node):\n",
    "            \"\"\"Constructor should not be invoked by user.\"\"\"\n",
    "            self._container = container\n",
    "            self._node = node\n",
    "\n",
    "        def element(self):\n",
    "            \"\"\"Return the element stored at this Position.\"\"\"\n",
    "            return self._node # return index insted of element\n",
    "\n",
    "        def __eq__(self, other):\n",
    "            \"\"\"Return True if other is a Position representing the same location.\"\"\"\n",
    "            return type(other) is type(self) and other._node is self._node\n",
    "\n",
    "\n",
    "    def _validate(self, p):\n",
    "        \"\"\"Return associated node, if position is valid.\"\"\"\n",
    "        if not isinstance(p, self.Position):\n",
    "            raise TypeError('p must be proper Position type')\n",
    "        if p._container is not self:\n",
    "            raise ValueError('p does not belong to this container')\n",
    "        return p._node\n",
    "\n",
    "    def _make_position(self, node):\n",
    "        \"\"\"Return Position instance for given node (or None if no node).\"\"\"\n",
    "        return self.Position(self, node) if node is not None else None\n",
    "\n",
    "    def __init__(self):\n",
    "        \"\"\"Create an initially empty binary tree.\"\"\"\n",
    "        self._root = None\n",
    "        self._size = 0\n",
    "        self._data = [None]\n",
    "\n",
    "    def __len__(self):\n",
    "        \"\"\"Return the total number of elements in the tree.\"\"\"\n",
    "        return self._size\n",
    "    \n",
    "    def element(self, p):\n",
    "        \"\"\"Return element at p position\"\"\"\n",
    "        node = self._validate(p)\n",
    "        return self._data[node]\n",
    "        \n",
    "\n",
    "    def root(self):\n",
    "        \"\"\"Return the root Position of the tree (or None if tree is empty).\"\"\"\n",
    "        return self._make_position(self._root)\n",
    "\n",
    "    def parent(self, p):\n",
    "        \"\"\"Return the Position of p's parent (or None if p is root).\"\"\"\n",
    "        node = self._validate(p)\n",
    "        pos = (node - 1) // 2\n",
    "        return self._make_position(pos)\n",
    "\n",
    "    def left(self, p):\n",
    "        \"\"\"Return the Position of p's left child (or None if no left child).\"\"\"\n",
    "        node = self._validate(p)\n",
    "        pos = 2 * node + 1\n",
    "        if pos > len(self._data) - 1:\n",
    "            return None\n",
    "        else:\n",
    "            return self._make_position(pos)\n",
    "\n",
    "    def right(self, p):\n",
    "        \"\"\"Return the Position of p's right child (or None if no right child).\"\"\"\n",
    "        node = self._validate(p)\n",
    "        pos = 2 * node + 2\n",
    "        if pos > len(self._data) - 1:\n",
    "            return None\n",
    "        else:\n",
    "            return self._make_position(pos)\n",
    "\n",
    "    def num_children(self, p):\n",
    "        \"\"\"Return the number of children of Position p.\"\"\"\n",
    "        node = self._validate(p)\n",
    "        count = 0\n",
    "        if len(self._data) - 1 < 2 * node + 1:\n",
    "            return count\n",
    "        if self._data[2 * node + 1] is not None:\n",
    "            count += 1\n",
    "        if self._data[2 * node + 2] is not None:\n",
    "            count += 1\n",
    "        return count\n",
    "\n",
    "    def _add_root(self, e):\n",
    "        \"\"\"Place element e at the root of an empty tree and return new Position.\n",
    "        Raise ValueError if tree nonempty.\n",
    "        \"\"\"\n",
    "        if self._root is not None:\n",
    "            raise ValueError('Root exists')\n",
    "        self._size = 1\n",
    "        pos = 0\n",
    "        self._data[pos] = e\n",
    "        self._root = pos\n",
    "        return self._make_position(self._root)\n",
    "\n",
    "    def _add_left(self, p, e):\n",
    "        \"\"\"Create a new left child for Position p, storing element e.\n",
    "        Return the Position of new node.\n",
    "        Raise ValueError if Position p is invalid or p already has a left child.\n",
    "        \"\"\"\n",
    "        node = self._validate(p)\n",
    "        pos = 2 * node + 1\n",
    "        if pos > len(self._data) - 1:\n",
    "            self._data.extend([None]*(pos - len(self._data) + 1))\n",
    "        elif self._data[pos] is not None:\n",
    "            raise ValueError('Left child exists')\n",
    "        self._size += 1\n",
    "        self._data[pos] = e\n",
    "        return self._make_position(pos)\n",
    "\n",
    "    def _add_right(self, p, e):\n",
    "        \"\"\"Create a new right child for Position p, storing element e.\n",
    "        Return the Position of new node.\n",
    "        Raise ValueError if Position p is invalid or p already has a right child.\n",
    "        \"\"\"\n",
    "        node = self._validate(p)\n",
    "        pos = 2 * node + 2\n",
    "        if pos > len(self._data) - 1:\n",
    "            self._data.extend([None]*(pos - len(self._data) + 1))\n",
    "        elif self._data[pos] is not None:\n",
    "            raise ValueError('Left child exists')\n",
    "        self._size += 1\n",
    "        self._data[pos] = e\n",
    "        return self._make_position(pos)\n",
    "\n",
    "    def _replace(self, p, e):\n",
    "        \"\"\"Replace the element at position p with e, and return old element.\"\"\"\n",
    "        node = self._validate(p)\n",
    "        self._data[node] = e\n",
    "        return old"
   ]
  },
  {
   "cell_type": "code",
   "execution_count": 51,
   "metadata": {
    "collapsed": true,
    "deletable": true,
    "editable": true
   },
   "outputs": [],
   "source": [
    "a = ArrayBinaryTree()"
   ]
  },
  {
   "cell_type": "code",
   "execution_count": 52,
   "metadata": {
    "collapsed": false,
    "deletable": true,
    "editable": true
   },
   "outputs": [],
   "source": [
    "p = a._add_root(0)"
   ]
  },
  {
   "cell_type": "code",
   "execution_count": 53,
   "metadata": {
    "collapsed": false,
    "deletable": true,
    "editable": true
   },
   "outputs": [],
   "source": [
    "p1 = a._add_left(p, 1)\n",
    "p2 = a._add_right(p, 2)"
   ]
  },
  {
   "cell_type": "code",
   "execution_count": 54,
   "metadata": {
    "collapsed": false,
    "deletable": true,
    "editable": true
   },
   "outputs": [
    {
     "data": {
      "text/plain": [
       "[0, 1, 2]"
      ]
     },
     "execution_count": 54,
     "metadata": {},
     "output_type": "execute_result"
    }
   ],
   "source": [
    "a._data"
   ]
  },
  {
   "cell_type": "code",
   "execution_count": 55,
   "metadata": {
    "collapsed": false,
    "deletable": true,
    "editable": true
   },
   "outputs": [
    {
     "data": {
      "text/plain": [
       "3"
      ]
     },
     "execution_count": 55,
     "metadata": {},
     "output_type": "execute_result"
    }
   ],
   "source": [
    "len(a)"
   ]
  },
  {
   "cell_type": "code",
   "execution_count": 56,
   "metadata": {
    "collapsed": false,
    "deletable": true,
    "editable": true
   },
   "outputs": [
    {
     "data": {
      "text/plain": [
       "2"
      ]
     },
     "execution_count": 56,
     "metadata": {},
     "output_type": "execute_result"
    }
   ],
   "source": [
    "a.num_children(p)"
   ]
  },
  {
   "cell_type": "code",
   "execution_count": 57,
   "metadata": {
    "collapsed": false,
    "deletable": true,
    "editable": true
   },
   "outputs": [
    {
     "data": {
      "text/plain": [
       "(2, 0, 0)"
      ]
     },
     "execution_count": 57,
     "metadata": {},
     "output_type": "execute_result"
    }
   ],
   "source": [
    "a.num_children(p), a.num_children(p1), a.num_children(p2)"
   ]
  },
  {
   "cell_type": "code",
   "execution_count": 58,
   "metadata": {
    "collapsed": false,
    "deletable": true,
    "editable": true
   },
   "outputs": [],
   "source": [
    "b = a.parent(p1)"
   ]
  },
  {
   "cell_type": "code",
   "execution_count": 59,
   "metadata": {
    "collapsed": false,
    "deletable": true,
    "editable": true
   },
   "outputs": [
    {
     "data": {
      "text/plain": [
       "True"
      ]
     },
     "execution_count": 59,
     "metadata": {},
     "output_type": "execute_result"
    }
   ],
   "source": [
    "p == b"
   ]
  },
  {
   "cell_type": "code",
   "execution_count": 60,
   "metadata": {
    "collapsed": false,
    "deletable": true,
    "editable": true
   },
   "outputs": [],
   "source": [
    "a.left(p1)"
   ]
  },
  {
   "cell_type": "code",
   "execution_count": 61,
   "metadata": {
    "collapsed": false,
    "deletable": true,
    "editable": true
   },
   "outputs": [],
   "source": [
    "s = list(a.positions())"
   ]
  },
  {
   "cell_type": "code",
   "execution_count": 63,
   "metadata": {
    "collapsed": false,
    "deletable": true,
    "editable": true
   },
   "outputs": [
    {
     "data": {
      "text/plain": [
       "2"
      ]
     },
     "execution_count": 63,
     "metadata": {},
     "output_type": "execute_result"
    }
   ],
   "source": [
    "a.element(s[2])"
   ]
  }
 ],
 "metadata": {
  "kernelspec": {
   "display_name": "Python 3",
   "language": "python",
   "name": "python3"
  },
  "language_info": {
   "codemirror_mode": {
    "name": "ipython",
    "version": 3
   },
   "file_extension": ".py",
   "mimetype": "text/x-python",
   "name": "python",
   "nbconvert_exporter": "python",
   "pygments_lexer": "ipython3",
   "version": "3.4.3"
  }
 },
 "nbformat": 4,
 "nbformat_minor": 2
}
