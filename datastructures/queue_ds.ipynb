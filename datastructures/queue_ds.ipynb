{
 "cells": [
  {
   "cell_type": "code",
   "execution_count": 1,
   "metadata": {
    "collapsed": true,
    "deletable": true,
    "editable": true
   },
   "outputs": [],
   "source": [
    "from exceptions import * "
   ]
  },
  {
   "cell_type": "code",
   "execution_count": 2,
   "metadata": {
    "collapsed": true,
    "deletable": true,
    "editable": true
   },
   "outputs": [],
   "source": [
    "class ArrayQueue:\n",
    "    \"\"\"FIFO Queue implementation using a Python list as underlying storage.\"\"\"\n",
    "    DEFAULT_CAPACITY = 10\n",
    "    \n",
    "    def __init__(self):\n",
    "        \"\"\"Create an empty queue.\"\"\"\n",
    "        self._data = [None] * ArrayQueue.DEFAULT_CAPACITY\n",
    "        self._size = 0\n",
    "        self._front = 0\n",
    "        \n",
    "    def __len__(self):\n",
    "        \"\"\"Return the number of elements in the queue.\"\"\"\n",
    "        return self._size\n",
    "    \n",
    "    def __str__(self):\n",
    "        \"\"\"Return string represintation of the queue.\"\"\"\n",
    "        return 'Queue: front [' + ', '.join([str(self._data[(self._front + i) % len(self._data)])\\\n",
    "                                             for i in range(self._size)]) + '] end'\n",
    "    \n",
    "    def is_empty(self):\n",
    "        \"\"\"Return True if the queue is empty.\"\"\"\n",
    "        return self._size == 0\n",
    "    \n",
    "    def first(self):\n",
    "        \"\"\"Return (but not remove) the element at the front of the queue.\n",
    "        \n",
    "        Raise Empty exception if queue is empty.\n",
    "        \"\"\"\n",
    "        if self.is_empty():\n",
    "            raise Empty('Queue is empty')\n",
    "        return self._data[self._front]\n",
    "    \n",
    "    def dequeue(self):\n",
    "        \"\"\"Remove and return the first element of the queue.\n",
    "        \n",
    "        Raise Empty exception if the queue is empty.\n",
    "        \"\"\"\n",
    "        if self.is_empty():\n",
    "            raise Empty('Queue is empty')\n",
    "        answer = self._data[self._front]\n",
    "        self._data[self._front] = None\n",
    "        self._front = (self._front + 1) % len(self._data)\n",
    "        self._size -= 1\n",
    "        if 0 < self._size < len(self._data) // 4:\n",
    "            self._resize(len(self._data) // 2)\n",
    "        return answer\n",
    "    \n",
    "    def enqueue(self, e):\n",
    "        \"\"\"Add an element e to the back of the queue.\"\"\"\n",
    "        if self._size == len(self._data):\n",
    "            self._resize(2 * len(self._data))\n",
    "        pos = (self._front + self._size) % len(self._data)\n",
    "        self._data[pos] = e\n",
    "        self._size += 1\n",
    "        \n",
    "    def _resize(self, cap):\n",
    "        \"\"\"Resize to a new list of capacity cap.\"\"\"\n",
    "        old = self._data\n",
    "        self._data = [None] * cap\n",
    "        walk = self._front\n",
    "        for k in range(self._size):\n",
    "            self._data[k] = old[walk]\n",
    "            walk = (1 + walk) % len(old)\n",
    "        self._front = 0"
   ]
  },
  {
   "cell_type": "code",
   "execution_count": 3,
   "metadata": {
    "collapsed": false,
    "deletable": true,
    "editable": true
   },
   "outputs": [
    {
     "name": "stdout",
     "output_type": "stream",
     "text": [
      "__len__\n",
      "is_empty\n",
      "enqueue\n",
      "enqueue\n",
      "__str__\n",
      "is_empty\n",
      "first\n",
      "dequeue\n",
      "dequeue\n"
     ]
    }
   ],
   "source": [
    "q = ArrayQueue()\n",
    "\n",
    "ops = ['__len__', 'is_empty', 'enqueue', 'enqueue', '__str__', 'is_empty', 'first', 'dequeue', 'dequeue']\n",
    "expected_results = [0, True, None, None, 'Queue: front [1, 1] end', False, 1, 1, 1]\n",
    "\n",
    "for i, operation in enumerate(ops):\n",
    "    print(operation)\n",
    "    if operation == 'enqueue':\n",
    "        assert expected_results[i] ==  getattr(q, operation)(1)\n",
    "    else:\n",
    "        assert expected_results[i] ==  getattr(q, operation)()"
   ]
  }
 ],
 "metadata": {
  "kernelspec": {
   "display_name": "Python 3",
   "language": "python",
   "name": "python3"
  },
  "language_info": {
   "codemirror_mode": {
    "name": "ipython",
    "version": 3
   },
   "file_extension": ".py",
   "mimetype": "text/x-python",
   "name": "python",
   "nbconvert_exporter": "python",
   "pygments_lexer": "ipython3",
   "version": "3.4.3"
  }
 },
 "nbformat": 4,
 "nbformat_minor": 2
}
