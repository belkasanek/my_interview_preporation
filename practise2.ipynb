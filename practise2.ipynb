{
 "cells": [
  {
   "cell_type": "code",
   "execution_count": 2,
   "metadata": {
    "collapsed": true,
    "deletable": true,
    "editable": true
   },
   "outputs": [],
   "source": [
    "import sys  \n",
    "import re\n",
    "import math\n",
    "import bisect\n",
    "  \n",
    "import heapq\n",
    "from functools import total_ordering\n",
    "from collections import Counter"
   ]
  },
  {
   "cell_type": "code",
   "execution_count": 24,
   "metadata": {
    "collapsed": false
   },
   "outputs": [
    {
     "data": {
      "text/plain": [
       "2"
      ]
     },
     "execution_count": 24,
     "metadata": {},
     "output_type": "execute_result"
    }
   ],
   "source": [
    "bisect.bisect_right([0, 1], 1)"
   ]
  },
  {
   "cell_type": "code",
   "execution_count": 33,
   "metadata": {
    "collapsed": false
   },
   "outputs": [
    {
     "data": {
      "text/plain": [
       "[1, 3, 5, 2]"
      ]
     },
     "execution_count": 33,
     "metadata": {},
     "output_type": "execute_result"
    }
   ],
   "source": [
    "def union(arr1, arr2):\n",
    "    if len(arr1) >= len(arr2):\n",
    "        arr2.sort()\n",
    "    else:\n",
    "        union(arr2, arr1)\n",
    "    \n",
    "    n = len(arr2)\n",
    "    update_list = []\n",
    "    for value in arr1:\n",
    "        idx = bisect.bisect_right(arr2, value)\n",
    "        if arr2[idx-1] != value:\n",
    "            update_list.append(value)\n",
    "            \n",
    "    return arr2 + update_list\n",
    "\n",
    "arr1 = [2, 3, 1]\n",
    "arr2 = [3, 1, 5]\n",
    "union(arr1, arr2)"
   ]
  },
  {
   "cell_type": "code",
   "execution_count": 2,
   "metadata": {
    "collapsed": false,
    "deletable": true,
    "editable": true
   },
   "outputs": [
    {
     "name": "stdout",
     "output_type": "stream",
     "text": [
      "('0 100 101 1100 1101 111', 'f c d a b e')\n"
     ]
    }
   ],
   "source": [
    "@total_ordering\n",
    "class Node(object):\n",
    "    def __init__(self, freq, char=None, left=None, right=None):\n",
    "        self.freq = freq\n",
    "        self.char = char\n",
    "        self.left = left\n",
    "        self.right = right\n",
    "    \n",
    "    def __lt__(self, other):\n",
    "        return self.freq < other.freq\n",
    "    \n",
    "    def __eq__(self, other):\n",
    "        return self.freq == other.freq\n",
    "\n",
    "def getCodes(root):\n",
    "    ans = []\n",
    "    ele = []\n",
    "    def recurse(cur, path=''):\n",
    "        if not cur.left and not cur.right:\n",
    "            ans.append(path)\n",
    "            ele.append(cur.char)\n",
    "        if cur.left:\n",
    "            recurse(cur.left, path + '0')\n",
    "        if cur.right:\n",
    "            recurse(cur.right, path + '1')\n",
    "    recurse(root)\n",
    "    return ' '.join(ans), ' '.join(ele)\n",
    "\n",
    "heap = []\n",
    "chars = 'abcdef'\n",
    "freqs = map(int, '5 9 12 13 16 45'.split())\n",
    "for c, f in zip(chars, freqs):\n",
    "    heapq.heappush(heap, Node(f, c))\n",
    "\n",
    "while len(heap) > 1:\n",
    "    node1 = heapq.heappop(heap)\n",
    "    node2 = heapq.heappop(heap)\n",
    "    heapq.heappush(heap, Node((node1.freq + node2.freq), None, node1, node2))\n",
    "print(getCodes(heap[0]))"
   ]
  },
  {
   "cell_type": "code",
   "execution_count": 3,
   "metadata": {
    "collapsed": false,
    "deletable": true,
    "editable": true
   },
   "outputs": [
    {
     "data": {
      "text/plain": [
       "'7988'"
      ]
     },
     "execution_count": 3,
     "metadata": {},
     "output_type": "execute_result"
    }
   ],
   "source": [
    "class OddToEven:\n",
    "    def biggest_even(self, number):\n",
    "        size = len(number)\n",
    "        last_digit = int(number[-1])\n",
    "\n",
    "        last_even_index = None\n",
    "\n",
    "        for i in range(size):\n",
    "            if int(number[i]) % 2 is 0:\n",
    "                last_even_index = i\n",
    "                if last_digit >= int(number[i]):\n",
    "                    return self.swap(number, i, size-1)\n",
    "\n",
    "        if last_even_index is not None:\n",
    "            return self.swap(number, last_even_index, size-1)\n",
    "\n",
    "        return number\n",
    "\n",
    "    def swap(self, s, x, y):\n",
    "        f_from, f_till = 0, x\n",
    "        s_from, s_till = x+1, y\n",
    "        t_from, t_till = y+1, len(s)\n",
    "        i = s[x]\n",
    "        j = s[y]\n",
    "        return s[ f_from : f_till ] + j + s[ s_from : s_till ] + i + s[ t_from : t_till ]\n",
    "\n",
    "ans = OddToEven()\n",
    "\n",
    "\n",
    "ans.biggest_even('7889')"
   ]
  },
  {
   "cell_type": "code",
   "execution_count": 4,
   "metadata": {
    "collapsed": false,
    "deletable": true,
    "editable": true
   },
   "outputs": [
    {
     "name": "stdout",
     "output_type": "stream",
     "text": [
      "Minimum coins required is  2\n"
     ]
    }
   ],
   "source": [
    "def minCoins(coins, m, V):\n",
    "    # table[i] will be storing the minimum number of coins required for i value.  \n",
    "    table = [0 for i in range(V + 1)] \n",
    "  \n",
    "    # Base case\n",
    "    table[0] = 0\n",
    "    # Initialize all table values as Infinite \n",
    "    for i in range(1, V + 1): \n",
    "        table[i] = sys.maxsize \n",
    "  \n",
    "    # Compute minimum coins required  \n",
    "    # for all values from 1 to V \n",
    "    for i in range(1, V + 1): \n",
    "        # Go through all coins smaller than i \n",
    "        for j in range(m): \n",
    "            if coins[j] <= i: \n",
    "                sub_res = table[i - coins[j]] \n",
    "                if sub_res != sys.maxsize and sub_res + 1 < table[i]: \n",
    "                    table[i] = sub_res + 1\n",
    "    return table[V] \n",
    "\n",
    "coins = [9, 6, 5, 1] \n",
    "m = len(coins) \n",
    "V = 11\n",
    "print('Minimum coins required is ', minCoins(coins, m, V)) "
   ]
  },
  {
   "cell_type": "code",
   "execution_count": 5,
   "metadata": {
    "collapsed": false,
    "deletable": true,
    "editable": true
   },
   "outputs": [
    {
     "name": "stdout",
     "output_type": "stream",
     "text": [
      "[0, 0, 0, 0, 0, 1, 1, 1, 1, 1, 2, 2]\n"
     ]
    }
   ],
   "source": [
    "# sort 0, 1, 2\n",
    "def sort012( a, arr_size): \n",
    "    lo = 0\n",
    "    hi = arr_size - 1\n",
    "    mid = 0\n",
    "    while mid <= hi: \n",
    "        if a[mid] == 0: \n",
    "            a[lo], a[mid] = a[mid], a[lo] \n",
    "            lo += 1\n",
    "            mid +=1\n",
    "        elif a[mid] == 1: \n",
    "            mid += 1\n",
    "        else: \n",
    "            a[mid], a[hi] = a[hi], a[mid]  \n",
    "            hi -= 1\n",
    "    return a \n",
    "      \n",
    "arr = [0, 1, 1, 0, 1, 2, 1, 2, 0, 0, 0, 1] \n",
    "arr_size = len(arr) \n",
    "arr = sort012( arr, arr_size)\n",
    "print(arr) "
   ]
  },
  {
   "cell_type": "code",
   "execution_count": 6,
   "metadata": {
    "collapsed": false,
    "deletable": true,
    "editable": true
   },
   "outputs": [
    {
     "name": "stdout",
     "output_type": "stream",
     "text": [
      "1 distinct value(s) remain(s)\n",
      "Dropped valus [1, 2]\n"
     ]
    }
   ],
   "source": [
    "# Minimum number of distinct elements after removing m items\n",
    "def minimize_distinct(arr, n):\n",
    "    counter = Counter(arr)\n",
    "    distinc_values = len(counter)\n",
    "    dropped_values = []\n",
    "    \n",
    "    temp_arr = []\n",
    "    for value, count in counter.items():\n",
    "        temp_arr.append((count, value))\n",
    "    \n",
    "    temp_arr.sort()\n",
    "    for item in temp_arr:\n",
    "        if item[0] <= n:\n",
    "            n -= item[0]\n",
    "            distinc_values -= 1\n",
    "            dropped_values.append(item[1])\n",
    "        else:\n",
    "            return distinc_values, dropped_values\n",
    "    return distinc_values, dropped_values\n",
    "\n",
    "arr = [2, 3, 1, 2, 3, 3]\n",
    "count, dropped_values = minimize_distinct(arr, 3)\n",
    "print('{} distinct value(s) remain(s)'.format(count))\n",
    "print('Dropped valus {}'.format(dropped_values))"
   ]
  },
  {
   "cell_type": "code",
   "execution_count": 7,
   "metadata": {
    "collapsed": false,
    "deletable": true,
    "editable": true
   },
   "outputs": [
    {
     "name": "stdout",
     "output_type": "stream",
     "text": [
      "[1, 2, 3, 4, 5]\n"
     ]
    }
   ],
   "source": [
    "# remove duplicate from sorted array\n",
    "def removeDuplicates(arr, n): \n",
    "    if n == 0 or n == 1: \n",
    "        return n \n",
    "    \n",
    "    j = 0\n",
    "    for i in range(0, n-1): \n",
    "        if arr[i] != arr[i+1]: \n",
    "            arr[j] = arr[i] \n",
    "            j += 1\n",
    "  \n",
    "    arr[j] = arr[n-1] \n",
    "    j += 1\n",
    "    return j \n",
    "  \n",
    "# Driver code \n",
    "arr = [1, 2, 2, 3, 4, 4, 4, 5, 5] \n",
    "n = len(arr) \n",
    "n = removeDuplicates(arr, n) \n",
    "  \n",
    "print(arr[:n])"
   ]
  },
  {
   "cell_type": "code",
   "execution_count": 8,
   "metadata": {
    "collapsed": false,
    "deletable": true,
    "editable": true
   },
   "outputs": [
    {
     "name": "stdout",
     "output_type": "stream",
     "text": [
      "0\n",
      "1\n",
      "3\n",
      "4\n"
     ]
    }
   ],
   "source": [
    "def printMaxActivities(s , f ): \n",
    "    n = len(f) \n",
    "    i = 0\n",
    "    print(i)\n",
    "    for j in range(n): \n",
    "\n",
    "        if s[j] >= f[i]: \n",
    "            print(j)\n",
    "            i = j \n",
    "\n",
    "s = [1 , 3 , 0 , 5 , 8 , 5] \n",
    "f = [2 , 4 , 6 , 7 , 9 , 9] \n",
    "printMaxActivities(s, f) "
   ]
  },
  {
   "cell_type": "code",
   "execution_count": 9,
   "metadata": {
    "collapsed": false,
    "deletable": true,
    "editable": true
   },
   "outputs": [
    {
     "name": "stdout",
     "output_type": "stream",
     "text": [
      "0 to 5\n"
     ]
    },
    {
     "data": {
      "text/plain": [
       "6"
      ]
     },
     "execution_count": 9,
     "metadata": {},
     "output_type": "execute_result"
    }
   ],
   "source": [
    "# Returns largest subarray with equal number of 0s and 1s \n",
    "def maxLen(arr, n):\n",
    "    hash_map = {} \n",
    "    curr_sum = 0 \n",
    "    max_len = 0 \n",
    "    ending_index = -1\n",
    "  \n",
    "    for i in range (0, n): \n",
    "        if arr[i] == 0: \n",
    "            arr[i] = -1\n",
    "        else: \n",
    "            arr[i] = 1\n",
    "  \n",
    "    for i in range (0, n):\n",
    "        curr_sum = curr_sum + arr[i]\n",
    "  \n",
    "        # To handle sum=0 at last index \n",
    "        if curr_sum == 0: \n",
    "            max_len = i + 1\n",
    "            ending_index = i\n",
    "  \n",
    "        # If this sum is seen before, then sum between equal 0\n",
    "        if curr_sum in hash_map:  \n",
    "            max_len = max(max_len, i - hash_map[curr_sum])  \n",
    "        else:  \n",
    "            hash_map[curr_sum] = i\n",
    "          \n",
    "    for i in range (0, n): \n",
    "        if(arr[i] == -1): \n",
    "            arr[i] = 0\n",
    "        else: \n",
    "            arr[i] = 1\n",
    "              \n",
    "    print('{} to {}'.format(ending_index - max_len + 1, ending_index))\n",
    "  \n",
    "    return max_len\n",
    "  \n",
    "arr = [1, 0, 0, 1, 0, 1, 1]\n",
    "n = len(arr)\n",
    "  \n",
    "maxLen(arr, n)"
   ]
  },
  {
   "cell_type": "code",
   "execution_count": 10,
   "metadata": {
    "collapsed": false,
    "deletable": true,
    "editable": true
   },
   "outputs": [
    {
     "name": "stdout",
     "output_type": "stream",
     "text": [
      "Length of lis is 5\n"
     ]
    }
   ],
   "source": [
    "# lis returns length of the longest increasing subsequence \n",
    "def lis(arr): \n",
    "    n = len(arr) \n",
    "    lis = [1]*n \n",
    "  \n",
    "    for i in range (1, n): \n",
    "        for j in range(i): \n",
    "            if arr[i] > arr[j] and lis[i] < lis[j] + 1: \n",
    "                lis[i] = lis[j] + 1\n",
    "   \n",
    "    maximum = 0\n",
    "  \n",
    "\n",
    "    for i in range(n): \n",
    "        maximum = max(maximum , lis[i]) \n",
    "  \n",
    "    return maximum \n",
    "\n",
    "arr = [10, 22, 9, 33, 21, 50, 41, 60] \n",
    "print('Length of lis is', lis(arr))"
   ]
  },
  {
   "cell_type": "code",
   "execution_count": 11,
   "metadata": {
    "collapsed": false,
    "deletable": true,
    "editable": true
   },
   "outputs": [
    {
     "name": "stdout",
     "output_type": "stream",
     "text": [
      "Sum of maximum sum increasing subsequence is 106\n"
     ]
    }
   ],
   "source": [
    "# Maximum Sum Increasing Subsequence\n",
    "def maxSumIS(arr): \n",
    "    n = len(arr) \n",
    "    msis = arr[:]\n",
    "  \n",
    "    for i in range (1, n): \n",
    "        for j in range(i): \n",
    "            if arr[i] > arr[j] and msis[i] < msis[j] + arr[i]: \n",
    "                msis[i] = msis[j] + arr[i]\n",
    "   \n",
    "    maximum = 0\n",
    "  \n",
    "\n",
    "    for i in range(n): \n",
    "        if maximum < msis[i]: \n",
    "            maximum = msis[i] \n",
    "  \n",
    "    return maximum \n",
    "\n",
    "arr = [1, 101, 2, 3, 100, 4, 5] \n",
    "print('Sum of maximum sum increasing subsequence is', maxSumIS(arr))"
   ]
  },
  {
   "cell_type": "code",
   "execution_count": 12,
   "metadata": {
    "collapsed": false,
    "deletable": true,
    "editable": true
   },
   "outputs": [
    {
     "name": "stdout",
     "output_type": "stream",
     "text": [
      "Number of ways = 5\n"
     ]
    }
   ],
   "source": [
    "# Returns number of ways to reach s'th stair \n",
    "def countWaysUtil(n, m): \n",
    "    res = [0 for i in range(n)]\n",
    "    res[0], res[1] = 1, 1\n",
    "      \n",
    "    for i in range(2,n): \n",
    "        j = 1\n",
    "        while j<=m and j<=i: \n",
    "            res[i] = res[i] + res[i-j] \n",
    "            j = j + 1 \n",
    "    return res[n-1] \n",
    "  \n",
    "def countWays(s, m): \n",
    "    return countWaysUtil(s+1, m) \n",
    "       \n",
    "s, m = 4, 2\n",
    "print('Number of ways =', countWays(s,m) )"
   ]
  },
  {
   "cell_type": "code",
   "execution_count": 13,
   "metadata": {
    "collapsed": false,
    "deletable": true,
    "editable": true
   },
   "outputs": [
    {
     "name": "stdout",
     "output_type": "stream",
     "text": [
      "The minimum element is1\n"
     ]
    }
   ],
   "source": [
    "# Find the minimum element in a sorted and rotated array\n",
    "def findMin(arr, low, high): \n",
    "    # This condition is needed to handle the case when array is not rotated at all \n",
    "    if high < low: \n",
    "        return arr[0] \n",
    "  \n",
    "    # If there is only one element left \n",
    "    if high == low: \n",
    "        return arr[low] \n",
    "\n",
    "    mid = int((low + high)/2) \n",
    "  \n",
    "    # Check if element (mid+1) is minimum element\n",
    "    if mid < high and arr[mid+1] < arr[mid]: \n",
    "        return arr[mid+1] \n",
    "  \n",
    "    # Check if mid itself is minimum element \n",
    "    if mid > low and arr[mid] < arr[mid - 1]: \n",
    "        return arr[mid] \n",
    "  \n",
    "    # Decide whether we need to go to left half or right half \n",
    "    if arr[high] > arr[mid]: \n",
    "        return findMin(arr, low, mid-1) \n",
    "    return findMin(arr, mid+1, high) \n",
    "  \n",
    "arr1 = [5, 6, 1, 2, 3, 4] \n",
    "n1 = len(arr1) \n",
    "print('The minimum element is'  + str(findMin(arr1, 0, n1-1))) "
   ]
  },
  {
   "cell_type": "code",
   "execution_count": 14,
   "metadata": {
    "collapsed": false,
    "deletable": true,
    "editable": true
   },
   "outputs": [
    {
     "name": "stdout",
     "output_type": "stream",
     "text": [
      "220\n"
     ]
    }
   ],
   "source": [
    "# 0-1 Knapsack problem \n",
    "def knapSack(W, wt, val, n): \n",
    "    K = [[0 for x in range(W+1)] for x in range(n+1)] \n",
    "  \n",
    "    for i in range(n+1): \n",
    "        for w in range(W+1): \n",
    "            if i==0 or w==0: \n",
    "                K[i][w] = 0\n",
    "            elif wt[i-1] <= w: \n",
    "                K[i][w] = max(val[i-1] + K[i-1][w-wt[i-1]],  K[i-1][w]) \n",
    "            else: \n",
    "                K[i][w] = K[i-1][w] \n",
    "  \n",
    "    return K[n][W] \n",
    "  \n",
    "val = [60, 100, 120] \n",
    "wt = [10, 20, 30] \n",
    "W = 50\n",
    "n = len(val) \n",
    "print(knapSack(W, wt, val, n)) "
   ]
  },
  {
   "cell_type": "code",
   "execution_count": 15,
   "metadata": {
    "collapsed": false,
    "deletable": true,
    "editable": true
   },
   "outputs": [
    {
     "name": "stdout",
     "output_type": "stream",
     "text": [
      "Maximum product subarray is 112\n"
     ]
    }
   ],
   "source": [
    "# maximum product subarray \n",
    "def maxsubarrayproduct(arr): \n",
    "    n = len(arr) \n",
    "  \n",
    "    max_ending_here = 1 \n",
    "    min_ending_here = 1\n",
    "    max_so_far = 1\n",
    "  \n",
    "    for i in range(0, n): \n",
    "  \n",
    "        # If this element is positive, update max_ending_here. \n",
    "        # Update min_ending_here only if min_ending_here is \n",
    "        # negative \n",
    "        if arr[i] > 0: \n",
    "            max_ending_here = max_ending_here * arr[i] \n",
    "            min_ending_here = min(min_ending_here * arr[i], 1) \n",
    "  \n",
    "        # If this element is 0, then the maximum product cannot \n",
    "        # end here, make both max_ending_here and min_ending_here 0 \n",
    "        # Assumption: Output is alway greater than or equal to 1. \n",
    "        elif arr[i] == 0: \n",
    "            max_ending_here = 1\n",
    "            min_ending_here = 1\n",
    "  \n",
    "        # If element is negative. This is tricky \n",
    "        # max_ending_here can either be 1 or positive. \n",
    "        # min_ending_here can either be 1 or negative. \n",
    "        # next min_ending_here will always be prev. \n",
    "        # max_ending_here * arr[i] \n",
    "        # next max_ending_here will be 1 if prev \n",
    "        # min_ending_here is 1, otherwise \n",
    "        # next max_ending_here will be prev min_ending_here * arr[i] \n",
    "        else: \n",
    "            temp = max_ending_here \n",
    "            max_ending_here = max(min_ending_here * arr[i], 1) \n",
    "            min_ending_here = temp * arr[i]\n",
    "            \n",
    "        if max_so_far < max_ending_here: \n",
    "            max_so_far = max_ending_here \n",
    "    return max_so_far \n",
    " \n",
    "arr = [1, -2, -3, 0, 7, -8, -2] \n",
    "print('Maximum product subarray is', maxsubarrayproduct(arr))"
   ]
  },
  {
   "cell_type": "code",
   "execution_count": 16,
   "metadata": {
    "collapsed": false,
    "deletable": true,
    "editable": true
   },
   "outputs": [
    {
     "data": {
      "text/plain": [
       "10"
      ]
     },
     "execution_count": 16,
     "metadata": {},
     "output_type": "execute_result"
    }
   ],
   "source": [
    "def countNumb(x):\n",
    "    total = 0\n",
    "\n",
    "    for i in range(0, int(x)+1):\n",
    "        string_repr = str(i)\n",
    "        n = len(string_repr)\n",
    "        pattern = '[1-5]{' + str(n) +'}'\n",
    "        matchObj = re.match(pattern, string_repr)\n",
    "        if matchObj:\n",
    "            total += 1\n",
    "\n",
    "    return total\n",
    "    \n",
    "countNumb(20)"
   ]
  },
  {
   "cell_type": "code",
   "execution_count": 17,
   "metadata": {
    "collapsed": false,
    "deletable": true,
    "editable": true
   },
   "outputs": [
    {
     "name": "stdout",
     "output_type": "stream",
     "text": [
      "Maximum contiguous sum is 7\n",
      "Starting Index 2\n",
      "Ending Index 6\n"
     ]
    }
   ],
   "source": [
    "def maxSubArraySum(a, size): \n",
    "  \n",
    "    max_so_far = -sys.maxsize\n",
    "    max_ending_here = 0\n",
    "    start = 0\n",
    "    end = 0\n",
    "    s = 0\n",
    "  \n",
    "    for i in range(0, size): \n",
    "        max_ending_here += a[i] \n",
    "  \n",
    "        if max_so_far < max_ending_here: \n",
    "            max_so_far = max_ending_here \n",
    "            start = s \n",
    "            end = i \n",
    "  \n",
    "        if max_ending_here < 0: \n",
    "            max_ending_here = 0\n",
    "            s = i+1\n",
    "  \n",
    "    print('Maximum contiguous sum is %d' % max_so_far)\n",
    "    print('Starting Index %d' % start)\n",
    "    print('Ending Index %d' % end)\n",
    "    \n",
    "arr = [-2, -3, 4, -1, -2, 1, 5, -3] \n",
    "maxSubArraySum(arr, len(arr)) "
   ]
  },
  {
   "cell_type": "code",
   "execution_count": 18,
   "metadata": {
    "collapsed": false,
    "deletable": true,
    "editable": true
   },
   "outputs": [
    {
     "name": "stdout",
     "output_type": "stream",
     "text": [
      "1 2 3 4 5 6 12 18 17 16 15 14 13 7 8 9 10 11 "
     ]
    }
   ],
   "source": [
    "# print given matrix in spiral form \n",
    "def spiralPrint(a, m, n) : \n",
    "    ''' k - starting row index \n",
    "        m - ending row index \n",
    "        l - starting column index \n",
    "        n - ending column index \n",
    "        i - iterator '''\n",
    "    \n",
    "    k = 0 \n",
    "    l = 0      \n",
    "  \n",
    "    while (k < m and l < n):\n",
    "        # Print the first row from the remaining rows  \n",
    "        for i in range(l, n): \n",
    "            print(a[k][i], end = \" \") \n",
    "              \n",
    "        k += 1\n",
    "  \n",
    "        # Print the last column from the remaining columns  \n",
    "        for i in range(k, m): \n",
    "            print(a[i][n - 1], end = \" \") \n",
    "              \n",
    "        n -= 1\n",
    "  \n",
    "        # Print the last row from the remaining rows  \n",
    "        if k < m:    \n",
    "            for i in range(n - 1, (l - 1), -1): \n",
    "                print(a[m - 1][i], end = \" \") \n",
    "              \n",
    "            m -= 1\n",
    "          \n",
    "        # Print the first column from the remaining columns  \n",
    "        if l < n: \n",
    "            for i in range(m - 1, k - 1, -1): \n",
    "                print(a[i][l], end = \" \") \n",
    "              \n",
    "            l += 1\n",
    "            \n",
    "arr = [[1, 2, 3, 4, 5, 6], [7, 8, 9, 10, 11, 12], [13, 14, 15, 16, 17, 18]] \n",
    "        \n",
    "spiralPrint(arr, len(arr), len(arr[0])) "
   ]
  },
  {
   "cell_type": "code",
   "execution_count": 19,
   "metadata": {
    "collapsed": false,
    "deletable": true,
    "editable": true
   },
   "outputs": [
    {
     "name": "stdout",
     "output_type": "stream",
     "text": [
      "-134\n"
     ]
    }
   ],
   "source": [
    "def isNumericChar(x): \n",
    "    if x >= '0' and x <= '9': \n",
    "        return True\n",
    "    return False\n",
    "  \n",
    "def myAtoi(string): \n",
    "    if len(string) == 0: \n",
    "        return 0\n",
    "  \n",
    "    res = 0\n",
    "    sign = 1\n",
    "    i = 0\n",
    "  \n",
    "    if string[0] == '-': \n",
    "        sign = -1\n",
    "        i+=1\n",
    "  \n",
    "    for j in range(i, len(string)): \n",
    "        if isNumericChar(string[j]) == False: \n",
    "            return 0\n",
    "  \n",
    "        res = res*10 + (ord(string[j]) - ord('0')) \n",
    "  \n",
    "    return sign*res \n",
    "  \n",
    "\n",
    "string = '-134'\n",
    "print(myAtoi(string)) "
   ]
  },
  {
   "cell_type": "code",
   "execution_count": 20,
   "metadata": {
    "collapsed": false,
    "deletable": true,
    "editable": true
   },
   "outputs": [
    {
     "name": "stdout",
     "output_type": "stream",
     "text": [
      "Sorted numbers are: [3, 9, 34, 39, 54]\n"
     ]
    }
   ],
   "source": [
    "# Sort a stack using a temporary stack\n",
    "def sortStack(stack): \n",
    "    tmpStack = []\n",
    "    while len(stack): \n",
    "        tmp = stack[-1] \n",
    "        _ = stack.pop()\n",
    "        \n",
    "        while len(tmpStack) and tmpStack[-1] > tmp:\n",
    "            stack.append(tmpStack[-1])\n",
    "            _ = tmpStack.pop() \n",
    "  \n",
    "        tmpStack.append(tmp)\n",
    "      \n",
    "    return tmpStack \n",
    "\n",
    "stack = [34, 3, 9, 39, 54]\n",
    "sortedst = sortStack(stack) \n",
    "print('Sorted numbers are:', sortedst) "
   ]
  },
  {
   "cell_type": "code",
   "execution_count": 21,
   "metadata": {
    "collapsed": false,
    "deletable": true,
    "editable": true
   },
   "outputs": [
    {
     "name": "stdout",
     "output_type": "stream",
     "text": [
      "1 3 2 5 4\n",
      "1 2\n",
      "3 2 1\n",
      "1 2 3\n",
      "2 1 4 3 5\n",
      "1 2 6 5 4 3\n",
      "3 2 1 6 5 4 7 9 8\n"
     ]
    }
   ],
   "source": [
    "# Returns minimum number made from given sequence without repeating digits\n",
    "def getMinNumberForPattern(seq):\n",
    "    n = len(seq)\n",
    "\n",
    "    if n >= 9:\n",
    "        return '-1'\n",
    "\n",
    "    result = [None] * (n + 1)\n",
    "    count = 1\n",
    "\n",
    "    for i in range(n + 1):\n",
    "        if i == n or seq[i] == 'I':\n",
    "            for j in range(i-1, -2 , -1):\n",
    "                result[j + 1] = count\n",
    "                count += 1\n",
    "                if j >= 0 and seq[j] == 'I':\n",
    "                    break\n",
    "    return result\n",
    "\n",
    "\n",
    "inputs = ['IDID', 'I', 'DD', 'II', 'DIDI', 'IIDDD', 'DDIDDIID']\n",
    "for Input in inputs:\n",
    "    print(*(getMinNumberForPattern(Input)))"
   ]
  },
  {
   "cell_type": "code",
   "execution_count": 22,
   "metadata": {
    "collapsed": false,
    "deletable": true,
    "editable": true
   },
   "outputs": [
    {
     "data": {
      "text/plain": [
       "3"
      ]
     },
     "execution_count": 22,
     "metadata": {},
     "output_type": "execute_result"
    }
   ],
   "source": [
    "def create_Staircase(N):\n",
    "    height = 0\n",
    "    i=0\n",
    "    remaining = N\n",
    "    if remaining == 1:\n",
    "        height = height+1\n",
    "    for i in range(N-1):\n",
    "        if remaining > i:\n",
    "            height = height+1\n",
    "        remaining = remaining - height\n",
    "    return height\n",
    "\n",
    "create_Staircase(6)"
   ]
  },
  {
   "cell_type": "code",
   "execution_count": 23,
   "metadata": {
    "collapsed": false,
    "deletable": true,
    "editable": true
   },
   "outputs": [
    {
     "data": {
      "text/plain": [
       "2"
      ]
     },
     "execution_count": 23,
     "metadata": {},
     "output_type": "execute_result"
    }
   ],
   "source": [
    "def create_Staircase2(n):\n",
    "    return math.floor((math.sqrt(1 + 8 * n) - 1) / 2)\n",
    "\n",
    "create_Staircase2(5)"
   ]
  },
  {
   "cell_type": "code",
   "execution_count": 24,
   "metadata": {
    "collapsed": false,
    "deletable": true,
    "editable": true
   },
   "outputs": [
    {
     "name": "stdout",
     "output_type": "stream",
     "text": [
      "1\n",
      "2\n",
      "3\n"
     ]
    }
   ],
   "source": [
    "# queue with 2 stacks\n",
    "class Queue:\n",
    "    \n",
    "    def __init__(self):\n",
    "        self.instack = []\n",
    "        self.outstack = [] \n",
    "        \n",
    "    def __len__(self):\n",
    "        return len(self.instack) + len(self.outstack)\n",
    "        \n",
    "    def push(self, item):\n",
    "        self.instack.append(item)\n",
    "        \n",
    "    def pop(self):\n",
    "        if not self.outstack:\n",
    "            while self.instack:\n",
    "                self.outstack.append(self.instack.pop())\n",
    "        return self.outstack.pop()\n",
    "    \n",
    "q = Queue()\n",
    "\n",
    "for i in [1, 2, 3]:\n",
    "    q.push(i)\n",
    "    \n",
    "for i in range(len(q)):\n",
    "    print(q.pop())"
   ]
  },
  {
   "cell_type": "code",
   "execution_count": 25,
   "metadata": {
    "collapsed": false,
    "deletable": true,
    "editable": true
   },
   "outputs": [
    {
     "name": "stdout",
     "output_type": "stream",
     "text": [
      "The repeating element is 5\n",
      "and the missing element is 1\n"
     ]
    }
   ],
   "source": [
    "# Find the repeating and the missing elements \n",
    "def printTwoElements(arr, size): \n",
    "    for i in range(size): \n",
    "        if arr[abs(arr[i]) - 1] > 0: \n",
    "            arr[abs(arr[i]) - 1] = -arr[abs(arr[i]) - 1] \n",
    "        else: \n",
    "            print('The repeating element is', abs(arr[i])) \n",
    "              \n",
    "    for i in range(size): \n",
    "        if arr[i] > 0: \n",
    "            print('and the missing element is', i + 1) \n",
    "\n",
    "arr = [7, 3, 4, 5, 5, 6, 2] \n",
    "n = len(arr) \n",
    "printTwoElements(arr, n) "
   ]
  },
  {
   "cell_type": "code",
   "execution_count": 26,
   "metadata": {
    "collapsed": false,
    "deletable": true,
    "editable": true
   },
   "outputs": [
    {
     "name": "stdout",
     "output_type": "stream",
     "text": [
      "2\n"
     ]
    }
   ],
   "source": [
    "# find minimum number of flip to make binary string alternate \n",
    "def flip( ch): \n",
    "    return '1' if (ch == '0') else '0'\n",
    "  \n",
    "def getFlipWithStartingCharcter(string, expected): \n",
    "    flipCount = 0\n",
    "    for i in range(len(string)): \n",
    "        if (string[i] != expected): \n",
    "            flipCount += 1\n",
    "  \n",
    "        expected = flip(expected) \n",
    "    return flipCount \n",
    "  \n",
    "\n",
    "def minFlipToMakeStringAlternate(string): \n",
    "    return min(getFlipWithStartingCharcter(string, '0'), getFlipWithStartingCharcter(string, '1')) \n",
    "  \n",
    "string = \"0001010111\"\n",
    "print(minFlipToMakeStringAlternate(string)) "
   ]
  },
  {
   "cell_type": "code",
   "execution_count": 27,
   "metadata": {
    "collapsed": false,
    "deletable": true,
    "editable": true
   },
   "outputs": [
    {
     "data": {
      "text/plain": [
       "('bbb', 2)"
      ]
     },
     "execution_count": 27,
     "metadata": {},
     "output_type": "execute_result"
    }
   ],
   "source": [
    "# Second most repeated word in a sequence\n",
    "def second_freq(list_str):\n",
    "    counter = Counter(list_str)\n",
    "    return counter.most_common(n=2)[1]\n",
    "\n",
    "arr = [\"aaa\", \"bbb\", \"ccc\", \"bbb\", \"aaa\", \"aaa\"]\n",
    "second_freq(arr)"
   ]
  },
  {
   "cell_type": "code",
   "execution_count": 28,
   "metadata": {
    "collapsed": true,
    "deletable": true,
    "editable": true
   },
   "outputs": [],
   "source": [
    "class Queue: \n",
    "    def __init__(self, capacity): \n",
    "        self.front = 0\n",
    "        self.size = 0\n",
    "        self.rear = capacity - 1\n",
    "        self.Q = [None] * capacity \n",
    "        self.capacity = capacity \n",
    "      \n",
    "    def isFull(self): \n",
    "        return self.size == self.capacity \n",
    "      \n",
    "    def isEmpty(self): \n",
    "        return self.size == 0\n",
    "  \n",
    "\n",
    "    def enqueue(self, item): \n",
    "        if self.isFull(): \n",
    "            print(\"Full\") \n",
    "            return\n",
    "        self.rear = (self.rear + 1) % (self.capacity) \n",
    "        self.Q[self.rear] = item \n",
    "        self.size = self.size + 1\n",
    "\n",
    "    def dequeue(self): \n",
    "        if self.isEmpty():\n",
    "            raise Exception('Empty queue')\n",
    "        \n",
    "        self.front = (self.front + 1) % (self.capacity) \n",
    "        self.size = self.size - 1\n",
    "          \n",
    "    def que_front(self): \n",
    "        if self.isEmpty(): \n",
    "            raise Exception('Empty queue')\n",
    "        return self.Q[self.front]\n",
    "          \n",
    "\n",
    "    def que_rear(self): \n",
    "        if self.isEmpty(): \n",
    "            raise Exception('Empty queue')\n",
    "        return self.Q[self.rear]"
   ]
  },
  {
   "cell_type": "code",
   "execution_count": 29,
   "metadata": {
    "collapsed": false,
    "deletable": true,
    "editable": true
   },
   "outputs": [
    {
     "name": "stdout",
     "output_type": "stream",
     "text": [
      "29\n"
     ]
    }
   ],
   "source": [
    "def minCost(arr):\n",
    "    cost = 0\n",
    "    if len(arr) == 1:\n",
    "        return arr[0]\n",
    "    elif len(arr) == 0:\n",
    "        return cost\n",
    "    \n",
    "    \n",
    "    heapq.heapify(arr)\n",
    "    while len(arr) > 1:\n",
    "        a = heapq.heappop(arr)\n",
    "        b = heapq.heappop(arr)\n",
    "        cost += a + b\n",
    "        heapq.heappush(arr, a + b)\n",
    "    else:\n",
    "        return cost\n",
    "    \n",
    "arr = [4, 3, 2, 6]\n",
    "print(minCost(arr))"
   ]
  },
  {
   "cell_type": "code",
   "execution_count": 30,
   "metadata": {
    "collapsed": false,
    "deletable": true,
    "editable": true
   },
   "outputs": [
    {
     "name": "stdout",
     "output_type": "stream",
     "text": [
      "g\n"
     ]
    }
   ],
   "source": [
    "# find the fist character that is repeated\n",
    "def findRepeatFirst(s):\n",
    "    p = -1\n",
    "\n",
    "    hash_table = [0 for i in range(256)]\n",
    "    pos = [0 for i in range(256)]\n",
    "\n",
    "    for i in range(len(s)):\n",
    "        k = ord(s[i])\n",
    "        if hash_table[k] == 0:\n",
    "            hash_table[k] += 1\n",
    "            pos[k] = i\n",
    "        elif hash_table[k] == 1:\n",
    "            hash_table[k] += 1\n",
    "\n",
    "    for i in range(256):\n",
    "        if hash_table[i] == 2:\n",
    "            if p == -1:\n",
    "                p = pos[i]\n",
    "            elif p > pos[i]:\n",
    "                p = pos[i]\n",
    "    return p\n",
    "\n",
    "\n",
    "string = 'geeksforgeeks'\n",
    "pos = findRepeatFirst(string);\n",
    "if (pos == -1):\n",
    "    print('Not found')\n",
    "else:\n",
    "    print(string[pos])"
   ]
  },
  {
   "cell_type": "code",
   "execution_count": 31,
   "metadata": {
    "collapsed": false,
    "deletable": true,
    "editable": true
   },
   "outputs": [
    {
     "name": "stdout",
     "output_type": "stream",
     "text": [
      "First non-repeating character is f\n"
     ]
    }
   ],
   "source": [
    "# print the first non-repeating character \n",
    "def getCharCountArray(string): \n",
    "    count = [0] * 256 \n",
    "    for i in string: \n",
    "        count[ord(i)] += 1\n",
    "    return count \n",
    "  \n",
    "def firstNonRepeating(string): \n",
    "    count = getCharCountArray(string) \n",
    "    index = -1\n",
    "    k = 0\n",
    "  \n",
    "    for i in string: \n",
    "        if count[ord(i)] == 1: \n",
    "            index = k \n",
    "            return index\n",
    "        k += 1\n",
    "  \n",
    "    return index \n",
    "\n",
    "string = \"geeksforgeeks\"\n",
    "index = firstNonRepeating(string) \n",
    "if index == -1: \n",
    "    print(\"Either all characters are repeating or string is empty\")\n",
    "else: \n",
    "    print(\"First non-repeating character is \" + string[index]) "
   ]
  },
  {
   "cell_type": "code",
   "execution_count": 32,
   "metadata": {
    "collapsed": false,
    "deletable": true,
    "editable": true
   },
   "outputs": [
    {
     "name": "stdout",
     "output_type": "stream",
     "text": [
      "cat\n",
      "tac\n",
      "act\n",
      "dog\n",
      "god\n"
     ]
    }
   ],
   "source": [
    "# print all anagarms together \n",
    "class Word: \n",
    "    __slots__ = ['string', 'index']\n",
    "    def __init__(self, string, index): \n",
    "        self.string = string \n",
    "        self.index = index \n",
    "\n",
    "def createDupArray(string, size): \n",
    "    dupArray = [] \n",
    "  \n",
    "    for i in range(size): \n",
    "        dupArray.append(Word(string[i], i)) \n",
    "  \n",
    "    return dupArray \n",
    "  \n",
    "def printAnagramsTogether(arr, size):\n",
    "    dupArray = createDupArray(arr, size)\n",
    "    \n",
    "    # sort letters in each word   \n",
    "    for i in range(size): \n",
    "        dupArray[i].string = ''.join(sorted(dupArray[i].string)) \n",
    "  \n",
    "    # sort the array of words in dupArray \n",
    "    dupArray = sorted(dupArray, key=lambda k: k.string) \n",
    "  \n",
    "    for word in dupArray: \n",
    "        print(arr[word.index])\n",
    "\n",
    "arr = [\"cat\", \"dog\", \"tac\", \"god\", \"act\"] \n",
    "n = len(arr) \n",
    "printAnagramsTogether(arr, n) "
   ]
  },
  {
   "cell_type": "code",
   "execution_count": 33,
   "metadata": {
    "collapsed": false,
    "deletable": true,
    "editable": true
   },
   "outputs": [
    {
     "name": "stdout",
     "output_type": "stream",
     "text": [
      "3\n"
     ]
    }
   ],
   "source": [
    "# Returns length of smallest subarray with sum greater than x.\n",
    "def smallestSubWithSum(arr, n, x): \n",
    "    curr_sum = 0\n",
    "    min_len = n + 1\n",
    "  \n",
    "    start = 0 \n",
    "    end = 0\n",
    "    while end < n: \n",
    "        while curr_sum <= x and end < n:\n",
    "            # Ignore subarrays with negative sum if x is positive. \n",
    "            if curr_sum <= 0 and x > 0:\n",
    "                start = end\n",
    "                curr_sum = 0\n",
    "  \n",
    "            curr_sum += arr[end]\n",
    "            end += 1\n",
    "  \n",
    "        while curr_sum > x and start < n:\n",
    "            if end - start < min_len: \n",
    "                min_len = end - start \n",
    "  \n",
    "            curr_sum -= arr[start]\n",
    "            start += 1\n",
    "              \n",
    "    return min_len\n",
    "  \n",
    "arr = [- 8, 1, 4, 2, -6]\n",
    "x = 6\n",
    "n = len(arr)\n",
    "res = smallestSubWithSum(arr, n, x)\n",
    "if(res == n + 1): \n",
    "    print('Not possible')\n",
    "else: \n",
    "    print(res)"
   ]
  },
  {
   "cell_type": "code",
   "execution_count": 34,
   "metadata": {
    "collapsed": false,
    "deletable": true,
    "editable": true
   },
   "outputs": [
    {
     "name": "stdout",
     "output_type": "stream",
     "text": [
      "Minimum number of trials in worst case with 2 eggs and 36 floors is 8\n"
     ]
    }
   ],
   "source": [
    "# Get minimum number of trials needed in worst case with n eggs and k floors \n",
    "def eggDrop(n, k): \n",
    "    eggFloor = [[0 for x in range(k+1)] for x in range(n+1)] \n",
    "  \n",
    "    for i in range(0, n+1): \n",
    "        eggFloor[i][1] = 1\n",
    "        eggFloor[i][0] = 0\n",
    "  \n",
    "    for j in range(0, k+1): \n",
    "        eggFloor[1][j] = j \n",
    "  \n",
    "    for i in range(2, n+1): \n",
    "        for j in range(2, k+1): \n",
    "            eggFloor[i][j] = sys.maxsize \n",
    "            for x in range(1, j+1): \n",
    "                res = 1 + max(eggFloor[i-1][x-1], eggFloor[i][j-x]) \n",
    "                if res < eggFloor[i][j]: \n",
    "                    eggFloor[i][j] = res \n",
    "  \n",
    "    return eggFloor[n][k] \n",
    "\n",
    "n = 2\n",
    "k = 36\n",
    "print('Minimum number of trials in worst case with {:d} eggs and {:d} floors is {:d}'.format(n, k, eggDrop(n, k)))"
   ]
  },
  {
   "cell_type": "code",
   "execution_count": 35,
   "metadata": {
    "collapsed": false,
    "deletable": true,
    "editable": true
   },
   "outputs": [
    {
     "name": "stdout",
     "output_type": "stream",
     "text": [
      "Reversed String: much very program this like i\n"
     ]
    }
   ],
   "source": [
    "# Reverse words in a given string\n",
    "def reverse_words(string):\n",
    "    words = string.split(' ')\n",
    "    for i in range(len(words)//2):\n",
    "        words[i], words[-1-i] = words[-1-i], words[i]\n",
    "\n",
    "    return ' '.join(words)\n",
    "\n",
    "string = 'i like this program very much'\n",
    "print('Reversed String:', reverse_words(string)) "
   ]
  },
  {
   "cell_type": "code",
   "execution_count": 36,
   "metadata": {
    "collapsed": false,
    "deletable": true,
    "editable": true
   },
   "outputs": [
    {
     "name": "stdout",
     "output_type": "stream",
     "text": [
      "35 Found at index [1, 2]\n"
     ]
    },
    {
     "data": {
      "text/plain": [
       "1"
      ]
     },
     "execution_count": 36,
     "metadata": {},
     "output_type": "execute_result"
    }
   ],
   "source": [
    "# Searches the element x in sorted matrix\n",
    "def search(mat, n, x): \n",
    "    # set indexes for top right element \n",
    "    i = 0\n",
    "    j = n - 1\n",
    "    while i < n and j >= 0: \n",
    "      \n",
    "        if mat[i][j] == x: \n",
    "            print('%i Found at index [%i, %i]' % (x, i ,j)) \n",
    "            return 1\n",
    "        elif mat[i][j] > x: \n",
    "            j -= 1\n",
    "        else:  \n",
    "            i += 1\n",
    "      \n",
    "    print('Element not found') \n",
    "    return 0 \n",
    "  \n",
    "mat= [[10, 20, 30, 40], \n",
    "      [15, 25, 35, 45], \n",
    "      [27, 29, 37, 48], \n",
    "      [32, 33, 39, 50]] \n",
    "search(mat, 4, 35) "
   ]
  },
  {
   "cell_type": "code",
   "execution_count": 37,
   "metadata": {
    "collapsed": false,
    "deletable": true,
    "editable": true
   },
   "outputs": [
    {
     "name": "stdout",
     "output_type": "stream",
     "text": [
      "3\n",
      "3\n"
     ]
    }
   ],
   "source": [
    "# Edit distance\n",
    "def edit_distance(s1, s2):\n",
    "    m, n = len(s1), len(s2)\n",
    "    if m > n:\n",
    "        edit_distance(s2, s1)\n",
    "    \n",
    "    prev = list(range(n+1))\n",
    "    for i, ch1 in enumerate(s1, 1):\n",
    "        curr = [i]\n",
    "        for j, ch2 in enumerate(s2, 1):\n",
    "            curr.append(min(curr[-1] + 1, prev[j] + 1, prev[j-1] + (ch1 != ch2)))\n",
    "        prev = curr\n",
    "    return prev[n]\n",
    "\n",
    "def editDistDP(str1, str2): \n",
    "    m = len(str1)\n",
    "    n = len(str2)\n",
    "    dp = [[0 for x in range(n+1)] for x in range(m+1)] \n",
    "  \n",
    "    for i in range(m+1): \n",
    "        for j in range(n+1): \n",
    "            if i == 0: \n",
    "                dp[i][j] = j\n",
    "\n",
    "            elif j == 0: \n",
    "                dp[i][j] = i\n",
    "  \n",
    "            elif str1[i-1] == str2[j-1]: \n",
    "                dp[i][j] = dp[i-1][j-1] \n",
    "\n",
    "            else: \n",
    "                dp[i][j] = 1 + min(dp[i][j-1], dp[i-1][j], dp[i-1][j-1])\n",
    "  \n",
    "    return dp[m][n] \n",
    "\n",
    "str1 = \"sunday\"\n",
    "str2 = \"saturday\"\n",
    "  \n",
    "print(edit_distance(str1, str2))\n",
    "print(editDistDP(str1, str2))"
   ]
  },
  {
   "cell_type": "code",
   "execution_count": 39,
   "metadata": {
    "collapsed": false,
    "deletable": true,
    "editable": true
   },
   "outputs": [
    {
     "name": "stdout",
     "output_type": "stream",
     "text": [
      "20\n"
     ]
    }
   ],
   "source": [
    "# find minimum steps to reach to specific cell by Knight  \n",
    "class Cell: \n",
    "    def __init__(self, x, y, dist): \n",
    "        self.x = x \n",
    "        self.y = y \n",
    "        self.dist = dist \n",
    "          \n",
    "\n",
    "def isInside(x, y, N): \n",
    "    if x >= 1 and x <= N and y >= 1 and y <= N:  \n",
    "        return True\n",
    "    return False\n",
    "      \n",
    "def minStepToReachTarget(knightpos, targetpos, N): \n",
    "    #all possible movments for the knight \n",
    "    dx = [2, 2, -2, -2, 1, 1, -1, -1] \n",
    "    dy = [1, -1, 1, -1, 2, -2, 2, -2] \n",
    "      \n",
    "    queue = [] \n",
    "      \n",
    "    # push starting position of knight with 0 distance \n",
    "    queue.append(Cell(knightpos[0], knightpos[1], 0)) \n",
    "      \n",
    "    # make all cell unvisited  \n",
    "    visited = [[False for i in range(N + 1)] for j in range(N + 1)] \n",
    "      \n",
    "    # visit starting state \n",
    "    visited[knightpos[0]][knightpos[1]] = True\n",
    "      \n",
    "    # loop untill we have one element in queue  \n",
    "    while len(queue) > 0: \n",
    "        t = queue[0] \n",
    "        queue.pop(0) \n",
    "        \n",
    "        if t.x == targetpos[0] and t.y == targetpos[1]: \n",
    "            return t.dist \n",
    "              \n",
    "        for i in range(8):  \n",
    "            x = t.x + dx[i] \n",
    "            y = t.y + dy[i] \n",
    "              \n",
    "            if isInside(x, y, N) and not visited[x][y]: \n",
    "                visited[x][y] = True\n",
    "                queue.append(Cell(x, y, t.dist + 1)) \n",
    "\n",
    "N = 30\n",
    "knightpos = [1, 1] \n",
    "targetpos = [30, 30] \n",
    "print(minStepToReachTarget(knightpos, targetpos, N)) "
   ]
  },
  {
   "cell_type": "code",
   "execution_count": 45,
   "metadata": {
    "collapsed": false,
    "deletable": true,
    "editable": true
   },
   "outputs": [
    {
     "name": "stdout",
     "output_type": "stream",
     "text": [
      "Buy at 0\n",
      "Sell at 3\n",
      "Buy at 4\n",
      "Sell at 6\n",
      "865\n"
     ]
    }
   ],
   "source": [
    "def stockBuySell(arr):  \n",
    "    profit = 0\n",
    "    temp = 0\n",
    "    buy = True\n",
    "    sell = False\n",
    "    for i in range(0, len(arr)-1):\n",
    "        if buy:\n",
    "            if arr[i+1] > arr[i]:\n",
    "                buy = False\n",
    "                sell = True\n",
    "                print('Buy at', i)\n",
    "                temp = arr[i]\n",
    "        if sell:\n",
    "            if arr[i+1] < arr[i]:\n",
    "                sell = False\n",
    "                buy = True\n",
    "                print('Sell at', i)\n",
    "                profit += arr[i] - temp\n",
    "        if i == len(arr)-2 and sell:\n",
    "            print('Sell at', i+1)\n",
    "            sell = False\n",
    "            profit += arr[i+1] - temp\n",
    "            \n",
    "    return profit\n",
    "    \n",
    "arr = [100, 180, 260, 310, 40, 535, 695]\n",
    "print(stockBuySell(arr))"
   ]
  },
  {
   "cell_type": "code",
   "execution_count": 51,
   "metadata": {
    "collapsed": false,
    "deletable": true,
    "editable": true
   },
   "outputs": [
    {
     "name": "stdout",
     "output_type": "stream",
     "text": [
      "Rectangles Overlap\n"
     ]
    }
   ],
   "source": [
    "def determine_overlap(rect1, rect2):\n",
    "    rect1_l, rect1_t, rect1_r, rect1_b = [rect1[0], rect1[1], rect1[2], rect1[3]]\n",
    "    rect2_l, rect2_t, rect2_r, rect2_b = [rect2[0], rect2[1], rect2[2], rect2[3]]\n",
    "    if ((rect1_l >= rect2_l and rect1_l < rect2_r) or (rect2_l >= rect1_l and rect2_l < rect1_r))\\\n",
    "    and \\\n",
    "    ((rect1_t > rect2_b and rect1_t <= rect2_t) or (rect2_t > rect1_b and rect2_t <= rect1_t)):\n",
    "        return 1\n",
    "    else: \n",
    "        return 0\n",
    "\n",
    "rect1 = [0, 10, 10, 0] \n",
    "rect2 = [5, 5, 15, 0]\n",
    "if determine_overlap(rect1, rect2):\n",
    "    print('Rectangles Overlap')\n",
    "else:\n",
    "    print('Rectangles Don\\'t Overlap')"
   ]
  },
  {
   "cell_type": "code",
   "execution_count": 54,
   "metadata": {
    "collapsed": false,
    "deletable": true,
    "editable": true
   },
   "outputs": [
    {
     "name": "stdout",
     "output_type": "stream",
     "text": [
      "1332\n"
     ]
    }
   ],
   "source": [
    "# find sun of numbers formed by all permutations of given set of digits \n",
    "def factorial(n): \n",
    "    f = 1\n",
    "    if n == 0 or n == 1: \n",
    "        return 1\n",
    "    for i in range(2, n + 1): \n",
    "        f = f * i \n",
    "    return f \n",
    "  \n",
    "def getSum(arr): \n",
    "    n = len(arr)\n",
    "    digitsum = sum(arr) * factorial(n-1) \n",
    "  \n",
    "    # Compute result (sum of all the numbers) \n",
    "    res = 0\n",
    "    i = 1\n",
    "    k = 1\n",
    "    while i <= n : \n",
    "        res += (k * digitsum) \n",
    "        k = k * 10\n",
    "        i += 1\n",
    "  \n",
    "    return res \n",
    "\n",
    "arr = [1, 2, 3]\n",
    "print(getSum(arr)) "
   ]
  },
  {
   "cell_type": "code",
   "execution_count": 66,
   "metadata": {
    "collapsed": false,
    "deletable": true,
    "editable": true
   },
   "outputs": [
    {
     "name": "stdout",
     "output_type": "stream",
     "text": [
      "Count is 9\n"
     ]
    }
   ],
   "source": [
    "# count decodings  \n",
    "def countDecodingDP(digits):\n",
    "    n = len(digits)\n",
    "    count = [0] * (n + 1)\n",
    "    count[0] = 1  \n",
    "    count[1] = 1  \n",
    "  \n",
    "    for i in range(2, n + 1):  \n",
    "        count[i] = 0\n",
    "  \n",
    "        # If the last digit is not 0, then add to count  \n",
    "        if digits[i - 1] > '0':  \n",
    "            count[i] += count[i - 1] \n",
    "  \n",
    "        # If two last digit form value smaller than 27, then add to count  \n",
    "        if digits[i - 2] == '1' or (digits[i - 2] == '2' and digits[i - 1] < '7'):  \n",
    "            count[i] += count[i - 2] \n",
    "  \n",
    "    return count[n]\n",
    " \n",
    "digits = '1234121'\n",
    "print('Count is', countDecodingDP(digits)) "
   ]
  },
  {
   "cell_type": "code",
   "execution_count": 3,
   "metadata": {
    "collapsed": false,
    "deletable": true,
    "editable": true
   },
   "outputs": [
    {
     "name": "stdout",
     "output_type": "stream",
     "text": [
      "10\n",
      "9\n"
     ]
    }
   ],
   "source": [
    "# count subarrays having product less than k. \n",
    "def countSubArrayProductLessThanK(arr, k): \n",
    "    n = len(arr)  \n",
    "    p = 1\n",
    "    count = 0\n",
    "    start = 0\n",
    "    end = 0 \n",
    "    while end < n: \n",
    "        # Move right bound by 1 step. Update the product. \n",
    "        p *= arr[end] \n",
    "          \n",
    "        # Move left bound so guarantee that p is again less than k. \n",
    "        while start < end and p >= k:  \n",
    "            p = p / arr[start] \n",
    "            start += 1\n",
    "          \n",
    "        # If p is less than k, update the counter\n",
    "        if p < k:  \n",
    "            l = end - start + 1\n",
    "            count += l \n",
    "          \n",
    "        end+=1\n",
    "  \n",
    "    return count \n",
    "\n",
    "print(countSubArrayProductLessThanK([1, 2, 3, 4, 5, 6, 7], 10))  \n",
    "print(countSubArrayProductLessThanK([1, 2, 3, 4, 5, 6, 11], 10))  "
   ]
  },
  {
   "cell_type": "code",
   "execution_count": 8,
   "metadata": {
    "collapsed": false,
    "deletable": true,
    "editable": true
   },
   "outputs": [
    {
     "data": {
      "text/plain": [
       "True"
      ]
     },
     "execution_count": 8,
     "metadata": {},
     "output_type": "execute_result"
    }
   ],
   "source": [
    "# Find if array can be partitioned in two subsets of equal sum\n",
    "def findPartition(arr):\n",
    "    n = len(arr)\n",
    "    total_sum = sum(arr)\n",
    "    i, j = 0, 0\n",
    "      \n",
    "    if total_sum % 2 != 0: \n",
    "        return false \n",
    "      \n",
    "    part = [[ True for i in range(n + 1)] for j in range(total_sum // 2 + 1)] \n",
    "      \n",
    "    # initialize top row as true \n",
    "    for i in range(0, n + 1): \n",
    "        part[0][i] = True\n",
    "          \n",
    "    # intialize leftmost column, except part[0][0], as false \n",
    "    for i in range(1, total_sum // 2 + 1): \n",
    "        part[i][0] = False\n",
    "      \n",
    "    # fill the partition table in bottom up manner \n",
    "    for i in range(1, total_sum // 2 + 1): \n",
    "        for j in range(1, n + 1): \n",
    "            part[i][j] = part[i][j - 1] \n",
    "              \n",
    "            if i >= arr[j - 1]: \n",
    "                part[i][j] = part[i][j] or part[i - arr[j - 1]][j - 1]\n",
    "          \n",
    "    return part[total_sum // 2][n] \n",
    "       \n",
    "arr = [3, 1, 1, 2, 2, 1]\n",
    "findPartition(arr)"
   ]
  },
  {
   "cell_type": "code",
   "execution_count": 44,
   "metadata": {
    "collapsed": false,
    "deletable": true,
    "editable": true
   },
   "outputs": [
    {
     "data": {
      "text/plain": [
       "True"
      ]
     },
     "execution_count": 44,
     "metadata": {},
     "output_type": "execute_result"
    }
   ],
   "source": [
    "def break_string(d, string):\n",
    "    n = len(string)\n",
    "    dp = [False] * (n+1)\n",
    "    \n",
    "    for i in range(1, n+1):\n",
    "        if dp[i] == False and string[:i] in d:\n",
    "            dp[i] = True\n",
    "        if dp[i] == True:\n",
    "            if i == n:\n",
    "                return True\n",
    "            for j in range(i+1, n+1):\n",
    "                if dp[j] == False and string[i:j] in d:\n",
    "                    dp[j] = True\n",
    "                if j == n and dp[j] == True:\n",
    "                    return True\n",
    "    return False\n",
    "\n",
    "d = set(['i', 'like', 'sam', 'sung', 'samsung', 'mobile', 'ice', 'cream', 'icecream', 'man', 'go', 'mango'])\n",
    "string = 'ilike'\n",
    "break_string(d, string)"
   ]
  }
 ],
 "metadata": {
  "kernelspec": {
   "display_name": "Python 3",
   "language": "python",
   "name": "python3"
  },
  "language_info": {
   "codemirror_mode": {
    "name": "ipython",
    "version": 3
   },
   "file_extension": ".py",
   "mimetype": "text/x-python",
   "name": "python",
   "nbconvert_exporter": "python",
   "pygments_lexer": "ipython3",
   "version": "3.4.3"
  }
 },
 "nbformat": 4,
 "nbformat_minor": 2
}
