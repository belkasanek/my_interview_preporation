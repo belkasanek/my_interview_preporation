{
 "cells": [
  {
   "cell_type": "code",
   "execution_count": 1,
   "metadata": {},
   "outputs": [],
   "source": [
    "import sys"
   ]
  },
  {
   "cell_type": "markdown",
   "metadata": {},
   "source": [
    "### Write a program to generate Fibonacci sequence."
   ]
  },
  {
   "cell_type": "code",
   "execution_count": 1,
   "metadata": {},
   "outputs": [
    {
     "data": {
      "text/plain": [
       "3"
      ]
     },
     "execution_count": 1,
     "metadata": {},
     "output_type": "execute_result"
    }
   ],
   "source": [
    "def fibonacci(n):\n",
    "    a = 0\n",
    "    b = 1\n",
    "    if n < 0:\n",
    "        print(\"Incorrect input\")\n",
    "    elif n == 0:\n",
    "        return a\n",
    "    elif n == 1:\n",
    "        return b\n",
    "    else:\n",
    "        for i in range(2,n+1):\n",
    "            c = a + b\n",
    "            a = b\n",
    "            b = c\n",
    "        return b\n",
    "    \n",
    "fibonacci(4)"
   ]
  },
  {
   "cell_type": "markdown",
   "metadata": {},
   "source": [
    "### Optimal Strategy for a Game"
   ]
  },
  {
   "cell_type": "code",
   "execution_count": 6,
   "metadata": {},
   "outputs": [
    {
     "name": "stdout",
     "output_type": "stream",
     "text": [
      "22\n",
      "22\n"
     ]
    }
   ],
   "source": [
    "def optimalStrategyOfGame(arr):\n",
    "    n = len(arr)\n",
    "    # maximum value the user can collect from i'th coin to j'th coin\n",
    "    table = [[0 for i in range(n)]\n",
    "                for i in range(n)]\n",
    "    \n",
    "    for gap in range(n):\n",
    "        for j in range(gap, n):\n",
    "            i = j - gap\n",
    "            \n",
    "            # Here x is value of F(i+2, j),\n",
    "            # y is F(i+1, j-1) and z is\n",
    "            # F(i, j-2) in above recursive\n",
    "            # formula\n",
    "            x = 0\n",
    "            if (i + 2) <= j:\n",
    "                x = table[i + 2][j]\n",
    "            y = 0\n",
    "            if (i + 1) <= (j - 1):\n",
    "                y = table[i + 1][j - 1]\n",
    "            z = 0\n",
    "            if i <= (j - 2):\n",
    "                z = table[i][j - 2]\n",
    "                \n",
    "            table[i][j] = max(arr[i] + min(x, y),\n",
    "                              arr[j] + min(y, z))\n",
    "    return table[0][n - 1]\n",
    "\n",
    "def optimalStrategyOfGamerec(arr, i=0, j=len(arr)-1):\n",
    "    # only two coins left\n",
    "    if i == j-1:\n",
    "        return max(arr[i], arr[j])\n",
    "    \n",
    "    return max(arr[i] + min(optimalStrategyOfGamerec(arr, i+1, j-1), optimalStrategyOfGamerec(arr, i+2, j)),\n",
    "               arr[j] + min(optimalStrategyOfGamerec(arr, i+1, j-1), optimalStrategyOfGamerec(arr, i, j-2)))\n",
    "\n",
    "arr = [8, 15, 3, 7]\n",
    "print(optimalStrategyOfGame(arr))\n",
    "print(optimalStrategyOfGamerec(arr))"
   ]
  },
  {
   "cell_type": "markdown",
   "metadata": {},
   "source": [
    "### Find maximum contiguous subarray"
   ]
  },
  {
   "cell_type": "code",
   "execution_count": 2,
   "metadata": {},
   "outputs": [
    {
     "name": "stdout",
     "output_type": "stream",
     "text": [
      "Maximum contiguous sum is -3\n",
      "Maximum contiguous sum is 7\n"
     ]
    }
   ],
   "source": [
    "def maxSubArraySum(a, size):\n",
    "    max_so_far = a[0]\n",
    "    curr_max = a[0]\n",
    "     \n",
    "    for i in range(1, size):\n",
    "        curr_max = max(a[i], curr_max + a[i])\n",
    "        max_so_far = max(max_so_far, curr_max)\n",
    "         \n",
    "    return max_so_far\n",
    "  \n",
    "# Driver function to check the above function \n",
    "a = [-13, -3, -25, -20, -3, -16, -23, -12, -5, -22, -15, -4, -7]\n",
    "print(\"Maximum contiguous sum is\", maxSubArraySum(a, len(a)))\n",
    "a = [-2, -3, 4, -1, -2, 1, 5, -3]\n",
    "print(\"Maximum contiguous sum is\", maxSubArraySum(a, len(a)))"
   ]
  },
  {
   "cell_type": "markdown",
   "metadata": {},
   "source": [
    "### Longest increasing subsequence"
   ]
  },
  {
   "cell_type": "code",
   "execution_count": 3,
   "metadata": {},
   "outputs": [
    {
     "name": "stdout",
     "output_type": "stream",
     "text": [
      "Length of lis is 5\n"
     ]
    }
   ],
   "source": [
    "def lis(arr): \n",
    "    n = len(arr) \n",
    "  \n",
    "    # initialize LIS values for all indexes \n",
    "    lis = [1] * n \n",
    "  \n",
    "    # Compute optimized LIS values in bottom up manner \n",
    "    for i in range (1, n): \n",
    "        for j in range(0, i): \n",
    "            if arr[i] > arr[j] and lis[i] < lis[j] + 1: \n",
    "                lis[i] = lis[j] + 1\n",
    "\n",
    "    maximum = 0\n",
    "    for i in range(n): \n",
    "        maximum = max(maximum, lis[i]) \n",
    "  \n",
    "    return maximum \n",
    "\n",
    "arr = [10, 22, 9, 33, 21, 50, 41, 60] \n",
    "print(\"Length of lis is\", lis(arr)) "
   ]
  },
  {
   "cell_type": "markdown",
   "metadata": {},
   "source": [
    "### Edit distance"
   ]
  },
  {
   "cell_type": "code",
   "execution_count": 4,
   "metadata": {},
   "outputs": [
    {
     "name": "stdout",
     "output_type": "stream",
     "text": [
      "3\n"
     ]
    }
   ],
   "source": [
    "def edit_dist(str1, str2, m, n): \n",
    "    # Create a table to store results of subproblems \n",
    "    dp = [[0 for x in range(n+1)] for x in range(m+1)] \n",
    "  \n",
    "    # Fill dp in bottom up manner \n",
    "    for i in range(m+1): \n",
    "        for j in range(n+1): \n",
    "            if i == 0: \n",
    "                dp[i][j] = j\n",
    "            elif j == 0: \n",
    "                dp[i][j] = i\n",
    "\n",
    "            elif str1[i-1] == str2[j-1]: \n",
    "                dp[i][j] = dp[i-1][j-1] \n",
    "\n",
    "            else: \n",
    "                dp[i][j] = 1 + min(dp[i][j-1],        # Insert \n",
    "                                   dp[i-1][j],        # Remove \n",
    "                                   dp[i-1][j-1])    # Replace \n",
    "  \n",
    "    return dp[m][n] \n",
    "  \n",
    "str1 = \"sunday\"\n",
    "str2 = \"saturday\"  \n",
    "print(edit_dist(str1, str2, len(str1), len(str2))) "
   ]
  },
  {
   "cell_type": "code",
   "execution_count": 5,
   "metadata": {},
   "outputs": [
    {
     "name": "stdout",
     "output_type": "stream",
     "text": [
      "7\n"
     ]
    }
   ],
   "source": [
    "# program to count number of ways to cover a distance with 1, 2 and 3 steps \n",
    "def printCountDP(dist): \n",
    "    count = [0] * (dist + 1) \n",
    "      \n",
    "    # Initialize base values\n",
    "    count[0] = 1\n",
    "    count[1] = 1\n",
    "    count[2] = 2\n",
    "      \n",
    "    for i in range(3, dist + 1): \n",
    "        count[i] = (count[i-1] + count[i-2] + count[i-3]) \n",
    "          \n",
    "    return count[dist]\n",
    "  \n",
    "dist = 4\n",
    "print(printCountDP(dist)) "
   ]
  },
  {
   "cell_type": "code",
   "execution_count": 6,
   "metadata": {},
   "outputs": [
    {
     "name": "stdout",
     "output_type": "stream",
     "text": [
      "Length of maximum size chain is 3\n"
     ]
    }
   ],
   "source": [
    "def maxChainLength(arr, n): \n",
    "      \n",
    "    max_length = 0\n",
    "  \n",
    "    # Initialize max chain length\n",
    "    mcl = [1 for i in range(n)] \n",
    "  \n",
    "    # Compute optimized chain length values in bottom up manner \n",
    "    for i in range(1, n): \n",
    "        for j in range(0, i): \n",
    "            if (arr[i][0] > arr[j][1] and mcl[i] < mcl[j] + 1): \n",
    "                mcl[i] = mcl[j] + 1\n",
    "  \n",
    "    for i in range(n): \n",
    "        if (max_length < mcl[i]): \n",
    "            max_length = mcl[i] \n",
    "  \n",
    "    return max_length\n",
    "  \n",
    "# Driver program to test above function \n",
    "arr = [(5, 24), (15, 25), (27, 40), (50, 60)] \n",
    "  \n",
    "print('Length of maximum size chain is', maxChainLength(arr, len(arr))) "
   ]
  },
  {
   "cell_type": "code",
   "execution_count": 7,
   "metadata": {},
   "outputs": [
    {
     "data": {
      "text/plain": [
       "True"
      ]
     },
     "execution_count": 7,
     "metadata": {},
     "output_type": "execute_result"
    }
   ],
   "source": [
    "def isSubsetSum(arr, n, summa): \n",
    "     \n",
    "    # The value of subset[i%2][j] will be true  \n",
    "    # if there exists a subset of sum j in  \n",
    "    # arr[0, 1, ...., i-1] \n",
    "    subset = [[False for j in range(summa + 1)] for i in range(2)] \n",
    "   \n",
    "    for i in range(n + 1):\n",
    "        for j in range(summa + 1): \n",
    "            # A subset with sum 0 is always possible  \n",
    "            if (j == 0): \n",
    "                subset[i % 2][j] = True\n",
    "            elif (i == 0): \n",
    "                subset[i % 2][j] = False\n",
    "            elif (arr[i - 1] <= j): \n",
    "                subset[i % 2][j] = subset[(i + 1) % 2][j - arr[i - 1]] or subset[(i + 1) % 2][j] \n",
    "            else: \n",
    "                subset[i % 2][j] = subset[(i + 1) % 2][j] \n",
    "                  \n",
    "    return subset[n % 2][summa]\n",
    "\n",
    "s = [3, 1, 2] \n",
    "summa = 3\n",
    "n = len(s) \n",
    "\n",
    "isSubsetSum(s, n, summa)"
   ]
  },
  {
   "cell_type": "code",
   "execution_count": 8,
   "metadata": {},
   "outputs": [
    {
     "name": "stdout",
     "output_type": "stream",
     "text": [
      "Length of LCS is  4\n"
     ]
    }
   ],
   "source": [
    "# Longest common substring\n",
    "def lcs(X , Y): \n",
    "    # find the length of the strings \n",
    "    m = len(X) \n",
    "    n = len(Y) \n",
    "  \n",
    "    # declaring the array for storing the dp values \n",
    "    L = [[None]*(n+1) for i in range(m+1)] \n",
    "  \n",
    "    \"\"\"Following steps build L[m+1][n+1] in bottom up fashion \n",
    "    Note: L[i][j] contains length of LCS of X[0..i-1] \n",
    "    and Y[0..j-1]\"\"\"\n",
    "    for i in range(m+1): \n",
    "        for j in range(n+1): \n",
    "            if i == 0 or j == 0 : \n",
    "                L[i][j] = 0\n",
    "            elif X[i-1] == Y[j-1]: \n",
    "                L[i][j] = L[i-1][j-1]+1\n",
    "            else: \n",
    "                L[i][j] = max(L[i-1][j] , L[i][j-1]) \n",
    "  \n",
    "    # L[m][n] contains the length of LCS of X[0..n-1] & Y[0..m-1] \n",
    "    return L[m][n] \n",
    "  \n",
    "X = \"AGGTAB\"\n",
    "Y = \"GXTXAYB\"\n",
    "print(\"Length of LCS is \", lcs(X, Y)) "
   ]
  },
  {
   "cell_type": "code",
   "execution_count": 109,
   "metadata": {},
   "outputs": [
    {
     "name": "stdout",
     "output_type": "stream",
     "text": [
      "Minimum number of multiplications is 18\n"
     ]
    }
   ],
   "source": [
    "# number of operations\n",
    "def MatrixChainOrder(p, n): \n",
    "    # m[i,j] = Minimum number of scalar multiplications needed \n",
    "    # to compute the matrix A[i]A[i+1]...A[j] = A[i..j] where \n",
    "    # dimension of A[i] is p[i-1] x p[i] \n",
    "    m = [[0 for x in range(n)] for x in range(n)] \n",
    "  \n",
    "    for L in range(2, n):\n",
    "        for i in range(1, n-L+1):\n",
    "            j = i + L - 1\n",
    "            m[i][j] = sys.maxsize\n",
    "            for k in range(i, j):\n",
    "                q = m[i][k] + m[k+1][j] + p[i-1]*p[k]*p[j]\n",
    "                if q < m[i][j]:\n",
    "                    m[i][j] = q\n",
    "  \n",
    "    return m[1][n-1] \n",
    "\n",
    "arr = [1, 2, 3, 4]\n",
    "print(\"Minimum number of multiplications is \" + str(MatrixChainOrder(arr, len(arr))))"
   ]
  },
  {
   "cell_type": "code",
   "execution_count": 122,
   "metadata": {},
   "outputs": [
    {
     "name": "stdout",
     "output_type": "stream",
     "text": [
      "4\n"
     ]
    }
   ],
   "source": [
    "# Change problem \n",
    "def count(S, m, n): \n",
    "    # table[i] will be storing the number of solutions for \n",
    "    # value i. We need n+1 rows as the table is constructed \n",
    "    # in bottom up manner using the base case (n = 0) \n",
    "    # Initialize all table values as 0 \n",
    "    table = [0 for k in range(n+1)] \n",
    "  \n",
    "    # Base case (If given value is 0) \n",
    "    table[0] = 1\n",
    "  \n",
    "    # Pick all coins one by one and update the table[] values \n",
    "    # after the index greater than or equal to the value of the \n",
    "    # picked coin \n",
    "    for i in range(0, m): \n",
    "        for j in range(S[i], n+1): \n",
    "            table[j] += table[j-S[i]] \n",
    "  \n",
    "    return table[n] \n",
    "  \n",
    "arr = [1, 2, 3] \n",
    "m = len(arr) \n",
    "n = 4\n",
    "x = count(arr, m, n) \n",
    "print (x) "
   ]
  },
  {
   "cell_type": "code",
   "execution_count": null,
   "metadata": {
    "collapsed": true
   },
   "outputs": [],
   "source": []
  }
 ],
 "metadata": {
  "kernelspec": {
   "display_name": "Python 3",
   "language": "python",
   "name": "python3"
  },
  "language_info": {
   "codemirror_mode": {
    "name": "ipython",
    "version": 3
   },
   "file_extension": ".py",
   "mimetype": "text/x-python",
   "name": "python",
   "nbconvert_exporter": "python",
   "pygments_lexer": "ipython3",
   "version": "3.5.2"
  }
 },
 "nbformat": 4,
 "nbformat_minor": 2
}
