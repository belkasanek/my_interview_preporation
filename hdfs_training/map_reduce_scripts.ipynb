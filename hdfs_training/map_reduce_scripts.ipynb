{
 "cells": [
  {
   "cell_type": "code",
   "execution_count": 1,
   "metadata": {
    "collapsed": true,
    "deletable": true,
    "editable": true
   },
   "outputs": [],
   "source": [
    "import sys\n",
    "import re"
   ]
  },
  {
   "cell_type": "markdown",
   "metadata": {
    "deletable": true,
    "editable": true
   },
   "source": [
    "### WordCount"
   ]
  },
  {
   "cell_type": "code",
   "execution_count": 27,
   "metadata": {
    "collapsed": false,
    "deletable": true,
    "editable": true
   },
   "outputs": [
    {
     "name": "stdout",
     "output_type": "stream",
     "text": [
      "aut\t2\n",
      "nihil\t1\n",
      "Caesar\t1\n",
      "aut\t2\n",
      "mortuis\t1\n",
      "aut\t2\n",
      "nihil\t1\n",
      "de\t1\n",
      "bene\t1\n"
     ]
    }
   ],
   "source": [
    "# Map\n",
    "\n",
    "# for line in sys.stdin:\n",
    "for line in ['aut Caesar aut nihil', 'aut aut', 'de mortuis aut bene aut nihil']:\n",
    "    d = {}\n",
    "    for word in line.split():\n",
    "        if word not in d:\n",
    "            d[word] = 1\n",
    "        else:\n",
    "            d[word] += 1\n",
    "    for k, v in d.items():\n",
    "        print(k + '\\t' + str(v))"
   ]
  },
  {
   "cell_type": "code",
   "execution_count": 28,
   "metadata": {
    "collapsed": false,
    "deletable": true,
    "editable": true
   },
   "outputs": [
    {
     "name": "stdout",
     "output_type": "stream",
     "text": [
      "nihil\t2\n",
      "Caesar\t1\n",
      "mortuis\t1\n",
      "aut\t6\n",
      "de\t1\n",
      "bene\t1\n"
     ]
    }
   ],
   "source": [
    "# Map\n",
    "\n",
    "d = {}\n",
    "# for line in sys.stdin:\n",
    "for line in ['aut Caesar aut nihil', 'aut aut', 'de mortuis aut bene aut nihil']:\n",
    "    for word in line.split():\n",
    "        if word not in d:\n",
    "            d[word] = 1\n",
    "        else:\n",
    "            d[word] += 1\n",
    "for k, v in d.items():\n",
    "    print(k + '\\t' + str(v))"
   ]
  },
  {
   "cell_type": "markdown",
   "metadata": {
    "deletable": true,
    "editable": true
   },
   "source": [
    "### Average value"
   ]
  },
  {
   "cell_type": "code",
   "execution_count": 39,
   "metadata": {
    "collapsed": false,
    "deletable": true,
    "editable": true
   },
   "outputs": [
    {
     "name": "stdout",
     "output_type": "stream",
     "text": [
      "a\t100\n",
      "g\t10\n"
     ]
    }
   ],
   "source": [
    "# Map\n",
    "\n",
    "key = None\n",
    "count = 0\n",
    "total_time = 0\n",
    "# for line in sys.stdin:\n",
    "for line in ['a 100', 'g 5', 'g 15']:\n",
    "    name, time = line.split()\n",
    "    \n",
    "    if name == key:\n",
    "        total_time += int(time)\n",
    "        count += 1\n",
    "    else:\n",
    "        if key:\n",
    "            print(key + '\\t' + str(int(total_time / count)))\n",
    "        key = name\n",
    "        total_time = int(time)\n",
    "        count = 1\n",
    "            \n",
    "print(key + '\\t' + str(int(total_time / count)))"
   ]
  },
  {
   "cell_type": "code",
   "execution_count": 42,
   "metadata": {
    "collapsed": false,
    "deletable": true,
    "editable": true
   },
   "outputs": [
    {
     "name": "stdout",
     "output_type": "stream",
     "text": [
      "a\t100;1\n",
      "g\t20;2\n"
     ]
    }
   ],
   "source": [
    "# Combainer\n",
    "\n",
    "key = None\n",
    "count = 0\n",
    "total_time = 0\n",
    "# for line in sys.stdin:\n",
    "for line in ['a 100;1', 'g 5;1', 'g 15;1']:\n",
    "    name, temp= line.split()\n",
    "    time, cnt = temp.split(';')\n",
    "    \n",
    "    if name == key:\n",
    "        total_time += int(time)\n",
    "        count += int(cnt)\n",
    "    else:\n",
    "        if key:\n",
    "            print(key + '\\t' + str(int(total_time)) + ';' + str(int(count)))\n",
    "        key = name\n",
    "        total_time = int(time)\n",
    "        count = int(cnt)\n",
    "            \n",
    "print(key + '\\t' + str(int(total_time)) + ';' + str(int(count)))"
   ]
  },
  {
   "cell_type": "markdown",
   "metadata": {
    "deletable": true,
    "editable": true
   },
   "source": [
    "### Distinct values for category"
   ]
  },
  {
   "cell_type": "code",
   "execution_count": 48,
   "metadata": {
    "collapsed": false,
    "deletable": true,
    "editable": true
   },
   "outputs": [
    {
     "name": "stdout",
     "output_type": "stream",
     "text": [
      "1,a\t1\n",
      "1,b\t1\n",
      "2,a\t1\n",
      "2,d\t1\n",
      "2,e\t1\n",
      "1,b\t1\n",
      "3,a\t1\n",
      "3,b\t1\n"
     ]
    }
   ],
   "source": [
    "# Map\n",
    "\n",
    "# for line in sys.stdin:\n",
    "for line in ['1 a,b', '2 a,d,e', '1 b', '3 a,b']:\n",
    "    value, categories = line.split()\n",
    "    categories = categories.split(',')\n",
    "    \n",
    "    for category in categories:\n",
    "        print(value + ',' + category + '\\t' + '1')"
   ]
  },
  {
   "cell_type": "code",
   "execution_count": 55,
   "metadata": {
    "collapsed": false,
    "deletable": true,
    "editable": true
   },
   "outputs": [
    {
     "name": "stdout",
     "output_type": "stream",
     "text": [
      "1,a\n",
      "1,b\n",
      "2,c\n"
     ]
    }
   ],
   "source": [
    "# Reduce\n",
    "\n",
    "value = None\n",
    "category = None\n",
    "# for line in sys.stdin:\n",
    "for line in ['1,a 1', '1,a 1', '1,b 1', '2,c 1']:\n",
    "    val_cat, temp= line.split()\n",
    "    val, cat = val_cat.split(',')\n",
    "    \n",
    "    if value == val and category == cat:\n",
    "        pass\n",
    "    else:\n",
    "        if value and category:\n",
    "            print(value + ',' + category)\n",
    "        value = val\n",
    "        category = cat\n",
    "            \n",
    "print(value + ',' + category)"
   ]
  },
  {
   "cell_type": "code",
   "execution_count": 54,
   "metadata": {
    "collapsed": false,
    "deletable": true,
    "editable": true
   },
   "outputs": [
    {
     "name": "stdout",
     "output_type": "stream",
     "text": [
      "a\t1\n",
      "b\t1\n",
      "c\t1\n"
     ]
    }
   ],
   "source": [
    "# Map2\n",
    "\n",
    "# for line in sys.stdin:\n",
    "for line in ['1,a', '1,b', '2,c']:\n",
    "    value, category = line.strip().split(',')\n",
    "    print(category + '\\t' + '1')"
   ]
  },
  {
   "cell_type": "code",
   "execution_count": 66,
   "metadata": {
    "collapsed": false,
    "deletable": true,
    "editable": true
   },
   "outputs": [
    {
     "name": "stdout",
     "output_type": "stream",
     "text": [
      "a\t1\n",
      "b\t1\n",
      "c\t1\n"
     ]
    }
   ],
   "source": [
    "# Reduce2\n",
    "\n",
    "value = None\n",
    "category = None\n",
    "d = {}\n",
    "# for line in sys.stdin:\n",
    "for line in ['1 a', '1 b', '1 b', '2 c']:\n",
    "    val, cat = line.split()\n",
    "    # for same values\n",
    "    if value == val:\n",
    "        if category == cat:\n",
    "            pass\n",
    "        else:\n",
    "            # add 1 to category counter\n",
    "            category = cat\n",
    "            if category in d:\n",
    "                d[category] += 1\n",
    "            else:\n",
    "                d[category] = 1\n",
    "    else:\n",
    "        value = val\n",
    "        category = cat\n",
    "        if category in d:\n",
    "            d[category] += 1\n",
    "        else:\n",
    "            d[category] = 1\n",
    "            \n",
    "for k, v in d.items():\n",
    "    print(k + '\\t' + str(v))"
   ]
  },
  {
   "cell_type": "markdown",
   "metadata": {
    "deletable": true,
    "editable": true
   },
   "source": [
    "### Cross-Corelation"
   ]
  },
  {
   "cell_type": "code",
   "execution_count": 69,
   "metadata": {
    "collapsed": false,
    "deletable": true,
    "editable": true
   },
   "outputs": [
    {
     "name": "stdout",
     "output_type": "stream",
     "text": [
      "a,b\t1\n",
      "b,a\t1\n",
      "a,b\t1\n",
      "a,b\t1\n",
      "b,a\t1\n",
      "b,a\t1\n",
      "a,b\t1\n",
      "a,b\t1\n",
      "b,a\t1\n",
      "b,a\t1\n"
     ]
    }
   ],
   "source": [
    "# Map\n",
    "\n",
    "# for line in sys.stdin:\n",
    "for line in ['a b', 'a b a b']:\n",
    "    arr = line.strip().split()\n",
    "    for i in arr:\n",
    "        for j in arr:\n",
    "            if i == j:\n",
    "                pass\n",
    "            else:\n",
    "                print(i + ',' + j + '\\t1')"
   ]
  },
  {
   "cell_type": "code",
   "execution_count": 83,
   "metadata": {
    "collapsed": false,
    "deletable": true,
    "editable": true
   },
   "outputs": [
    {
     "name": "stdout",
     "output_type": "stream",
     "text": [
      "a\tb:1\n",
      "b\ta:1\n",
      "a\tb:1,c:1\n",
      "b\ta:2,c:1\n",
      "a\tb:1,c:1\n",
      "c\ta:2,b:1\n"
     ]
    }
   ],
   "source": [
    "# Map stripe\n",
    "\n",
    "# for line in sys.stdin:\n",
    "for line in ['a b', 'a b a c']:\n",
    "    arr = line.strip().split()\n",
    "    for i in arr:\n",
    "        d = {}\n",
    "        for j in arr:\n",
    "            if i == j:\n",
    "                pass\n",
    "            else:\n",
    "                if j in d:\n",
    "                    d[j] += 1\n",
    "                else:\n",
    "                    d[j] = 1\n",
    "        print(i + '\\t' + ','.join([k + ':' + str(v) for k, v in d.items()]))"
   ]
  },
  {
   "cell_type": "markdown",
   "metadata": {
    "collapsed": true,
    "deletable": true,
    "editable": true
   },
   "source": [
    "### Select"
   ]
  },
  {
   "cell_type": "code",
   "execution_count": 9,
   "metadata": {
    "collapsed": false,
    "deletable": true,
    "editable": true
   },
   "outputs": [
    {
     "name": "stdout",
     "output_type": "stream",
     "text": [
      "1448764519 user10 https://stepic.org/\n",
      "1448773411 user10 https://stepic.org/explore/courses\n"
     ]
    }
   ],
   "source": [
    "# Map\n",
    "\n",
    "# for line in sys.stdin:\n",
    "for line in ['1448713968 user2 https://ru.wikipedia.org/', '1448764519 user10 https://stepic.org/',\n",
    "             '1448713968 user5 http://google.com/', '1448773411 user10 https://stepic.org/explore/courses',\n",
    "             '1448709864 user3 http://vk.com/']:\n",
    "    timestamp, user_name, url = line.strip().split()\n",
    "    if user_name == 'user10':\n",
    "        print(line.strip())"
   ]
  },
  {
   "cell_type": "markdown",
   "metadata": {
    "deletable": true,
    "editable": true
   },
   "source": [
    "### Projection"
   ]
  },
  {
   "cell_type": "code",
   "execution_count": 10,
   "metadata": {
    "collapsed": false,
    "deletable": true,
    "editable": true
   },
   "outputs": [
    {
     "name": "stdout",
     "output_type": "stream",
     "text": [
      "https://ru.wikipedia.org/\n",
      "https://stepic.org/\n",
      "http://google.com/\n",
      "https://stepic.org/explore/courses\n",
      "http://vk.com/\n"
     ]
    }
   ],
   "source": [
    "# Map\n",
    "\n",
    "# for line in sys.stdin:\n",
    "for line in ['1448713968 user2 https://ru.wikipedia.org/', '1448764519 user10 https://stepic.org/',\n",
    "             '1448713968 user5 http://google.com/', '1448773411 user10 https://stepic.org/explore/courses',\n",
    "             '1448709864 user3 http://vk.com/']:\n",
    "    timestamp, user_name, url = line.strip().split()\n",
    "    print(url.strip())"
   ]
  },
  {
   "cell_type": "markdown",
   "metadata": {
    "deletable": true,
    "editable": true
   },
   "source": [
    "### Union"
   ]
  },
  {
   "cell_type": "code",
   "execution_count": 12,
   "metadata": {
    "collapsed": false,
    "deletable": true,
    "editable": true
   },
   "outputs": [
    {
     "name": "stdout",
     "output_type": "stream",
     "text": [
      "1\n",
      "2\n",
      "3\n"
     ]
    }
   ],
   "source": [
    "# Reduce\n",
    "\n",
    "current_key = None\n",
    "# for line in sys.stdin:\n",
    "for line in ['1 A', '2 B', '2 B', '3 B']:\n",
    "    key, value = line.strip().split()\n",
    "    if current_key == key:\n",
    "        pass\n",
    "    else:\n",
    "        print(key)\n",
    "        current_key = key"
   ]
  },
  {
   "cell_type": "code",
   "execution_count": 34,
   "metadata": {
    "collapsed": false,
    "deletable": true,
    "editable": true
   },
   "outputs": [
    {
     "name": "stdout",
     "output_type": "stream",
     "text": [
      "1\n",
      "2\n",
      "3\n"
     ]
    }
   ],
   "source": [
    "prev = None\n",
    "# for line in sys.stdin:\n",
    "for line in ['1 A', '2 B', '2 B', '3 B']:\n",
    "    if line.split()[0] != prev:\n",
    "        temp = line.split()[0]\n",
    "        print(temp)\n",
    "        prev = temp"
   ]
  },
  {
   "cell_type": "markdown",
   "metadata": {
    "deletable": true,
    "editable": true
   },
   "source": [
    "### Intersection"
   ]
  },
  {
   "cell_type": "code",
   "execution_count": 26,
   "metadata": {
    "collapsed": false,
    "deletable": true,
    "editable": true
   },
   "outputs": [
    {
     "name": "stdout",
     "output_type": "stream",
     "text": [
      "2\n",
      "3\n"
     ]
    }
   ],
   "source": [
    "# Reduce\n",
    "\n",
    "current_key = None\n",
    "set_for_values = set()\n",
    "# for line in sys.stdin:\n",
    "for line in ['1 A', '2 A', '2 B', '3 B', '3 A']:\n",
    "    key, value = line.strip().split()\n",
    "    if current_key == key:\n",
    "        if value not in set_for_values:\n",
    "            set_for_values.add(value)\n",
    "    else:\n",
    "        if current_key:\n",
    "            if len(set_for_values) == 2:\n",
    "                print(current_key)\n",
    "            set_for_values = set(value)\n",
    "            current_key = key\n",
    "        else:\n",
    "            set_for_values.add(value)\n",
    "            current_key = key\n",
    "            \n",
    "if len(set_for_values) == 2:\n",
    "    print(current_key)"
   ]
  },
  {
   "cell_type": "code",
   "execution_count": 31,
   "metadata": {
    "collapsed": false,
    "deletable": true,
    "editable": true
   },
   "outputs": [
    {
     "name": "stdout",
     "output_type": "stream",
     "text": [
      "2\n",
      "3\n"
     ]
    }
   ],
   "source": [
    "# Reduce\n",
    "# if we assume what two lines with same key, value doesn't exist\n",
    "\n",
    "prev = None\n",
    "# for line in sys.stdin:\n",
    "for line in ['1 A', '2 A', '2 B', '3 B', '3 A']:\n",
    "    if line.split()[0] == prev:\n",
    "        print(line.split()[0])\n",
    "    prev = line.split()[0]"
   ]
  },
  {
   "cell_type": "markdown",
   "metadata": {
    "deletable": true,
    "editable": true
   },
   "source": [
    "### Difference"
   ]
  },
  {
   "cell_type": "code",
   "execution_count": 47,
   "metadata": {
    "collapsed": false,
    "deletable": true,
    "editable": true
   },
   "outputs": [
    {
     "name": "stdout",
     "output_type": "stream",
     "text": [
      "1\n"
     ]
    }
   ],
   "source": [
    "# Reduce \n",
    "# A - B\n",
    "\n",
    "prev_key = None\n",
    "flag = True\n",
    "# for line in sys.stdin:\n",
    "for line in ['1 A', '2 A', '2 B', '3 B', '3 A', '4 B']:\n",
    "    key, value = line.split() \n",
    "    if prev_key == key:\n",
    "        if value == 'B':\n",
    "            flag = False\n",
    "    else:\n",
    "        if prev_key:\n",
    "            if flag:\n",
    "                print(prev_key)\n",
    "            flag = False if value == 'B' else True\n",
    "        else:\n",
    "            if value == 'B':\n",
    "                flag = False\n",
    "        prev_key = key\n",
    "        \n",
    "if flag:\n",
    "    print(prev_key)"
   ]
  },
  {
   "cell_type": "markdown",
   "metadata": {
    "deletable": true,
    "editable": true
   },
   "source": [
    "### Symmetric Difference"
   ]
  },
  {
   "cell_type": "code",
   "execution_count": 48,
   "metadata": {
    "collapsed": false,
    "deletable": true,
    "editable": true
   },
   "outputs": [
    {
     "name": "stdout",
     "output_type": "stream",
     "text": [
      "1\n",
      "4\n"
     ]
    }
   ],
   "source": [
    "# Reduce \n",
    "\n",
    "prev_key = None\n",
    "flag = True\n",
    "# for line in sys.stdin:\n",
    "for line in ['1 A', '2 A', '2 B', '3 B', '3 A', '4 B']:\n",
    "    key, value = line.split() \n",
    "    if prev_key == key:\n",
    "        flag = False\n",
    "    else:\n",
    "        if prev_key:\n",
    "            if flag:\n",
    "                print(prev_key)\n",
    "            flag = True\n",
    "        prev_key = key\n",
    "        \n",
    "if flag:\n",
    "    print(prev_key)"
   ]
  },
  {
   "cell_type": "markdown",
   "metadata": {
    "deletable": true,
    "editable": true
   },
   "source": [
    "### Join"
   ]
  },
  {
   "cell_type": "code",
   "execution_count": 60,
   "metadata": {
    "collapsed": false,
    "deletable": true,
    "editable": true
   },
   "outputs": [
    {
     "name": "stdout",
     "output_type": "stream",
     "text": [
      "user1\tгугл\tgoogle.ru\n",
      "user2\tстэпик\tstepic.org\n",
      "user2\tстэпик курсы\tstepic.org\n",
      "user2\tстэпик\tstepic.org/explore/courses\n",
      "user2\tстэпик курсы\tstepic.org/explore/courses\n"
     ]
    }
   ],
   "source": [
    "# Reduce\n",
    "\n",
    "urls = []\n",
    "queries = []\n",
    "prev_key = None\n",
    "\n",
    "# for line in sys.stdin:\n",
    "for line in ['user1\\tquery:гугл', 'user1\\turl:google.ru', 'user2\\tquery:стэпик', 'user2\\tquery:стэпик курсы', \n",
    "             'user2\\turl:stepic.org', 'user2\\turl:stepic.org/explore/courses', 'user3\\tquery:вконтакте']:\n",
    "    key, val = line.strip().split('\\t')\n",
    "    \n",
    "    if key != prev_key and prev_key:\n",
    "        for url in urls:\n",
    "            for query in queries:\n",
    "                print(prev_key, query, url, sep='\\t')\n",
    "        urls = []\n",
    "        queries = []\n",
    "        \n",
    "    prev_key = key\n",
    "    mod, string = val.split(':')\n",
    "    if (mod == 'url'): \n",
    "        urls.append(string)\n",
    "    else: \n",
    "        queries.append(string)\n",
    "\n",
    "    \n",
    "for url in urls:\n",
    "    for query in queries:\n",
    "        print(prev_key, query, url, sep='\\t')"
   ]
  },
  {
   "cell_type": "markdown",
   "metadata": {
    "collapsed": true,
    "deletable": true,
    "editable": true
   },
   "source": [
    "### TF-IDF"
   ]
  },
  {
   "cell_type": "code",
   "execution_count": 5,
   "metadata": {
    "collapsed": false,
    "deletable": true,
    "editable": true
   },
   "outputs": [
    {
     "name": "stdout",
     "output_type": "stream",
     "text": [
      "aut#1\t1\n",
      "Caesar#1\t1\n",
      "aut#1\t1\n",
      "nihil#1\t1\n",
      "aut#1\t1\n",
      "aut#1\t1\n",
      "de#2\t1\n",
      "mortuis#2\t1\n",
      "aut#2\t1\n",
      "bene#2\t1\n",
      "aut#2\t1\n",
      "nihil#2\t1\n"
     ]
    }
   ],
   "source": [
    "# Map\n",
    "\n",
    "pattern = re.compile(r'[a-zA-z0-9]+')\n",
    "# for line in sys.stdin:\n",
    "for line in ['1:aut Caesar aut nihil', '1:aut aut', '2:de mortuis aut bene aut nihil']:\n",
    "    docname, words = line.split(':')\n",
    "    for word in re.findall(pattern, words):\n",
    "        print(word + '#' + docname + '\\t1')"
   ]
  },
  {
   "cell_type": "code",
   "execution_count": 13,
   "metadata": {
    "collapsed": false,
    "deletable": true,
    "editable": true
   },
   "outputs": [
    {
     "name": "stdout",
     "output_type": "stream",
     "text": [
      "aut\t1\t2\n",
      "aut\t2\t2\n",
      "bene\t2\t1\n",
      "de\t2\t1\n"
     ]
    }
   ],
   "source": [
    "# Reduce\n",
    "\n",
    "prev_docname = None\n",
    "prev_word = None\n",
    "tf = 1\n",
    "\n",
    "# for line in sys.stdin:\n",
    "for line in ['aut#1\t1', 'aut#1\t1', 'aut#2\t1', 'aut#2\t1', 'bene#2\t1', 'de#2\t1']:\n",
    "    word, docname= line.split('#', 1)\n",
    "    docname, _ = docname.split('\\t')\n",
    "    if not prev_word:\n",
    "        tf = 1\n",
    "        prev_docname = docname\n",
    "        prev_word = word\n",
    "        continue\n",
    "    \n",
    "    \n",
    "    if word == prev_word and docname == prev_docname:\n",
    "        tf += 1\n",
    "    else:\n",
    "        print(prev_word + '\\t' + prev_docname + '\\t' + str(tf))\n",
    "        tf = 1\n",
    "        prev_docname = docname\n",
    "        prev_word = word\n",
    "        \n",
    "\n",
    "print(prev_word + '\\t' + prev_docname + '\\t' + str(tf))        "
   ]
  },
  {
   "cell_type": "code",
   "execution_count": 15,
   "metadata": {
    "collapsed": false,
    "deletable": true,
    "editable": true
   },
   "outputs": [
    {
     "name": "stdout",
     "output_type": "stream",
     "text": [
      "aut\t1;4;1\n",
      "aut\t2;2;1\n",
      "bene\t2;1;1\n",
      "de\t2;1;1\n"
     ]
    }
   ],
   "source": [
    "# Map\n",
    "\n",
    "# for line in sys.stdin:\n",
    "for line in ['aut\t1\t4', 'aut\t2\t2', 'bene\t2\t1', 'de\t2\t1']:\n",
    "    word, docname, tf= line.split('\\t')\n",
    "    print(word + '\\t' + docname + ';' + tf + ';1')    "
   ]
  },
  {
   "cell_type": "code",
   "execution_count": 17,
   "metadata": {
    "collapsed": false,
    "deletable": true,
    "editable": true
   },
   "outputs": [],
   "source": [
    "# Reduce\n",
    "        \n",
    "last_key = None\n",
    "terms = []\n",
    "\n",
    "def print_terms(terms):\n",
    "    for id, tf in terms:\n",
    "        print(id, tf, len(terms), sep = '\\t')\n",
    "\n",
    "for line in sys.stdin:\n",
    "    key, val = line.strip().split(\"\\t\")\n",
    "    n, tf, cnt = val.split(';')\n",
    "    if last_key and last_key != key:\n",
    "        print_terms(terms)\n",
    "        terms.clear()\n",
    "    terms.append(('{0}#{1}'.format(key, n), tf))\n",
    "    last_key = key\n",
    "    \n",
    "if last_key:\n",
    "    print_terms(terms)"
   ]
  },
  {
   "cell_type": "markdown",
   "metadata": {
    "collapsed": true,
    "deletable": true,
    "editable": true
   },
   "source": [
    "### Shortest Path in Graph BFS"
   ]
  },
  {
   "cell_type": "code",
   "execution_count": 24,
   "metadata": {
    "collapsed": false,
    "deletable": true,
    "editable": true
   },
   "outputs": [
    {
     "name": "stdout",
     "output_type": "stream",
     "text": [
      "1\t0\t{2,3,4}\n",
      "2\t1\t{}\n",
      "3\t1\t{}\n",
      "4\t1\t{}\n",
      "2\t1\t{5,6}\n",
      "5\t2\t{}\n",
      "6\t2\t{}\n",
      "3\t1\t{}\n",
      "4\t1\t{7,8}\n",
      "7\t2\t{}\n",
      "8\t2\t{}\n",
      "5\tINF\t{9,10}\n",
      "9\tINF\t{}\n",
      "10\tINF\t{}\n",
      "6\tINF\t{}\n",
      "7\tINF\t{}\n",
      "8\tINF\t{}\n",
      "9\tINF\t{}\n",
      "10\tINF\t{}\n"
     ]
    }
   ],
   "source": [
    "# Map\n",
    "\n",
    "# for line in sys.stdin:\n",
    "for line in ['1\t0\t{2,3,4}', '2\t1\t{5,6}', '3\t1\t{}', '4\t1\t{7,8}', '5\tINF\t{9,10}', '6\tINF\t{}', \n",
    "             '7\tINF\t{}', '8\tINF\t{}', '9\tINF\t{}', '10\tINF\t{}']:\n",
    "    vert, dist, scheme= line.strip().split('\\t')\n",
    "    if dist == 'INF':\n",
    "        pass\n",
    "    else:\n",
    "        dist = str(int(dist) + 1)\n",
    "    print(line.strip())   \n",
    "    if len(scheme) == 2:\n",
    "        continue\n",
    "    else:\n",
    "        vertices = scheme.strip()[1:-1].split(',')\n",
    "        for vert in vertices:\n",
    "            print(vert + '\\t' + dist + '\\t{}')"
   ]
  },
  {
   "cell_type": "code",
   "execution_count": 76,
   "metadata": {
    "collapsed": false,
    "deletable": true,
    "editable": true
   },
   "outputs": [
    {
     "name": "stdout",
     "output_type": "stream",
     "text": [
      "1\t0\t{2,3,4}\n",
      "10\tINF\t{}\n",
      "2\t1\t{5,6}\n",
      "3\t1\t{}\n",
      "4\t1\t{7,8}\n",
      "5\t2\t{9,10}\n",
      "6\t2\t{}\n",
      "7\t2\t{}\n",
      "8\t2\t{}\n",
      "9\tINF\t{}\n"
     ]
    }
   ],
   "source": [
    "# Reduce\n",
    "\n",
    "prev_vert = None\n",
    "# for line in sys.stdin:\n",
    "for line in ['1\t0\t{2,3,4}', '10\tINF\t{}', '10\tINF\t{}', '2\t1\t{}', '2\t1\t{5,6}', '3\t1\t{}', '3\t1\t{}',\n",
    "             '4\t1\t{}', '4\t1\t{7,8}', '5\t2\t{}', '5\tINF\t{9,10}', '6\t2\t{}', '6\tINF\t{}', '7\t2\t{}',\n",
    "             '7\tINF\t{}', '8\t2\t{}', '8\tINF\t{}', '9\tINF\t{}', '9\tINF\t{}']:\n",
    "    vert, dist, scheme= line.strip().split('\\t')\n",
    "#     print(vert, dist, scheme)\n",
    "    if not prev_vert:\n",
    "        prev_vert = vert\n",
    "        dmin = float('inf')\n",
    "        scheme_toprint = '{}'\n",
    "        \n",
    "    if prev_vert != vert:\n",
    "        print(prev_vert + '\\t' + '{:.0f}'.format(dmin).upper() + '\\t' + scheme_toprint)\n",
    "        prev_vert = vert\n",
    "        dmin = float('inf')\n",
    "        scheme_toprint = '{}'\n",
    "        \n",
    "    \n",
    "    if len(scheme.strip()) > 2:\n",
    "        scheme_toprint = scheme.strip()\n",
    "\n",
    "    if float(dist) < dmin:\n",
    "        dmin = float(dist)\n",
    "        \n",
    "print(prev_vert + '\\t' + '{:.0f}'.format(dmin).upper() + '\\t' + scheme_toprint)"
   ]
  },
  {
   "cell_type": "markdown",
   "metadata": {
    "collapsed": false,
    "deletable": true,
    "editable": true
   },
   "source": [
    "### PageRank"
   ]
  },
  {
   "cell_type": "code",
   "execution_count": 15,
   "metadata": {
    "collapsed": false,
    "deletable": true,
    "editable": true
   },
   "outputs": [
    {
     "name": "stdout",
     "output_type": "stream",
     "text": [
      "1\t0.200\t{2,4}\n",
      "2\t0.100\t{}\n",
      "4\t0.100\t{}\n",
      "2\t0.200\t{3,5}\n",
      "3\t0.100\t{}\n",
      "5\t0.100\t{}\n",
      "3\t0.200\t{4}\n",
      "4\t0.200\t{}\n",
      "4\t0.200\t{5}\n",
      "5\t0.200\t{}\n",
      "5\t0.200\t{1,2,3}\n",
      "1\t0.067\t{}\n",
      "2\t0.067\t{}\n",
      "3\t0.067\t{}\n"
     ]
    }
   ],
   "source": [
    "# Map\n",
    "\n",
    "# for line in sys.stdin:\n",
    "for line in ['1\t0.200\t{2,4}', '2\t0.200\t{3,5}', '3\t0.200\t{4}', '4\t0.200\t{5}', '5\t0.200\t{1,2,3}']:\n",
    "    vert, page_rank, scheme = line.strip().split('\\t')\n",
    "    print(line.strip())\n",
    "    vertices = scheme.strip()[1:-1].split(',')\n",
    "    N = len(vertices)\n",
    "    page_rank_to_send = float(page_rank) / N\n",
    "    for node in vertices:\n",
    "        if node == '':\n",
    "            pass\n",
    "        else:\n",
    "            print(node + '\\t' + '{:.3f}'.format(page_rank_to_send) + '\\t{}')"
   ]
  },
  {
   "cell_type": "code",
   "execution_count": 16,
   "metadata": {
    "collapsed": false
   },
   "outputs": [
    {
     "name": "stdout",
     "output_type": "stream",
     "text": [
      "1\t0.067\t{2,4}\n",
      "2\t0.167\t{3,5}\n"
     ]
    }
   ],
   "source": [
    "# Reduce\n",
    "\n",
    "prev_vert = None\n",
    "# for line in sys.stdin:\n",
    "for line in ['1\t0.067\t{}', '1\t0.200\t{2,4}', '2\t0.067\t{}', '2\t0.100\t{}', '2\t0.200\t{3,5}']:\n",
    "    vert, page_rank, scheme= line.strip().split('\\t')\n",
    "    if not prev_vert:\n",
    "        prev_vert = vert\n",
    "        new_page_rank = 0\n",
    "        scheme_toprint = '{}'\n",
    "        \n",
    "    if prev_vert != vert:\n",
    "        print(prev_vert + '\\t' + '{:.3f}'.format(new_page_rank) + '\\t' + scheme_toprint)\n",
    "        prev_vert = vert\n",
    "        new_page_rank = 0\n",
    "        scheme_toprint = '{}'\n",
    "        \n",
    "    \n",
    "    if len(scheme.strip()) > 2:\n",
    "        scheme_toprint = scheme.strip()\n",
    "    else:\n",
    "        new_page_rank += float(page_rank)\n",
    "        \n",
    "print(prev_vert + '\\t' + '{:.3f}'.format(new_page_rank) + '\\t' + scheme_toprint)"
   ]
  },
  {
   "cell_type": "code",
   "execution_count": 19,
   "metadata": {
    "collapsed": false
   },
   "outputs": [
    {
     "name": "stdout",
     "output_type": "stream",
     "text": [
      "1\t0.080\t{2,4}\n",
      "2\t0.170\t{3,5}\n"
     ]
    }
   ],
   "source": [
    "# Reduce with random walk\n",
    "\n",
    "prev_vert = None\n",
    "# for line in sys.stdin:\n",
    "for line in ['1\t0.067\t{}', '1\t0.200\t{2,4}', '2\t0.067\t{}', '2\t0.100\t{}', '2\t0.200\t{3,5}']:\n",
    "    vert, page_rank, scheme= line.strip().split('\\t')\n",
    "    if not prev_vert:\n",
    "        prev_vert = vert\n",
    "        new_page_rank = 0.02\n",
    "        scheme_toprint = '{}'\n",
    "        \n",
    "    if prev_vert != vert:\n",
    "        print(prev_vert + '\\t' + '{:.3f}'.format(new_page_rank) + '\\t' + scheme_toprint)\n",
    "        prev_vert = vert\n",
    "        new_page_rank = 0.02\n",
    "        scheme_toprint = '{}'\n",
    "        \n",
    "    \n",
    "    if len(scheme.strip()) > 2:\n",
    "        scheme_toprint = scheme.strip()\n",
    "    else:\n",
    "        new_page_rank += 0.9 * float(page_rank)\n",
    "        \n",
    "print(prev_vert + '\\t' + '{:.3f}'.format(new_page_rank) + '\\t' + scheme_toprint)"
   ]
  },
  {
   "cell_type": "code",
   "execution_count": null,
   "metadata": {
    "collapsed": true
   },
   "outputs": [],
   "source": []
  }
 ],
 "metadata": {
  "kernelspec": {
   "display_name": "Python 3",
   "language": "python",
   "name": "python3"
  },
  "language_info": {
   "codemirror_mode": {
    "name": "ipython",
    "version": 3
   },
   "file_extension": ".py",
   "mimetype": "text/x-python",
   "name": "python",
   "nbconvert_exporter": "python",
   "pygments_lexer": "ipython3",
   "version": "3.4.3"
  }
 },
 "nbformat": 4,
 "nbformat_minor": 2
}
