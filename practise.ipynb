{
 "cells": [
  {
   "cell_type": "code",
   "execution_count": 39,
   "metadata": {
    "collapsed": false,
    "deletable": true,
    "editable": true
   },
   "outputs": [],
   "source": [
    "import numpy as np\n",
    "import pandas as pd\n",
    "import datetime, time\n",
    "import bisect\n",
    "import collections\n",
    "import matplotlib.pyplot as plt\n",
    "from random import randint\n",
    "import functools\n",
    "import heapq\n",
    "from math import sqrt, floor, log2, ceil\n",
    "from scipy import stats \n",
    "from sklearn import datasets\n",
    "from sklearn.model_selection import train_test_split \n",
    "from sklearn.preprocessing import StandardScaler\n",
    "from sklearn.decomposition import LatentDirichletAllocation\n",
    "from sklearn.feature_extraction.text import TfidfVectorizer, CountVectorizer\n",
    "from sklearn.linear_model import LogisticRegression, LinearRegression\n",
    "from sklearn.metrics import log_loss, mean_squared_error, f1_score\n",
    "\n",
    "%matplotlib inline"
   ]
  },
  {
   "cell_type": "code",
   "execution_count": 5,
   "metadata": {
    "collapsed": true,
    "deletable": true,
    "editable": true
   },
   "outputs": [],
   "source": [
    "class SinglyLinkedList:\n",
    "    \"\"\"Singly linked list\"\"\"\n",
    "    \n",
    "    class _Node:\n",
    "        __slots__ = '_element', '_next'\n",
    "\n",
    "        def __init__(self, element, next):\n",
    "            self._element = element\n",
    "            self._next = next\n",
    "    \n",
    "    def __init__(self):\n",
    "        self._head = None\n",
    "        self._tail = None\n",
    "        self._size = 0\n",
    "        \n",
    "    def __len__(self):\n",
    "        return self._size\n",
    "    \n",
    "    def is_empty(self):\n",
    "        return self._size == 0\n",
    "    \n",
    "    def first(self):\n",
    "        if self.is_empty():\n",
    "            raise Empty('Queue is empty')\n",
    "        return self._head\n",
    "    \n",
    "    def __iter__(self):\n",
    "        cursor = self._head\n",
    "        while cursor:\n",
    "            yield cursor._element\n",
    "            cursor = cursor._next\n",
    "    \n",
    "    def enqueue(self, e):\n",
    "        if self.is_empty():\n",
    "            self._head = self._Node(e, None)\n",
    "            self._size += 1\n",
    "            self._tail = self._head\n",
    "        else:\n",
    "            new_node = self._Node(e, None)\n",
    "            self._tail._next = new_node\n",
    "            self._size += 1\n",
    "            self._tail = new_node\n",
    "            \n",
    "    def dequeue(self):\n",
    "        if self.is_empty():\n",
    "            raise Empty('Queue is empty')\n",
    "        result = self._head._element\n",
    "        self._head = self._head._next\n",
    "        self._size -= 1\n",
    "        return result"
   ]
  },
  {
   "cell_type": "code",
   "execution_count": 51,
   "metadata": {
    "collapsed": false,
    "deletable": true,
    "editable": true
   },
   "outputs": [
    {
     "name": "stdout",
     "output_type": "stream",
     "text": [
      "Preorder traversal of the constructed AVL tree is\n",
      "30 20 10 25 40 50 \n",
      "Inorder traversal of the constructed AVL tree is\n",
      "10 20 25 30 40 50 \n",
      "True False\n"
     ]
    }
   ],
   "source": [
    "class TreeNode: \n",
    "    __slots__ = 'val', 'left', 'right', 'height'\n",
    "    \n",
    "    def __init__(self, val): \n",
    "        self.val = val \n",
    "        self.left = None\n",
    "        self.right = None\n",
    "        self.height = 0\n",
    "\n",
    "class AVL_Tree: \n",
    "    \n",
    "    def getHeight(self, root): \n",
    "        if not root: \n",
    "            return -1\n",
    "  \n",
    "        return root.height \n",
    "  \n",
    "    def getBalance(self, root): \n",
    "        if not root: \n",
    "            return 0\n",
    "  \n",
    "        return self.getHeight(root.left) - self.getHeight(root.right) \n",
    "\n",
    "    def find(self, root, key):\n",
    "        result = False\n",
    "        if not root:\n",
    "            return result\n",
    "\n",
    "        if key == root.val:\n",
    "            return True\n",
    "        elif key < root.val: \n",
    "            result = self.find(root.left, key) \n",
    "        elif key > root.val: \n",
    "            result = self.find(root.right, key) \n",
    "        \n",
    "        return result\n",
    "\n",
    "    def insert(self, root, key): \n",
    "        if not root: \n",
    "            return TreeNode(key) \n",
    "        elif key < root.val: \n",
    "            root.left = self.insert(root.left, key) \n",
    "        else: \n",
    "            root.right = self.insert(root.right, key) \n",
    "  \n",
    "        root.height = 1 + max(self.getHeight(root.left), self.getHeight(root.right)) \n",
    "\n",
    "        balance = self.getBalance(root) \n",
    "  \n",
    "        if balance > 1 and key < root.left.val: \n",
    "            return self.rightRotate(root) \n",
    "  \n",
    "        if balance < -1 and key > root.right.val: \n",
    "            return self.leftRotate(root) \n",
    "  \n",
    "        if balance > 1 and key > root.left.val: \n",
    "            root.left = self.leftRotate(root.left) \n",
    "            return self.rightRotate(root) \n",
    "  \n",
    "        if balance < -1 and key < root.right.val: \n",
    "            root.right = self.rightRotate(root.right) \n",
    "            return self.leftRotate(root) \n",
    "  \n",
    "        return root \n",
    "  \n",
    "    def leftRotate(self, z): \n",
    "  \n",
    "        y = z.right \n",
    "        T2 = y.left \n",
    "  \n",
    "        y.left = z \n",
    "        z.right = T2 \n",
    "   \n",
    "        z.height = 1 + max(self.getHeight(z.left), self.getHeight(z.right)) \n",
    "        y.height = 1 + max(self.getHeight(y.left), self.getHeight(y.right)) \n",
    "  \n",
    "        return y \n",
    "  \n",
    "    def rightRotate(self, z): \n",
    "  \n",
    "        y = z.left \n",
    "        T3 = y.right \n",
    "  \n",
    "        y.right = z \n",
    "        z.left = T3 \n",
    "  \n",
    "        z.height = 1 + max(self.getHeight(z.left), self.getHeight(z.right)) \n",
    "        y.height = 1 + max(self.getHeight(y.left), self.getHeight(y.right)) \n",
    "  \n",
    "        return y \n",
    "  \n",
    "    def preOrder(self, root): \n",
    "        \n",
    "        if root: \n",
    "            print(root.val, end=\" \")\n",
    "            self.preOrder(root.left) \n",
    "            self.preOrder(root.right) \n",
    "          \n",
    "    def inOrder(self, root): \n",
    "        \n",
    "        if root: \n",
    "            self.inOrder(root.left) \n",
    "            print(root.val, end=\" \")\n",
    "            self.inOrder(root.right) \n",
    "\n",
    "  \n",
    "  \n",
    "myTree = AVL_Tree() \n",
    "root = None\n",
    "  \n",
    "root = myTree.insert(root, 10) \n",
    "root = myTree.insert(root, 20) \n",
    "root = myTree.insert(root, 30) \n",
    "root = myTree.insert(root, 40) \n",
    "root = myTree.insert(root, 50) \n",
    "root = myTree.insert(root, 25) \n",
    "  \n",
    "\"\"\"The constructed AVL Tree would be \n",
    "            30 \n",
    "           /  \\ \n",
    "         20   40 \n",
    "        /  \\     \\ \n",
    "       10  25    50\"\"\"\n",
    "  \n",
    "print(\"Preorder traversal of the constructed AVL tree is\") \n",
    "myTree.preOrder(root) \n",
    "print()\n",
    "print(\"Inorder traversal of the constructed AVL tree is\") \n",
    "myTree.inOrder(root) \n",
    "print()\n",
    "print(myTree.find(root, 10), myTree.find(root, 8) )"
   ]
  },
  {
   "cell_type": "code",
   "execution_count": 7,
   "metadata": {
    "collapsed": false,
    "deletable": true,
    "editable": true
   },
   "outputs": [],
   "source": [
    "class HeapPriorityQueue():\n",
    "    \"\"\"A min-oriented priority queue implemented with a binary heap.\"\"\"\n",
    "    class _Item:\n",
    "        \"\"\"Lightweight composite to store priority queue items.\"\"\"\n",
    "        __slots__ = '_key', '_value'\n",
    "\n",
    "        def __init__(self, k, v):\n",
    "            self._key = k\n",
    "            self._value = v\n",
    "\n",
    "        def __lt__(self, other):\n",
    "            return self._key < other._key\n",
    "\n",
    "        def __repr__(self):\n",
    "            return '({0},{1})'.format(self._key, self._value)\n",
    "    \n",
    "    \n",
    "    def __init__(self, contents=()):\n",
    "        \"\"\"Create a new priority queue.\n",
    "        By default, queue will be empty. If contents is given, it should be as an\n",
    "        iterable sequence of (k,v) tuples specifying the initial contents.\n",
    "        \"\"\"\n",
    "        self._data = [self._Item(k, v) for k, v in contents]\n",
    "        if len(self._data) > 1:\n",
    "            self._heapify()\n",
    "        \n",
    "    def _parent(self, j):\n",
    "        return (j-1) // 2\n",
    "\n",
    "    def _left(self, j):\n",
    "        return 2*j + 1\n",
    "\n",
    "    def _right(self, j):\n",
    "        return 2*j + 2\n",
    "\n",
    "    def _has_left(self, j):\n",
    "        return self._left(j) < len(self._data)\n",
    "\n",
    "    def _has_right(self, j):\n",
    "        return self._right(j) < len(self._data)\n",
    "\n",
    "    def _swap(self, i, j):\n",
    "        self._data[i], self._data[j] = self._data[j], self._data[i]\n",
    "\n",
    "    def _upheap(self, j):\n",
    "        parent = self._parent(j)\n",
    "        if j > 0 and self._data[j] < self._data[parent]:\n",
    "            self._swap(j, parent)\n",
    "            self._upheap(parent)\n",
    "\n",
    "    def _downheap(self, j):\n",
    "        if self._has_left(j):\n",
    "            left = self._left(j)\n",
    "            small_child = left\n",
    "            if self._has_right(j):\n",
    "                right = self._right(j)\n",
    "                if self._data[right] < self._data[left]:\n",
    "                    small_child = right\n",
    "            if self._data[small_child] < self._data[j]:\n",
    "                self._swap(j, small_child)\n",
    "                self._downheap(small_child)\n",
    "            \n",
    "    def _heapify(self):\n",
    "        start = self._parent(len(self) - 1)\n",
    "        for j in range(start, -1, -1):\n",
    "            self._downheap(j)\n",
    "\n",
    "    def __len__(self):\n",
    "        \"\"\"Return the number of items in the priority queue.\"\"\"\n",
    "        return len(self._data)\n",
    "    \n",
    "    def is_empty(self):\n",
    "        \"\"\"Return True if the priority queue is empty.\"\"\"\n",
    "        return len(self) == 0\n",
    "\n",
    "    def add(self, key, value):\n",
    "        \"\"\"Add a key-value pair to the priority queue.\"\"\"\n",
    "        self._data.append(self._Item(key, value))\n",
    "        self._upheap(len(self._data) - 1)\n",
    "\n",
    "    def min(self):\n",
    "        \"\"\"Return but do not remove (k,v) tuple with minimum key.\n",
    "        Raise Empty exception if empty.\n",
    "        \"\"\"\n",
    "        if self.is_empty():\n",
    "            raise Empty('Priority queue is empty.')\n",
    "        item = self._data[0]\n",
    "        return (item._key, item._value)\n",
    "\n",
    "    def remove_min(self):\n",
    "        \"\"\"Remove and return (k,v) tuple with minimum key.\n",
    "        Raise Empty exception if empty.\n",
    "        \"\"\"\n",
    "        if self.is_empty():\n",
    "            raise Exception('Priority queue is empty.')\n",
    "        self._swap(0, len(self._data) - 1)\n",
    "        item = self._data.pop()\n",
    "        self._downheap(0)\n",
    "        return (item._key, item._value)"
   ]
  },
  {
   "cell_type": "code",
   "execution_count": 8,
   "metadata": {
    "collapsed": false,
    "deletable": true,
    "editable": true
   },
   "outputs": [
    {
     "name": "stdout",
     "output_type": "stream",
     "text": [
      "(-1, 5)\n",
      "(-1, 5)\n",
      "(1, 2)\n"
     ]
    }
   ],
   "source": [
    "h = HeapPriorityQueue([(1, 2), (2, 0), (-1, 5)])\n",
    "print(h.min())\n",
    "print(h.remove_min())\n",
    "print(h.min())"
   ]
  },
  {
   "cell_type": "code",
   "execution_count": 9,
   "metadata": {
    "collapsed": false,
    "deletable": true,
    "editable": true
   },
   "outputs": [
    {
     "name": "stdout",
     "output_type": "stream",
     "text": [
      "[0, 4] [3, 5, 6]\n"
     ]
    },
    {
     "data": {
      "text/plain": [
       "[(0, '1'), (3, '2'), (4, '1'), (5, '2'), (6, '2')]"
      ]
     },
     "execution_count": 9,
     "metadata": {},
     "output_type": "execute_result"
    }
   ],
   "source": [
    "# find shortest distance between two words in large text\n",
    "def dist_between_words(text, word1, word2):\n",
    "    word1_l = []\n",
    "    word2_l = []\n",
    "    text = text.split(' ')\n",
    "    for i, word in enumerate(text):\n",
    "        word = word.lower()\n",
    "        if not word[-1].isalnum():\n",
    "            word = word[:-1]\n",
    "            \n",
    "        if word == word1:\n",
    "            word1_l.append(i)\n",
    "        elif word == word2:\n",
    "            word2_l.append(i)\n",
    "    \n",
    "    return word1_l, word2_l\n",
    "\n",
    "def merge_lists(arr1, arr2):\n",
    "    n1 = len(arr1)\n",
    "    n2 = len(arr2)\n",
    "    arr3 = [None] * (n1 + n2) \n",
    "    i = 0\n",
    "    j = 0\n",
    "    k = 0\n",
    "\n",
    "    while i < n1 and j < n2: \n",
    "        if arr1[i] < arr2[j]: \n",
    "            arr3[k] = (arr1[i], '1') \n",
    "            k = k + 1\n",
    "            i = i + 1\n",
    "        else: \n",
    "            arr3[k] = (arr2[j], '2')\n",
    "            k = k + 1\n",
    "            j = j + 1\n",
    "      \n",
    "    while i < n1: \n",
    "        arr3[k] = (arr1[i], '1') \n",
    "        k = k + 1\n",
    "        i = i + 1\n",
    "\n",
    "    while j < n2: \n",
    "        arr3[k] = (arr2[j], '2') \n",
    "        k = k + 1\n",
    "        j = j + 1\n",
    "        \n",
    "    return arr3\n",
    "\n",
    "s = 'I b d s, I. s s'\n",
    "word1_l, word2_l = dist_between_words(s, 'i', 's')\n",
    "print(word1_l, word2_l)\n",
    "merge_lists(word1_l, word2_l )"
   ]
  },
  {
   "cell_type": "code",
   "execution_count": 10,
   "metadata": {
    "collapsed": true,
    "deletable": true,
    "editable": true
   },
   "outputs": [],
   "source": [
    "# ds for O(1) median method\n",
    "class Array_Median:\n",
    "    def __init__(self, data):\n",
    "        self._data = data\n",
    "        temp = sorted(self._data)\n",
    "        \n",
    "        # invert to be max heap\n",
    "        self._low = [-i for i in temp[:len(temp) // 2]]\n",
    "        heapq.heapify(self._low)\n",
    "        \n",
    "        self._high = temp[len(temp) // 2:]\n",
    "        heapq.heapify(self._high)\n",
    "        \n",
    "        self._low_size = len(self._low)\n",
    "        self._high_size = len(self._high)\n",
    "        \n",
    "        del temp\n",
    "        \n",
    "    def get_low(self):\n",
    "        return -self._low[0]\n",
    "    \n",
    "    def get_high(self):\n",
    "        return self._high[0]\n",
    "\n",
    "    def median(self):\n",
    "        if (self._low_size + self._high_size) % 2 == 0:\n",
    "            e1 = self.get_low()\n",
    "            e2 = self.get_high()\n",
    "            return (e1 + e2) / 2\n",
    "        \n",
    "        elif self._low_size > self._high_size:\n",
    "            e1 = self.get_low()\n",
    "            return e1\n",
    "        \n",
    "        elif self._low_size < self._high_size:\n",
    "            e2 = self.get_high()\n",
    "            return e2\n",
    "        \n",
    "    def add(self, element):\n",
    "        e1 = self.get_low()\n",
    "        e2 = self.get_high()\n",
    "\n",
    "        if element == e1 and element == e2:\n",
    "            # push into heap that are smaller\n",
    "            if self._low_size >= self._high_size:\n",
    "                heapq.heappush(self._high, element)\n",
    "                self._high_size += 1\n",
    "            else:\n",
    "                heapq.heappush(self._low, -element)\n",
    "                self._low_size += 1\n",
    "                \n",
    "        elif element >= e2:\n",
    "            heapq.heappush(self._high, element)\n",
    "            self._high_size += 1\n",
    "            if self._high_size - self._low_size > 1:\n",
    "                heapq.heappush(self._low, -heapq.heappop(self._high))\n",
    "                self._low_size += 1\n",
    "                self._high_size -= 1\n",
    "\n",
    "        elif element <= e1:\n",
    "                heapq.heappush(self._low, -element)\n",
    "                self._low_size += 1\n",
    "                if self._low_size - self._high_size > 1:\n",
    "                    heapq.heappush(self._high, -heapq.heappop(self._low))\n",
    "                    self._low_size -= 1\n",
    "                    self._high_size += 1\n",
    "                    \n",
    "        elif e1 < element < e2:\n",
    "            # push into heap that are smaller\n",
    "            if self._low_size >= self._high_size:\n",
    "                heapq.heappush(self._high, element)\n",
    "                self._high_size += 1\n",
    "            else:\n",
    "                heapq.heappush(self._low, -element)\n",
    "                self._low_size += 1"
   ]
  },
  {
   "cell_type": "markdown",
   "metadata": {
    "deletable": true,
    "editable": true
   },
   "source": [
    "### Maximum in the sliding window"
   ]
  },
  {
   "cell_type": "code",
   "execution_count": 13,
   "metadata": {
    "collapsed": false,
    "deletable": true,
    "editable": true
   },
   "outputs": [
    {
     "name": "stdout",
     "output_type": "stream",
     "text": [
      "2 5 5 4\n"
     ]
    }
   ],
   "source": [
    "class MaxStack:\n",
    "    def __init__(self):\n",
    "        self._data = []\n",
    "        self._size = 0\n",
    "    \n",
    "    def push(self, e):\n",
    "        if self._size == 0:\n",
    "            self._data.append([e, e])\n",
    "            self._size += 1\n",
    "        else:\n",
    "            temp = self._data[-1][1]\n",
    "            self._data.append([e, e if temp < e else temp])\n",
    "            self._size += 1\n",
    "    \n",
    "    def pop(self):\n",
    "        if self._size == 0:\n",
    "            raise ValueError('stack is empty')\n",
    "        self._size -= 1\n",
    "        return self._data.pop()\n",
    "    \n",
    "    def top(self):\n",
    "        if self._size == 0:\n",
    "            raise ValueError('stack is empty')\n",
    "        return self._data[-1]\n",
    "\n",
    "class MaxQueue:\n",
    "    def __init__(self):\n",
    "        self._inp = MaxStack()\n",
    "        self._out = MaxStack()\n",
    "        \n",
    "    def enqueue(self, e):\n",
    "        self._inp.push(e)\n",
    "        \n",
    "    def dequeue(self):\n",
    "        if self._out._size == 0:\n",
    "            for i in range(self._inp._size):\n",
    "                self._out.push(self._inp.pop()[0])\n",
    "                \n",
    "        if self._inp._size == 0:\n",
    "            res = self._out.pop()[1]\n",
    "        else:\n",
    "            out_max = self._out.pop()[1]\n",
    "            inp_max = self._inp.top()[1]\n",
    "            res = out_max if out_max > inp_max else inp_max\n",
    "            \n",
    "        return res\n",
    "\n",
    "n = 5\n",
    "m = 2\n",
    "a = [2, 1, 5, 3, 4]\n",
    "\n",
    "mq = MaxQueue()\n",
    "result = []\n",
    "for i in range(m):\n",
    "    mq.enqueue(a[i])\n",
    "\n",
    "for i in range(n - m):\n",
    "    result.append(str(mq.dequeue()))\n",
    "    mq.enqueue(a[i+m])\n",
    "result.append(str(mq.dequeue()))\n",
    "print(' '.join(result))"
   ]
  },
  {
   "cell_type": "code",
   "execution_count": 11,
   "metadata": {
    "collapsed": false,
    "deletable": true,
    "editable": true
   },
   "outputs": [
    {
     "name": "stdout",
     "output_type": "stream",
     "text": [
      "109654.89\n",
      "25820.9528723677\n",
      "9963.039978719264\n"
     ]
    }
   ],
   "source": [
    "# LMS, Linear Regression\n",
    "x, y = datasets.load_boston(return_X_y=True)\n",
    "scaler = StandardScaler()\n",
    "x = scaler.fit_transform(x)\n",
    "# add 1 to each feature vector\n",
    "x = np.concatenate(seq=[x, np.ones(shape=(x.shape[0], 1))], axis=1)\n",
    "x_train, x_test, y_train, y_test = train_test_split(x, y, test_size=0.25, random_state=1)\n",
    "theta = np.zeros(shape=(x_train.shape[1], 1))\n",
    "\n",
    "def lms_cost_function(x, y, theta):\n",
    "    J = np.sum((x.dot(theta) - y)**2) / (2 * x.shape[0])\n",
    "    return J\n",
    "\n",
    "def lms_gradient_descent(x, y, theta, alpha, iterations):    \n",
    "    for iteration in range(iterations):\n",
    "        loss = x.dot(theta) - y.reshape((-1, 1))\n",
    "        gradient = x.T.dot(loss) / x.shape[0]\n",
    "        theta = theta - alpha * gradient\n",
    "\n",
    "    return theta\n",
    "\n",
    "print(lms_cost_function(x_train, y_train, theta))\n",
    "new_theta = lms_gradient_descent(x_train, y_train, theta, 1e-2, 10000)\n",
    "print(lms_cost_function(x_train, y_train, new_theta))\n",
    "print(lms_cost_function(x_test, y_test, new_theta))"
   ]
  },
  {
   "cell_type": "code",
   "execution_count": 13,
   "metadata": {
    "collapsed": false,
    "deletable": true,
    "editable": true
   },
   "outputs": [
    {
     "name": "stdout",
     "output_type": "stream",
     "text": [
      "21.889369432474997\n",
      "21.890322868064114\n"
     ]
    }
   ],
   "source": [
    "lr = LinearRegression()\n",
    "lr.fit(x_train, y_train)\n",
    "y_pred = lr.predict(x_test)\n",
    "\n",
    "print(mean_squared_error(y_test, y_pred))\n",
    "print(mean_squared_error(y_test, x_test.dot(new_theta)))"
   ]
  },
  {
   "cell_type": "code",
   "execution_count": 18,
   "metadata": {
    "collapsed": false,
    "deletable": true,
    "editable": true
   },
   "outputs": [
    {
     "name": "stdout",
     "output_type": "stream",
     "text": [
      "295.2806989185367\n",
      "295.4914769708851\n",
      "99.17732878972522\n"
     ]
    }
   ],
   "source": [
    "# Logistic regression\n",
    "x, y = datasets.load_breast_cancer(return_X_y=True)\n",
    "scaler = StandardScaler()\n",
    "x = scaler.fit_transform(x)\n",
    "# add 1 to each feature vector\n",
    "x = np.concatenate(seq=[x, np.ones(shape=(x.shape[0], 1))], axis=1)\n",
    "x_train, x_test, y_train, y_test = train_test_split(x, y, test_size=0.25, random_state=1)\n",
    "theta = np.zeros(shape=(x_train.shape[1], 1))\n",
    "\n",
    "def sigma(x):\n",
    "    return 1 / (1 + np.exp(-x))\n",
    "\n",
    "def log_cost_function(x, y, theta):\n",
    "    \n",
    "    J = -np.sum(y * np.log(sigma(x.dot(theta))) + \n",
    "                (1 - y) * np.log(1 - sigma(x.dot(theta)))) / x.shape[0]\n",
    "\n",
    "    return J\n",
    "\n",
    "def log_gradient_descent(x, y, theta, alpha, iterations):    \n",
    "    for iteration in range(iterations):\n",
    "        gradient = x.T.dot(sigma((x.dot(theta))[:, 0] - y)).reshape((-1,1)) / x.shape[0]\n",
    "        theta = theta - alpha * gradient\n",
    "\n",
    "\n",
    "    return theta\n",
    "\n",
    "print(log_cost_function(x_train, y_train, theta))\n",
    "new_theta = log_gradient_descent(x_train, y_train, theta, 1e-6, 10000)\n",
    "print(log_cost_function(x_train, y_train, new_theta))\n",
    "print(log_cost_function(x_test, y_test, new_theta))"
   ]
  },
  {
   "cell_type": "code",
   "execution_count": 19,
   "metadata": {
    "collapsed": false,
    "deletable": true,
    "editable": true
   },
   "outputs": [
    {
     "name": "stdout",
     "output_type": "stream",
     "text": [
      "0.7246008977593886\n",
      "0.6892221577034601\n"
     ]
    }
   ],
   "source": [
    "lr = LogisticRegression()\n",
    "lr.fit(x_train, y_train)\n",
    "y_pred = lr.predict(x_test)\n",
    "\n",
    "print(log_loss(y_test, y_pred))\n",
    "print(log_loss(y_test, sigma(x_test.dot(new_theta))))"
   ]
  },
  {
   "cell_type": "code",
   "execution_count": null,
   "metadata": {
    "collapsed": true,
    "deletable": true,
    "editable": true
   },
   "outputs": [],
   "source": []
  },
  {
   "cell_type": "code",
   "execution_count": null,
   "metadata": {
    "collapsed": true,
    "deletable": true,
    "editable": true
   },
   "outputs": [],
   "source": []
  },
  {
   "cell_type": "code",
   "execution_count": 27,
   "metadata": {
    "collapsed": false,
    "deletable": true,
    "editable": true
   },
   "outputs": [
    {
     "data": {
      "text/plain": [
       "'cba'"
      ]
     },
     "execution_count": 27,
     "metadata": {},
     "output_type": "execute_result"
    }
   ],
   "source": [
    "def reverse_str(s):\n",
    "    lst = list(s)\n",
    "    for i in range(len(lst) // 2):\n",
    "        lst[i], lst[-1-i] = lst[-1-i], lst[i]\n",
    "    return ''.join(lst)\n",
    "\n",
    "\n",
    "reverse_str('abc')"
   ]
  },
  {
   "cell_type": "code",
   "execution_count": 18,
   "metadata": {
    "collapsed": false,
    "deletable": true,
    "editable": true
   },
   "outputs": [
    {
     "name": "stdout",
     "output_type": "stream",
     "text": [
      "cba\n",
      "bac\n",
      "acb\n",
      "bca\n",
      "cab\n",
      "abc\n"
     ]
    }
   ],
   "source": [
    "# print permutaion\n",
    "def perm(lst):\n",
    "    arr = []\n",
    "    while lst:\n",
    "        if len(arr) == 0:\n",
    "            arr.append(lst.pop())\n",
    "        else:\n",
    "            temp = []\n",
    "            new_element = lst.pop()\n",
    "            for elemnt in arr:\n",
    "                for pos in range(len(elemnt)+1):\n",
    "                    temp.append(elemnt[pos:] + new_element + elemnt[:pos])\n",
    "            arr = temp\n",
    "\n",
    "    for e in arr:\n",
    "        print(e)\n",
    "        \n",
    "perm(['a', 'b', 'c'])"
   ]
  },
  {
   "cell_type": "code",
   "execution_count": 17,
   "metadata": {
    "collapsed": false,
    "deletable": true,
    "editable": true
   },
   "outputs": [
    {
     "name": "stdout",
     "output_type": "stream",
     "text": [
      "-1\n",
      "4\n"
     ]
    }
   ],
   "source": [
    "def binary_search(input_array, value):\n",
    "    l = 0\n",
    "    r = len(input_array) - 1\n",
    "    \n",
    "    while l <= r: \n",
    "        mid = int(l + (r - l)/2)\n",
    "          \n",
    "        if input_array[mid] == value: \n",
    "            return mid \n",
    "  \n",
    "        elif input_array[mid] < value: \n",
    "            l = mid + 1\n",
    "  \n",
    "        else: \n",
    "            r = mid - 1\n",
    "    \n",
    "    return -1\n",
    "\n",
    "test_list = [1,3,9,11,15,19,29]\n",
    "test_val1 = 25\n",
    "test_val2 = 15\n",
    "print(binary_search(test_list, test_val1))\n",
    "print(binary_search(test_list, test_val2))"
   ]
  },
  {
   "cell_type": "markdown",
   "metadata": {
    "deletable": true,
    "editable": true
   },
   "source": [
    "### Implement a program to provide in real-time a list of the top 100 most viewed properties in the last hour. Properties are represented by a ‘zpid’ or Zillow property ID, which is a unique string."
   ]
  },
  {
   "cell_type": "code",
   "execution_count": 2,
   "metadata": {
    "collapsed": false,
    "deletable": true,
    "editable": true
   },
   "outputs": [
    {
     "data": {
      "text/plain": [
       "[('a', 46), ('g', 45), ('c', 43)]"
      ]
     },
     "execution_count": 2,
     "metadata": {},
     "output_type": "execute_result"
    }
   ],
   "source": [
    "# Generate data\n",
    "current = datetime.datetime.fromtimestamp(time.time())\n",
    "rand_symbol = np.random.choice(list('abcdefgh'), size=1000)\n",
    "rand_minutes = np.random.uniform(low=0, high=180, size=1000)\n",
    "\n",
    "data = [(rand_symbol[i], current - datetime.timedelta(minutes=rand_minutes[i])) for i in range(len(rand_symbol))]\n",
    "\n",
    "# sort data by time\n",
    "data = sorted(data, key = lambda x: x[1], reverse=True)\n",
    "create_time = datetime.datetime.fromtimestamp(time.time())\n",
    "keys = [(create_time - r[1]).seconds for r in data]\n",
    "values = [r[0] for r in data]\n",
    "\n",
    "idx = bisect.bisect_right(keys, 3600)\n",
    "\n",
    "counter = collections.Counter(values[:idx])\n",
    "counter.most_common(3)"
   ]
  },
  {
   "cell_type": "code",
   "execution_count": 3,
   "metadata": {
    "collapsed": false,
    "deletable": true,
    "editable": true
   },
   "outputs": [],
   "source": [
    "# def current_position(data, last_call):\n",
    "#     now = time.time()\n",
    "#     idx = bisect.bisect_right(data, 3600 - (now - last_call))\n",
    "#     yield (idx, now)\n",
    "    \n",
    "# now = time.time()\n",
    "# while True:\n",
    "#     idx, now = next(current_position(keys, last_call=now))\n",
    "#     counter = collections.Counter(values[:idx])\n",
    "#     top3 = counter.most_common(3)\n",
    "#     print(top3)\n",
    "#     # while sleep add new data to begining of keys and values \n",
    "#     time.sleep(10)"
   ]
  },
  {
   "cell_type": "markdown",
   "metadata": {
    "deletable": true,
    "editable": true
   },
   "source": [
    "### Find N most frequently used 3-page sequences in a list of pages."
   ]
  },
  {
   "cell_type": "code",
   "execution_count": 4,
   "metadata": {
    "collapsed": false,
    "deletable": true,
    "editable": true
   },
   "outputs": [
    {
     "data": {
      "text/plain": [
       "[('6 7 7', 2)]"
      ]
     },
     "execution_count": 4,
     "metadata": {},
     "output_type": "execute_result"
    }
   ],
   "source": [
    "array = np.random.randint(low=0, high=9, size=100)\n",
    "counter = collections.Counter((' '.join([str(j) for j in array[i:i+3].tolist()]) \n",
    "                               for i in range(array.shape[0]-3)))\n",
    "counter.most_common(1)"
   ]
  },
  {
   "cell_type": "markdown",
   "metadata": {
    "deletable": true,
    "editable": true
   },
   "source": [
    "### Make qq plot"
   ]
  },
  {
   "cell_type": "code",
   "execution_count": 5,
   "metadata": {
    "collapsed": false,
    "deletable": true,
    "editable": true
   },
   "outputs": [
    {
     "data": {
      "image/png": "[encoded data removed]",
      "text/plain": [
       "<matplotlib.figure.Figure at 0x7f8f14014a58>"
      ]
     },
     "metadata": {},
     "output_type": "display_data"
    }
   ],
   "source": [
    "data = np.random.uniform(size=100)\n",
    "\n",
    "stats.probplot(data, dist='norm', plot=plt);"
   ]
  },
  {
   "cell_type": "code",
   "execution_count": 6,
   "metadata": {
    "collapsed": false,
    "deletable": true,
    "editable": true
   },
   "outputs": [
    {
     "data": {
      "image/png": "[encoded data removed]",
      "text/plain": [
       "<matplotlib.figure.Figure at 0x7f8edb448550>"
      ]
     },
     "metadata": {},
     "output_type": "display_data"
    }
   ],
   "source": [
    "stats.probplot(data, dist='uniform', plot=plt);"
   ]
  },
  {
   "cell_type": "code",
   "execution_count": 7,
   "metadata": {
    "collapsed": false,
    "deletable": true,
    "editable": true
   },
   "outputs": [
    {
     "data": {
      "text/plain": [
       "<matplotlib.collections.PathCollection at 0x7f8ed930a978>"
      ]
     },
     "execution_count": 7,
     "metadata": {},
     "output_type": "execute_result"
    },
    {
     "data": {
      "image/png": "[encoded data removed]",
      "text/plain": [
       "<matplotlib.figure.Figure at 0x7f8ed93a2a20>"
      ]
     },
     "metadata": {},
     "output_type": "display_data"
    }
   ],
   "source": [
    "data_quan = np.percentile(data, q=[i for i in range(100)])\n",
    "norm_quan = stats.norm.ppf(q=data_quan)\n",
    "plt.scatter(norm_quan, data_quan)"
   ]
  },
  {
   "cell_type": "code",
   "execution_count": 8,
   "metadata": {
    "collapsed": false,
    "deletable": true,
    "editable": true
   },
   "outputs": [
    {
     "data": {
      "text/plain": [
       "<matplotlib.collections.PathCollection at 0x7f8ed92c6eb8>"
      ]
     },
     "execution_count": 8,
     "metadata": {},
     "output_type": "execute_result"
    },
    {
     "data": {
      "image/png": "[encoded data removed]",
      "text/plain": [
       "<matplotlib.figure.Figure at 0x7f8ed9373208>"
      ]
     },
     "metadata": {},
     "output_type": "display_data"
    }
   ],
   "source": [
    "data_quan = np.percentile(data, q=[i for i in range(100)])\n",
    "norm_quan = stats.uniform.ppf(q=data_quan)\n",
    "plt.scatter(norm_quan, data_quan)"
   ]
  },
  {
   "cell_type": "markdown",
   "metadata": {
    "deletable": true,
    "editable": true
   },
   "source": [
    "### Given points on the Cartesian plane. Return the K points closest to the origin (0,0)."
   ]
  },
  {
   "cell_type": "code",
   "execution_count": 10,
   "metadata": {
    "collapsed": false,
    "deletable": true,
    "editable": true
   },
   "outputs": [
    {
     "data": {
      "text/plain": [
       "<matplotlib.collections.PathCollection at 0x7f8ed9290978>"
      ]
     },
     "execution_count": 10,
     "metadata": {},
     "output_type": "execute_result"
    },
    {
     "data": {
      "image/png": "[encoded data removed]",
      "text/plain": [
       "<matplotlib.figure.Figure at 0x7f8ed93b95c0>"
      ]
     },
     "metadata": {},
     "output_type": "display_data"
    }
   ],
   "source": [
    "def distance(pointA, pointB):\n",
    "    return sqrt((pointB[0] - pointA[0]) ** 2 + (pointB[1] - pointA[1]) ** 2)\n",
    "\n",
    "def closest(points, k, origin):\n",
    "\n",
    "    heap = [(-distance(p, origin), p) for p in points[:k]]\n",
    "    heapq.heapify(heap)\n",
    "\n",
    "    for p in points[k:]:\n",
    "        d = distance(p, origin)\n",
    "        if d < -heap[0][0]:\n",
    "            heapq.heappushpop(heap, (-d, p))\n",
    "    return [p for d, p in heap]\n",
    "\n",
    "points = [(randint(0, 100), randint(0, 100)) for i in range(100)]\n",
    "k = 4\n",
    "resA = closest(points, k, (0, 0))\n",
    "plt.scatter(*zip(*points))\n",
    "plt.scatter(*zip(*resA))"
   ]
  },
  {
   "cell_type": "markdown",
   "metadata": {
    "deletable": true,
    "editable": true
   },
   "source": [
    "### Implement a KNN classifier"
   ]
  },
  {
   "cell_type": "code",
   "execution_count": 8,
   "metadata": {
    "collapsed": true,
    "deletable": true,
    "editable": true
   },
   "outputs": [],
   "source": [
    "def classifyKNN(train, test, k, n):\n",
    "    def dist (a, b):\n",
    "        return math.sqrt((a[0] - b[0])**2 + (a[1] - b[1])**2)\n",
    "    test_labels = []\n",
    "    for p in test:\n",
    "        #Claculate distances between test point and all of the train points\n",
    "        test_dist = [[dist(p, train[i][0]), train[i][1]] for i in range(len(train))]\n",
    "        #How many points of each class among nearest K\n",
    "        stat = [0] * len(n)\n",
    "        for d in sorted(test_dist, key=lambda x: x[0])[0:k]:\n",
    "            stat[d[1]] += 1\n",
    "        #Assign a class with the most number of occurences among K nearest neighbours\n",
    "        test_labels.append(sorted(zip(stat, range(n)), reverse=True)[0][1])\n",
    "    return test_labels"
   ]
  },
  {
   "cell_type": "markdown",
   "metadata": {
    "deletable": true,
    "editable": true
   },
   "source": [
    "### Segregate 0s and 1s in an array"
   ]
  },
  {
   "cell_type": "code",
   "execution_count": 9,
   "metadata": {
    "collapsed": true,
    "deletable": true,
    "editable": true
   },
   "outputs": [],
   "source": [
    "def segregate0and1(arr, size):\n",
    "    # Initialize left and right indexes\n",
    "    left, right = 0, size-1\n",
    "     \n",
    "    while left < right:\n",
    "        # Increment left index while we see 0 at left\n",
    "        while arr[left] == 0 and left < right:\n",
    "            left += 1\n",
    " \n",
    "        # Decrement right index while we see 1 at right\n",
    "        while arr[right] == 1 and left < right:\n",
    "            right -= 1\n",
    " \n",
    "        # If left is smaller than right then there is a 1 at left\n",
    "        # and a 0 at right. Exchange arr[left] and arr[right]\n",
    "        if left < right:\n",
    "            arr[left] = 0\n",
    "            arr[right] = 1\n",
    "            left += 1\n",
    "            right -= 1\n",
    "    return arr"
   ]
  },
  {
   "cell_type": "markdown",
   "metadata": {
    "deletable": true,
    "editable": true
   },
   "source": [
    "### Find the Missing Number that changed by duplicate in array with int from 1 to n"
   ]
  },
  {
   "cell_type": "code",
   "execution_count": 14,
   "metadata": {
    "collapsed": true,
    "deletable": true,
    "editable": true
   },
   "outputs": [],
   "source": [
    "def find_missing(a):\n",
    "    n = len(a)\n",
    "    b = [0] * n\n",
    "    sum_without_dup = 0 \n",
    "    for i in range(n):\n",
    "        if b[a[i] - 1] == 0:\n",
    "            sum_without_dup += a[i]\n",
    "        b[a[i] - 1] += 1\n",
    "    return (n * (n + 1) / 2) - sum_without_dup"
   ]
  },
  {
   "cell_type": "markdown",
   "metadata": {
    "collapsed": true,
    "deletable": true,
    "editable": true
   },
   "source": [
    "### K-means"
   ]
  },
  {
   "cell_type": "code",
   "execution_count": 19,
   "metadata": {
    "collapsed": false,
    "deletable": true,
    "editable": true
   },
   "outputs": [
    {
     "data": {
      "text/plain": [
       "array([8, 2, 5])"
      ]
     },
     "execution_count": 19,
     "metadata": {},
     "output_type": "execute_result"
    }
   ],
   "source": [
    "rng = np.random.RandomState(10)\n",
    "rng.permutation(10)[:3]"
   ]
  },
  {
   "cell_type": "code",
   "execution_count": 26,
   "metadata": {
    "collapsed": false,
    "deletable": true,
    "editable": true
   },
   "outputs": [
    {
     "data": {
      "text/plain": [
       "<matplotlib.collections.PathCollection at 0x7f8ed72f8b38>"
      ]
     },
     "execution_count": 26,
     "metadata": {},
     "output_type": "execute_result"
    },
    {
     "data": {
      "image/png": "[encoded data removed]",
      "text/plain": [
       "<matplotlib.figure.Figure at 0x7f8ed92b6588>"
      ]
     },
     "metadata": {},
     "output_type": "display_data"
    }
   ],
   "source": [
    "from sklearn.datasets import make_blobs\n",
    "from sklearn.metrics import pairwise_distances_argmin\n",
    "\n",
    "X, y = make_blobs(n_samples=800, n_features=2, centers=3)\n",
    "\n",
    "from sklearn.metrics import pairwise_distances_argmin\n",
    "\n",
    "def find_clusters(X, n_clusters, rseed=2):\n",
    "    # 1. Randomly choose clusters\n",
    "    rng = np.random.RandomState(rseed)\n",
    "    i = rng.permutation(X.shape[0])[:n_clusters]\n",
    "    centers = X[i]\n",
    "    \n",
    "    while True:\n",
    "        # Assign labels based on closest center\n",
    "        labels = pairwise_distances_argmin(X, centers)\n",
    "        \n",
    "        # Find new centers from means of points\n",
    "        new_centers = np.array([X[labels == i].mean(axis=0) for i in range(n_clusters)])\n",
    "        \n",
    "        # Check for convergence\n",
    "        if np.all(centers == new_centers):\n",
    "            break\n",
    "        centers = new_centers\n",
    "    \n",
    "    return centers, labels\n",
    "\n",
    "centers, labels = find_clusters(X, 3)\n",
    "plt.scatter(X[:, 0], X[:, 1], c=labels, s=50, cmap='viridis')"
   ]
  },
  {
   "cell_type": "code",
   "execution_count": 51,
   "metadata": {
    "collapsed": false,
    "deletable": true,
    "editable": true
   },
   "outputs": [
    {
     "name": "stdout",
     "output_type": "stream",
     "text": [
      "0 0\n",
      "1 0\n",
      "0 1\n",
      "1 2\n",
      "0 4\n"
     ]
    }
   ],
   "source": [
    "# model n cores and m task \n",
    "n, m = 2, 5\n",
    "arr = [1, 2, 3, 4, 5]\n",
    "\n",
    "heap = [(0, i) for i in range(n)]\n",
    "heapq.heapify(heap)\n",
    "\n",
    "for i in range(m):\n",
    "    start_time, num_cor = heapq.heappop(heap)\n",
    "    print(num_cor, start_time)\n",
    "    heapq.heappush(heap, (start_time + arr[i], num_cor))"
   ]
  },
  {
   "cell_type": "code",
   "execution_count": 62,
   "metadata": {
    "collapsed": false,
    "deletable": true,
    "editable": true
   },
   "outputs": [
    {
     "name": "stdout",
     "output_type": "stream",
     "text": [
      "add 911 police\n",
      "find 911\n",
      "police\n"
     ]
    }
   ],
   "source": [
    "# phone book (dict with open adressing)\n",
    "n = int(input())\n",
    "my_dict = [None] * 10**7\n",
    "\n",
    "result = []\n",
    "for i in range(n):\n",
    "    command = input().split()\n",
    "    if command[0] == 'add':\n",
    "        my_dict[int(command[1])] = command[2]\n",
    "    elif command[0] == 'del':\n",
    "        my_dict[int(command[1])] = None\n",
    "    else:\n",
    "        answer = my_dict[int(command[1])]\n",
    "        if my_dict[int(command[1])] == None:\n",
    "            reselt = 'not found'\n",
    "        else:\n",
    "            result.append(my_dict[int(command[1])])\n",
    "        \n",
    "for res in result:\n",
    "    print(res)"
   ]
  },
  {
   "cell_type": "code",
   "execution_count": 113,
   "metadata": {
    "collapsed": false,
    "deletable": true,
    "editable": true
   },
   "outputs": [],
   "source": [
    "# dict with separate chaining\n",
    "# m = int(input())\n",
    "# n = int(input())\n",
    "m = 5\n",
    "n = 12\n",
    "my_dict = [[] for i in range(m)]\n",
    "p = 10**9 + 7\n",
    "x = 263\n",
    "result = []\n",
    "x_arr = [1]\n",
    "for i in range(1, 20):\n",
    "    x_arr.append((x_arr[-1] % p * x % p) % p)\n",
    "\n",
    "\n",
    "def my_hash(s):\n",
    "    index = 0\n",
    "    for i, char in enumerate(s):\n",
    "        index += (ord(char) * x_arr[i])\n",
    "    return (index % p) % m\n",
    "\n",
    "for i in range(n):\n",
    "    command = input().split()\n",
    "    \n",
    "    if command[0] == 'add':\n",
    "        index = my_hash(command[1])\n",
    "        if command[1] in my_dict[index]:\n",
    "            pass\n",
    "        else:\n",
    "            my_dict[index].append(command[1])\n",
    "    \n",
    "    elif command[0] == 'del':\n",
    "        index = my_hash(command[1])\n",
    "        if command[1] in my_dict[index]:\n",
    "            my_dict[index].remove(command[1])\n",
    "        else:\n",
    "            pass\n",
    "        \n",
    "    elif command[0] == 'find':\n",
    "        index = my_hash(command[1])\n",
    "        if command[1] in my_dict[index]:\n",
    "            result.append('yes')\n",
    "        else:\n",
    "            result.append('no')\n",
    "    elif command[0] == 'check':\n",
    "        index = int(command[1])\n",
    "        if len(my_dict[index]) == 0:\n",
    "            result.append('')\n",
    "        else:\n",
    "            result.append(' '.join(my_dict[index][::-1]))\n",
    "\n",
    "for res in result:\n",
    "    print(res)"
   ]
  },
  {
   "cell_type": "code",
   "execution_count": 232,
   "metadata": {
    "collapsed": false,
    "deletable": true,
    "editable": true
   },
   "outputs": [
    {
     "name": "stdout",
     "output_type": "stream",
     "text": [
      "4\n"
     ]
    }
   ],
   "source": [
    "# Rabin–Karp algorithm\n",
    "s = 'testTesttesT'\n",
    "pattern = 'Test'\n",
    "l = len(pattern)\n",
    "x = 263\n",
    "p = 10**9 + 7\n",
    "result = []\n",
    "\n",
    "pat_hash = 0\n",
    "for char in pattern:\n",
    "    pat_hash += (ord(char) % p * x % p) % p\n",
    "pat_hash = pat_hash % p\n",
    "\n",
    "sub_hash = 0 \n",
    "for i in range(l):\n",
    "    sub_hash += (ord(s[i]) % p * x % p) % p\n",
    "sub_hash = sub_hash % p\n",
    "    \n",
    "if pat_hash == sub_hash and pattern == s[:l]:\n",
    "    result.append('0')\n",
    "    \n",
    "for i in range(1, len(s)-l+1):\n",
    "    hash_0 = (ord(s[i-1]) % p * x % p) % p\n",
    "    hash_end = (ord(s[i+l-1]) % p * x % p) % p\n",
    "    sub_hash = (sub_hash % p - hash_0 % p) % p\n",
    "    sub_hash = (sub_hash % p + hash_end % p) % p\n",
    "       \n",
    "    if pat_hash == sub_hash and pattern == s[i:i+l]:\n",
    "        result.append(str(i))\n",
    "        \n",
    "for res in result:\n",
    "    print(res)"
   ]
  },
  {
   "cell_type": "markdown",
   "metadata": {
    "deletable": true,
    "editable": true
   },
   "source": [
    "### Greedy Algorithm"
   ]
  },
  {
   "cell_type": "code",
   "execution_count": 236,
   "metadata": {
    "collapsed": false,
    "deletable": true,
    "editable": true
   },
   "outputs": [
    {
     "name": "stdout",
     "output_type": "stream",
     "text": [
      "Yes, it is palindrome\n"
     ]
    }
   ],
   "source": [
    "# number is palindrome\n",
    "def isPalindrome(n):\n",
    "    \n",
    "    divisor = 1\n",
    "    while (n / divisor >= 10):\n",
    "        divisor *= 10\n",
    " \n",
    "    while (n != 0):\n",
    "        leading = n // divisor \n",
    "        trailing = n % 10\n",
    "         \n",
    "        if (leading != trailing): \n",
    "            return False\n",
    "         \n",
    "        n = (n % divisor)//10\n",
    "        divisor = divisor/100\n",
    "         \n",
    "    return True\n",
    " \n",
    "if(isPalindrome(1001)):\n",
    "    print('Yes, it is palindrome')\n",
    "else:\n",
    "    print('No, not palindrome')"
   ]
  },
  {
   "cell_type": "code",
   "execution_count": 241,
   "metadata": {
    "collapsed": false,
    "deletable": true,
    "editable": true
   },
   "outputs": [
    {
     "name": "stdout",
     "output_type": "stream",
     "text": [
      "['c', 'a', 'e', None, None]\n"
     ]
    }
   ],
   "source": [
    "# Job Sequencing \n",
    "def jobScheduling(jobs):\n",
    "    jobs.sort(key= lambda x: x[2], reverse=True)\n",
    "    job_sch = [None] * len(jobs)\n",
    "    for i in range(len(jobs)):\n",
    "        for j in range(jobs[i][1]-1, -1, -1):\n",
    "            if job_sch[j] == None:\n",
    "                job_sch[j] = jobs[i][0]\n",
    "                break\n",
    "    print(job_sch)\n",
    "\n",
    "jobs = [['a', 2, 100], ['b', 1, 19], ['c', 2, 27],['d', 1, 25], ['e', 3, 15]]\n",
    "jobScheduling(jobs)"
   ]
  },
  {
   "cell_type": "code",
   "execution_count": 28,
   "metadata": {
    "collapsed": false,
    "deletable": true,
    "editable": true
   },
   "outputs": [
    {
     "data": {
      "text/plain": [
       "[3, 2]"
      ]
     },
     "execution_count": 28,
     "metadata": {},
     "output_type": "execute_result"
    }
   ],
   "source": [
    "# find Minimum number of Coins\n",
    "def find_change(amount, coins):\n",
    "    result = []\n",
    "    coins.sort(reverse=True)\n",
    "    while amount > 0:\n",
    "        for coin in coins:\n",
    "            if amount >= coin:\n",
    "                amount -= coin\n",
    "                result.append(coin)\n",
    "            continue\n",
    "    return result\n",
    "\n",
    "find_change(5, [2,1,3])"
   ]
  },
  {
   "cell_type": "code",
   "execution_count": 4,
   "metadata": {
    "collapsed": false,
    "deletable": true,
    "editable": true
   },
   "outputs": [
    {
     "data": {
      "text/plain": [
       "29"
      ]
     },
     "execution_count": 4,
     "metadata": {},
     "output_type": "execute_result"
    }
   ],
   "source": [
    "# Connect n ropes with minimum cost\n",
    "\n",
    "def min_cost(arr):\n",
    "    cost = 0\n",
    "    heapq.heapify(arr)\n",
    "    while len(arr) != 1:\n",
    "        a = heapq.heappop(arr) + heapq.heappop(arr)\n",
    "        cost += a\n",
    "        heapq.heappush(arr, a)\n",
    "    return cost\n",
    "\n",
    "min_cost([4, 3, 2, 6])"
   ]
  },
  {
   "cell_type": "code",
   "execution_count": null,
   "metadata": {
    "collapsed": true,
    "deletable": true,
    "editable": true
   },
   "outputs": [],
   "source": []
  },
  {
   "cell_type": "code",
   "execution_count": null,
   "metadata": {
    "collapsed": true,
    "deletable": true,
    "editable": true
   },
   "outputs": [],
   "source": []
  },
  {
   "cell_type": "code",
   "execution_count": null,
   "metadata": {
    "collapsed": true,
    "deletable": true,
    "editable": true
   },
   "outputs": [],
   "source": []
  },
  {
   "cell_type": "code",
   "execution_count": null,
   "metadata": {
    "collapsed": true,
    "deletable": true,
    "editable": true
   },
   "outputs": [],
   "source": []
  },
  {
   "cell_type": "code",
   "execution_count": 14,
   "metadata": {
    "collapsed": false,
    "deletable": true,
    "editable": true
   },
   "outputs": [
    {
     "data": {
      "text/plain": [
       "<matplotlib.collections.PathCollection at 0x7f7ec39c3390>"
      ]
     },
     "execution_count": 14,
     "metadata": {},
     "output_type": "execute_result"
    },
    {
     "data": {
      "image/png": "[encoded data removed]",
      "text/plain": [
       "<matplotlib.figure.Figure at 0x7f7ecf419668>"
      ]
     },
     "metadata": {},
     "output_type": "display_data"
    }
   ],
   "source": [
    "# Graham scan\n",
    "def on_which_side(A, B, C):\n",
    "    \"\"\"Return > 0 if point C is from left side of vector AB else < 0\"\"\"\n",
    "    return (B[0] - A[0]) * (C[1] - B[1]) - (B[1] - A[1]) * (C[0] - B[0])\n",
    "\n",
    "def grahamscan(A):\n",
    "    n = len(A)\n",
    "    p = list(range(n))\n",
    "    # find smallest x and put it on 0 position\n",
    "    for i in range(1, n):\n",
    "        if A[p[i]][0] < A[p[0]][0]:\n",
    "            p[i], p[0] = p[0], p[i]\n",
    "    # sort all other except first one in increasing order of the angle        \n",
    "    base = p[0]\n",
    "    del p[0]\n",
    "    p.sort(key=functools.cmp_to_key(lambda x, y: on_which_side(A[base], A[y], A[x])))\n",
    "    p.insert(0, base)\n",
    "    # if new point is required right turn dek this point\n",
    "    s = [p[0], p[1]]\n",
    "    for i in range(2, n):\n",
    "        while on_which_side(A[s[-2]], A[s[-1]], A[p[i]]) < 0:\n",
    "            del s[-1]\n",
    "        s.append(p[i])\n",
    "    return s\n",
    "    \n",
    "points = np.random.rand(100, 2) * 100\n",
    "plt.scatter(points[:, 0], points[:, 1])\n",
    "idx = grahamscan(points)\n",
    "plt.scatter(x=points[idx, 0], y=points[idx, 1], c='r') "
   ]
  },
  {
   "cell_type": "markdown",
   "metadata": {
    "deletable": true,
    "editable": true
   },
   "source": [
    "### Dijkstra’s shortest path"
   ]
  },
  {
   "cell_type": "code",
   "execution_count": 69,
   "metadata": {
    "collapsed": false,
    "deletable": true,
    "editable": true
   },
   "outputs": [
    {
     "name": "stdout",
     "output_type": "stream",
     "text": [
      "{0, 1, 2} [0, inf, inf] 0\n",
      "{1, 2} [0, 10, inf] 1\n",
      "{2} [0, 10, 11] 2\n",
      "11\n"
     ]
    }
   ],
   "source": [
    "# naive implementaion\n",
    "for i, string in enumerate(['3 2', '1 2 10', '2 3 1', '1 3']):\n",
    "    if i == 0:\n",
    "        n_v, n_e = map(int, string.split())\n",
    "        graph_matrix = [[None for i in range(n_v)] for j in range(n_v)]\n",
    "    elif i == n_e + 1:\n",
    "        from_vert, to_vert = map(int, string.split())\n",
    "    else:\n",
    "        vert1, vert2, weight = map(int, string.split())\n",
    "        graph_matrix[vert1-1][vert2-1] = weight\n",
    "        \n",
    "d = [np.inf for i in range(n_v)]\n",
    "d[from_vert - 1] = 0\n",
    "\n",
    "q = set([i for i in range(n_v)])\n",
    "\n",
    "candidate_vert = None\n",
    "flag = 0\n",
    "while len(q) != 0:\n",
    "    # extract min vertex\n",
    "    current_min = np.inf\n",
    "    for i in q:\n",
    "        if current_min > d[i]:\n",
    "            current_min = d[i]\n",
    "            candidate_vert = i\n",
    "    try:\n",
    "        q.remove(candidate_vert)\n",
    "    except KeyError:\n",
    "        print(-1)\n",
    "        flag = 1\n",
    "        break\n",
    "    \n",
    "    for i, vert in enumerate(graph_matrix[candidate_vert]):\n",
    "        if vert and d[i] > d[candidate_vert] + vert:\n",
    "            d[i] = d[candidate_vert] + vert\n",
    "\n",
    "if not flag:\n",
    "    print(d[to_vert - 1])"
   ]
  },
  {
   "cell_type": "code",
   "execution_count": null,
   "metadata": {
    "collapsed": true,
    "deletable": true,
    "editable": true
   },
   "outputs": [],
   "source": []
  }
 ],
 "metadata": {
  "kernelspec": {
   "display_name": "Python 3",
   "language": "python",
   "name": "python3"
  },
  "language_info": {
   "codemirror_mode": {
    "name": "ipython",
    "version": 3
   },
   "file_extension": ".py",
   "mimetype": "text/x-python",
   "name": "python",
   "nbconvert_exporter": "python",
   "pygments_lexer": "ipython3",
   "version": "3.4.3"
  }
 },
 "nbformat": 4,
 "nbformat_minor": 2
}
