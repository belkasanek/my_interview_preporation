{
 "cells": [
  {
   "cell_type": "markdown",
   "metadata": {
    "deletable": true,
    "editable": true
   },
   "source": [
    "# Questions about statistic for interview"
   ]
  },
  {
   "cell_type": "markdown",
   "metadata": {
    "deletable": true,
    "editable": true
   },
   "source": [
    "### Central tendency\n",
    "#### In statistics, a central tendency (or measure of central tendency) is a central or typical value for a probability distribution. It may also be called a center or location of the distribution.\n",
    "\n",
    "\n",
    "* #### Arithmetic mean or simply, mean is the sum of all measurements divided by the number of observations in the data set.\n",
    "* #### Median is the middle value that separates the higher half from the lower half of the data set.\n",
    "* #### Mode is the most frequent value in the data set.\n",
    "* #### Midrange is the arithmetic mean of the maximum and minimum values of a data set.\n",
    "* #### Truncated mean or trimmed mean is the arithmetic mean of data values after a certain number or proportion of the highest and lowest data values have been discarded. For example, interquartile mean is a truncated mean based on data within the interquartile range.\n",
    "\n",
    "#### The median and the mode are the only measures of central tendency that can be used for ordinal data, in which values are ranked relative to each other but are not measured absolutely."
   ]
  },
  {
   "cell_type": "markdown",
   "metadata": {
    "deletable": true,
    "editable": true
   },
   "source": [
    "### Statistical dispersion\n",
    "#### In statistics, dispersion (also called variability, scatter, or spread) is the extent to which a distribution is stretched or squeezed. A measure of statistical dispersion is a nonnegative real number that is zero if all the data are the same and increases as the data become more diverse.\n",
    "\n",
    "* #### Variance is the expectation of the squared deviation of a random variable from its mean.\n",
    "* #### The standard deviation of a random variable is the square root of its variance.\n",
    "* #### The interquartile range (IQR) is a measure of statistical dispersion, being equal to the difference between 75th and 25th percentiles.\n",
    "* #### The range of a set of data is the difference between the largest and smallest values.\n",
    "* #### The median absolute deviation (MAD) is a robust measure of the variability of a univariate sample of quantitative data.  MAD is defined as the median of the absolute deviations from the data's median."
   ]
  },
  {
   "cell_type": "markdown",
   "metadata": {
    "deletable": true,
    "editable": true
   },
   "source": [
    "### Correlation and dependence\n",
    "#### Dependence or association is any statistical relationship, whether causal or not, between two random variables or bivariate data. In the broadest sense correlation is any statistical association, though in common usage it most often refers to how close two variables are to having a linear relationship with each other.\n",
    "* #### Pearson's correlation coefficient is obtained by dividing the covariance of the two variables by the product of their standard deviations. Covariance is a measure of the joint variability of two random variables. The covariance between two jointly distributed random variables with finite second moments is defined as the expected product of their deviations from their individual expected values.\n",
    "* #### Spearman's rank correlation coefficient is a nonparametric measure of rank correlation (statistical dependence between the rankings of two variables). "
   ]
  },
  {
   "cell_type": "markdown",
   "metadata": {
    "deletable": true,
    "editable": true
   },
   "source": [
    "### Graphics\n",
    "#### Statistical graphics, also known as graphical techniques, are graphics in the field of statistics used to visualize quantitative data.\n",
    "\n",
    "* #### A scatter plot is a type of plot using Cartesian coordinates to display values for typically two variables for a set of data. If the points are color-coded, one additional variable can be displayed.\n",
    "* #### A histogram is an accurate representation of the distribution of numerical data. It is an estimate of the probability distribution of a continuous variable.\n",
    "* #### A bar graph is a graph that presents categorical data with rectangular bars with heights or lengths proportional to the values that they represent. \n",
    "* #### A boxplot is a method for graphically depicting groups of numerical data through their quartiles. Box plots may also have lines extending vertically from the boxes (whiskers) indicating variability outside the upper and lower quartiles. Outliers may be plotted as individual points.\n",
    "* #### A Q–Q (quantile-quantile) plot is a probability plot, which is a graphical method for comparing two probability distributions by plotting their quantiles against each other."
   ]
  },
  {
   "cell_type": "markdown",
   "metadata": {
    "deletable": true,
    "editable": true
   },
   "source": [
    "### Main defenishion\n",
    "* #### A population is a set of similar items or events which is of interest for some question or experiment. A subset of the population (a statistical sample) is chosen to represent the population in a statistical analysis.\n",
    "* #### A statistic is a single measure of some attribute of a sample. Statistical theory defines a statistic as a function of a sample where the function itself is independent of the sample's distribution.\n",
    "* #### The standard error (SE) of a statistic is the standard deviation of its sampling distribution or an estimate of that standard deviation. If the parameter or the statistic is the mean, it is called the standard error of the mean (SEM).\n",
    "* #### An effect size is a quantitative measure of the magnitude of a phenomenon. Examples of effect sizes are the correlation between two variables, the mean difference, or even the risk with which something happens. For most types of effect size, a larger absolute value always indicates a stronger effect.\n",
    "* #### The power of a binary hypothesis test is the probability that the test correctly rejects the null hypothesis (H0) when an alternative hypothesis (H1) is true. The statistical power ranges from 0 to 1, and as statistical power increases, the probability of making a type II error (wrongly failing to reject the null) decreases. Power nearly always depends on the following three factors: the statistical significance criterion used in the test, the  magnitude of the effect of interest in the population and the sample size used to detect the effect. \n",
    "* #### The type I error rate or significance level is the probability of rejecting the null hypothesis given that it is true.\n",
    "* #### A percentile is a measure used in statistics indicating the value below which a given percentage of observations in a group of observations fall. \n",
    "* #### A confidence interval (CI) is a type of interval estimate, computed from the statistics of the observed data, that might contain the true value of an unknown population parameter. The interval has an associated confidence level that represents the frequency of possible confidence intervals that contain the true value of the unknown population parameter.\n",
    "* #### The number of degrees of freedom is the number of values in the final calculation of a statistic that are free to vary."
   ]
  },
  {
   "cell_type": "markdown",
   "metadata": {
    "deletable": true,
    "editable": true
   },
   "source": [
    "### Likelihood\n",
    "* ####  Maximum likelihood estimation is a method of estimating the parameters of a statistical model, given observations. MLE attempts to find the parameter values that maximize the likelihood function, given the observations. The resulting estimate is called a maximum likelihood estimate, which is also abbreviated as MLE.\n",
    "* #### A likelihood function is a function of the parameters of a statistical model, given specific observed data."
   ]
  },
  {
   "cell_type": "markdown",
   "metadata": {
    "deletable": true,
    "editable": true
   },
   "source": [
    "### Tests\n",
    "* #### A Z-test is any statistical test for which the distribution of the test statistic under the null hypothesis can be approximated by a normal distribution. Because of the central limit theorem, many test statistics are approximately normally distributed for large samples. If T is a statistic that is approximately normally distributed under the null hypothesis, the next step in performing a Z-test is to estimate the expected value θ of T under the null hypothesis, and then obtain an estimate s of the standard deviation of T. After that the standard score Z = (T − θ) / s is calculated, from which one-tailed and two-tailed p-values can be calculated as Φ(−Z) (for upper-tailed tests), Φ(Z) (for lower-tailed tests) and 2Φ(−|Z|) (for two-tailed tests) where Φ is the standard normal cumulative distribution function.\n",
    "* #### The t-test is any statistical hypothesis test in which the test statistic follows a Student's t-distribution under the null hypothesis. A t-test is most commonly applied when the test statistic would follow a normal distribution if the value of a scaling term in the test statistic were known.\n",
    "* #### An F-test is any statistical test in which the test statistic has an F-distribution under the null hypothesis. It is most often used when comparing statistical models that have been fitted to a data set, in order to identify the model that best fits the population from which the data were sampled. The hypothesis that the means of a given set of normally distributed populations, all having the same standard deviation, are equal (ANOVA)."
   ]
  },
  {
   "cell_type": "markdown",
   "metadata": {
    "deletable": true,
    "editable": true
   },
   "source": [
    "### ANOVA\n",
    "* #### The observed variance in a particular variable is partitioned into components attributable to different sources of variation. In its simplest form, ANOVA provides a statistical test of whether the population means of several groups are equal, and therefore generalizes the t-test to more than two groups. ANOVA is useful for comparing (testing) three or more group means for statistical significance. It is conceptually similar to multiple two-sample t-tests, but is more conservative."
   ]
  },
  {
   "cell_type": "markdown",
   "metadata": {
    "deletable": true,
    "editable": true
   },
   "source": [
    "### Distributions\n",
    "* #### Normal distribution\n",
    "\\begin{align}f (x | \\mu, \\sigma) & = \\frac{1}{\\sqrt{2 \\pi \\sigma}} e^{-\\frac{(x - \\mu)^2}{2 \\sigma^2}}\\\\\n",
    "\\end{align}\n",
    "* #### The chi-squared distribution with k degrees of freedom is the distribution of a sum of the squares of k independent standard normal random variables. Mean: k, varience: 2 k\n",
    "* #### The Bernoulli distribution is the discrete probability distribution of a random variable which takes the value 1 with probability p and the value 0 with probability 1 - p. Mean: p, varience: p (1 - p)\n",
    "\\begin{equation*}\n",
    "pmf   = p^k (1-p)^{ n-k}\n",
    "\\end{equation*}\n",
    "* #### The binomial distribution with parameters n and p is the discrete probability distribution of the number of successes in a sequence of n independent experiments, each asking a yes–no question, yes with probability p. Mean: n p, varience: n p (1 - p)\n",
    "\\begin{equation*}\n",
    "pmf   = {n \\choose k} p^k (1-p)^{ n-k}\n",
    "\\end{equation*}\n",
    "* #### The Poisson distribution is a discrete probability distribution that expresses the probability of a given number of events occurring in a fixed interval of time or space if these events occur with a known constant rate and independently of the time since the last event. Mean and varience: $\\lambda$ \n",
    "\\begin{equation*}\n",
    "pmf   = \\lambda^{k} \\frac{e^{-\\lambda}}{k!}\n",
    "\\end{equation*}\n",
    "* #### The beta distribution is a family of continuous probability distributions defined on the interval [0, 1] parametrized by two positive shape parameters, denoted by α and β, that appear as exponents of the random variable and control the shape of the distribution. Mean: $\\frac{\\alpha}{\\alpha + \\beta}$ and varience $\\frac{\\alpha \\beta} {(\\alpha + \\beta)^2(\\alpha + \\beta + 1)}$\n",
    "* #### The gamma distribution is a two-parameter family of continuous probability distributions. With a shape parameter k and a scale parameter θ. Mean: $k\\theta$ and varience $k\\theta^2$\n",
    "* #### The exponential distribution is the probability distribution that describes the time between events in a Poisson point process, i.e., a process in which events occur continuously and independently at a constant average rate. Mean: $\\frac{1}{\\lambda}$ and varience $\\frac{1}{\\lambda^2}$\n",
    "\\begin{equation*}\n",
    "pdf   = \\lambda e^{-\\lambda x}\n",
    "\\end{equation*}"
   ]
  },
  {
   "cell_type": "markdown",
   "metadata": {
    "deletable": true,
    "editable": true
   },
   "source": [
    "### Time-series\n",
    "#### A time series is a series of data points indexed (or listed or graphed) in time order. A stationary process is a stochastic process whose unconditional joint probability distribution does not change when shifted in time. Dickey–Fuller test is used to check stationary of time series.\n",
    "\n",
    "#### Decomposition of time series is an important technique for all types of time series analysis. It seeks to construct a number of component series where each of these has a certaintype of behaviour. For example, time series are usually decomposed into:\n",
    "* #### Trend component at time t, which reflects the long-term progression of the series. A trend exists when there is a persistent increasing or decreasing direction in the data. The trend component does not have to be linear.\n",
    "* #### Cyclical component at time t, which reflects repeated but non-periodic fluctuations. The duration of these fluctuations is usually of at least two years.\n",
    "* #### Seasonal component at time t, reflecting seasonality. A seasonal pattern exists when a time series is influenced by seasonal factors. Seasonality occurs over a fixed and known period.\n",
    "* #### Irregular component (or \"noise\") at time t, which describes random, irregular influences. It represents the residuals or remainder of the time series after the other components have been removed.\n",
    "\n",
    "#### Exponential smoothing is a rule of thumb technique for smoothing time series data using the exponential window function. Whereas in the simple moving average the past observations are weighted equally, exponential functions are used to assign exponentially decreasing weights over time. \n",
    "#### Autocorrelation is the correlation of a signal with a delayed copy of itself as a function of delay. \n",
    "#### Autoregression is a model that depends linearly on its own previous values and constant.\n",
    "\n",
    "#### The moving-average model specifies that the output variable depends linearly on the current and various past values of a stochastic term.\n",
    "\n",
    "#### ARMA(p, q) is combination of two models above, where p is an amount of lags used AR model and q for MA model. ARIMA(p, d, q) is ARMA(p, q), where d is the degree of differencing (the number of times the data have had past values subtracted)."
   ]
  },
  {
   "cell_type": "markdown",
   "metadata": {
    "deletable": true,
    "editable": true
   },
   "source": []
  },
  {
   "cell_type": "markdown",
   "metadata": {
    "deletable": true,
    "editable": true
   },
   "source": []
  },
  {
   "cell_type": "markdown",
   "metadata": {
    "deletable": true,
    "editable": true
   },
   "source": []
  },
  {
   "cell_type": "markdown",
   "metadata": {
    "deletable": true,
    "editable": true
   },
   "source": []
  },
  {
   "cell_type": "markdown",
   "metadata": {
    "deletable": true,
    "editable": true
   },
   "source": []
  },
  {
   "cell_type": "markdown",
   "metadata": {
    "deletable": true,
    "editable": true
   },
   "source": []
  },
  {
   "cell_type": "markdown",
   "metadata": {
    "deletable": true,
    "editable": true
   },
   "source": []
  },
  {
   "cell_type": "markdown",
   "metadata": {
    "deletable": true,
    "editable": true
   },
   "source": []
  }
 ],
 "metadata": {
  "kernelspec": {
   "display_name": "Python 3",
   "language": "python",
   "name": "python3"
  },
  "language_info": {
   "codemirror_mode": {
    "name": "ipython",
    "version": 3
   },
   "file_extension": ".py",
   "mimetype": "text/x-python",
   "name": "python",
   "nbconvert_exporter": "python",
   "pygments_lexer": "ipython3",
   "version": "3.4.3"
  }
 },
 "nbformat": 4,
 "nbformat_minor": 2
}
